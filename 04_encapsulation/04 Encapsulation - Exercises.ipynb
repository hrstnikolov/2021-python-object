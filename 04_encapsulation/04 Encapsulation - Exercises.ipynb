{
 "cells": [
  {
   "cell_type": "code",
   "execution_count": null,
   "id": "bc58b923-6fce-469d-a02e-67d2450bd321",
   "metadata": {},
   "outputs": [],
   "source": []
  },
  {
   "cell_type": "markdown",
   "id": "39f3e22f-5bc8-4fcb-a39d-bcb7d61334a2",
   "metadata": {},
   "source": [
    "# 04 Encapsulation - Exercises"
   ]
  },
  {
   "cell_type": "markdown",
   "id": "881dbe9f-76d6-452b-9c8b-3255565d2caf",
   "metadata": {},
   "source": [
    "**Data Hiding**: Encapsulation allows you to hide the internal implementation details of a class and provide a clean interface for interacting with the object. By encapsulating data, you can prevent direct access to internal state and ensure that it is accessed and modified only through controlled methods.\n",
    "\n",
    "**Abstraction**: Encapsulation allows you to present a simplified view of an object to the outside world. By hiding complex implementation details, you can provide a high-level interface that abstracts away unnecessary complexities. This simplifies the usage of objects and promotes code reuse.\n",
    "\n",
    "**Modularity**: Encapsulation enables you to break down a system into modular components. Each class encapsulates its own data and behavior, which can be developed, tested, and maintained independently. This improves code organization, enhances code reusability, and makes the system more manageable.\n",
    "\n",
    "**Data Protection**: Encapsulation provides a level of protection to the internal data of an object. By encapsulating data and exposing it through controlled methods, you can apply validation, constraints, and business logic to ensure data integrity. This prevents unauthorized modifications and maintains the consistency of the object's state.\n",
    "\n",
    "**Flexibility and Maintainability**: Encapsulation allows you to modify the internal implementation of a class without affecting the code that uses the class. As long as the external interface remains unchanged, other parts of the code can remain unaffected by the modifications. This promotes flexibility, as you can enhance or refactor the internal implementation without impacting the code's dependents.\n",
    "\n",
    "**Code Organization and Readability**: Encapsulation improves the organization and readability of code. By grouping related data and behavior within a class, it becomes easier to understand and maintain the codebase. Encapsulation also promotes the use of descriptive method names, which makes the code more self-explanatory and easier to comprehend."
   ]
  },
  {
   "cell_type": "markdown",
   "id": "3a7b2318-629e-477e-b9a2-44b886ece4e0",
   "metadata": {
    "jp-MarkdownHeadingCollapsed": true,
    "tags": []
   },
   "source": [
    "## Non-public and private attrs"
   ]
  },
  {
   "cell_type": "code",
   "execution_count": 2,
   "id": "575846af-8c7d-4a71-a459-ec0aa94e2b21",
   "metadata": {},
   "outputs": [
    {
     "name": "stdout",
     "output_type": "stream",
     "text": [
      "{'capacity': 4, 'cost': 35000, '_expected_life': 40, '_Elevator__assembly_cost': 7000.0}\n"
     ]
    }
   ],
   "source": [
    "class Elevator:\n",
    "    def __init__(self, capacity, cost):\n",
    "        self.capacity = capacity\n",
    "        self.cost = cost\n",
    "\n",
    "        # Create non-public data attribute named _expected_life and set it to 40.\n",
    "        self._expected_life = 40\n",
    "\n",
    "        # Create hidden data attribute named __assembly_cost and set it to an expression.\n",
    "        self.__assembly_cost = 0.2 * cost\n",
    "\n",
    "\n",
    "basic_elevator = Elevator(4, 35_000)\n",
    "\n",
    "# From basic_elevator, get the dict attr, and show it on the screen.\n",
    "print(basic_elevator.__dict__)"
   ]
  },
  {
   "cell_type": "markdown",
   "id": "848fe84c-1004-4aeb-9029-c6242e085a16",
   "metadata": {
    "tags": []
   },
   "source": [
    "## Encapsulating an attr within a class"
   ]
  },
  {
   "cell_type": "markdown",
   "id": "ae1b55b3-e7f6-426a-a6ad-10e01cb15d7d",
   "metadata": {},
   "source": [
    "### Initial"
   ]
  },
  {
   "cell_type": "code",
   "execution_count": 14,
   "id": "cec90ef2-a460-4604-8894-543b507ba5e6",
   "metadata": {
    "tags": []
   },
   "outputs": [
    {
     "name": "stdout",
     "output_type": "stream",
     "text": [
      "11\n",
      "----------------------------------------\n",
      "20\n"
     ]
    }
   ],
   "source": [
    "class ApartmentBuilding:\n",
    "    def __init__(self, num_apartments):\n",
    "        self.num_apartments = num_apartments\n",
    "\n",
    "\n",
    "b1 = ApartmentBuilding(11)\n",
    "print(b1.num_apartments)\n",
    "\n",
    "print('-' * 40)\n",
    "\n",
    "b1.num_apartments = 20\n",
    "print(b1.num_apartments)"
   ]
  },
  {
   "cell_type": "markdown",
   "id": "4b055603-88ca-4af8-9192-7a9801037a75",
   "metadata": {},
   "source": [
    "### Change to private attr"
   ]
  },
  {
   "cell_type": "code",
   "execution_count": 28,
   "id": "917d5ffd-70dd-4938-8059-673a6a864c60",
   "metadata": {
    "tags": []
   },
   "outputs": [
    {
     "name": "stdout",
     "output_type": "stream",
     "text": [
      "----------------------------------------\n"
     ]
    },
    {
     "data": {
      "text/plain": [
       "11"
      ]
     },
     "execution_count": 28,
     "metadata": {},
     "output_type": "execute_result"
    }
   ],
   "source": [
    "class ApartmentBuilding:\n",
    "    def __init__(self, num_apartments):\n",
    "        self.__num_apartments = num_apartments\n",
    "\n",
    "\n",
    "b1 = ApartmentBuilding(11)\n",
    "# print(b1.__num_apartments)  # AttributeError; no longer accessible outside the class\n",
    "\n",
    "print('-' * 40)\n",
    "\n",
    "# b1.num_apartments = 20  # AttributeError; no longer accessible outside the class\n",
    "# print(b1.num_apartments)\n",
    "\n",
    "b1._ApartmentBuilding__num_apartments  # Possible, but not intended. Also ugly."
   ]
  },
  {
   "cell_type": "markdown",
   "id": "d6a6d11b-e35f-46f2-b0a0-3f4ec6c12f18",
   "metadata": {},
   "source": [
    "### Non-pythonic getter and setter\n",
    "\n",
    "For the `num_appartmets` attr, we want to add:\n",
    "- a validation that it is an integer\n",
    "- when accessed, return a range: '0-20' or '>20' instead of the actual value\n",
    "\n",
    "To achieve the above, we will make the `num_appartmets` attr private. This requires the following changes in the current code:\n",
    "- update the assignment in init\n",
    "- update how the attr is accessed - now using getter and setter methods"
   ]
  },
  {
   "cell_type": "code",
   "execution_count": 15,
   "id": "3240b76a-871b-4f55-88e4-355e3211e69d",
   "metadata": {
    "tags": []
   },
   "outputs": [
    {
     "name": "stdout",
     "output_type": "stream",
     "text": [
      "0-20\n",
      "----------------------------------------\n",
      ">20\n"
     ]
    }
   ],
   "source": [
    "class ApartmentBuilding:\n",
    "    def __init__(self, num_apartments):\n",
    "        self.set_num_apartments(num_apartments)  # new\n",
    "\n",
    "    @staticmethod\n",
    "    def __validate_num_apartments(value):\n",
    "        if not isinstance(value, int):\n",
    "            raise ValueError('The number of appartments must be an integer.')\n",
    "\n",
    "    def set_num_apartments(self, value):\n",
    "        self.__validate_num_apartments(value)\n",
    "        self.__num_apartments = value\n",
    "\n",
    "    def get_num_apartments(self):\n",
    "        if 0 < self.__num_apartments < 20:\n",
    "            return '0-20'\n",
    "        else:\n",
    "            return '>20'\n",
    "\n",
    "\n",
    "b1 = ApartmentBuilding(11)\n",
    "\n",
    "# Access the num_apartments field using its getter method.\n",
    "print(b1.get_num_apartments())  # new\n",
    "\n",
    "print('-'*40)\n",
    "\n",
    "# Change the num_apartments attr using its setter method.\n",
    "b1.set_num_apartments(24)  # new\n",
    "print(b1.get_num_apartments())"
   ]
  },
  {
   "cell_type": "markdown",
   "id": "d88de4e6-1601-4664-85c7-a10ca272d017",
   "metadata": {},
   "source": [
    "### Pythonic getter and setter\n",
    "\n",
    "To get the same effect as above, we can also use property.\n",
    "\n",
    "However, with property, both changes in the code init and accesing the attr of instances) are **no longer needed**.\n",
    "\n",
    "We **extend** rather than **change current**."
   ]
  },
  {
   "cell_type": "code",
   "execution_count": 18,
   "id": "70451dac-0a1b-49c3-9e51-78302a279c36",
   "metadata": {
    "tags": []
   },
   "outputs": [
    {
     "name": "stdout",
     "output_type": "stream",
     "text": [
      "0-20\n",
      "----------------------------------------\n",
      ">20\n"
     ]
    }
   ],
   "source": [
    "class ApartmentBuilding:\n",
    "    def __init__(self, num_apartments):\n",
    "        self.num_apartments = num_apartments  # no changes!! GOOD!\n",
    "    \n",
    "    @staticmethod\n",
    "    def __validate_num_apartments(value):\n",
    "        if not isinstance(value, int):\n",
    "            raise ValueError('The number of appartments must be an integer.')\n",
    "    \n",
    "    @property\n",
    "    def num_apartments(self):\n",
    "        if 0 < self.__num_apartments < 20:\n",
    "            return '0-20'\n",
    "        else:\n",
    "            return '>20'\n",
    "        \n",
    "    @num_apartments.setter\n",
    "    def num_apartments(self, value):\n",
    "        self.__validate_num_apartments(value)\n",
    "        self.__num_apartments = value\n",
    "        \n",
    "\n",
    "b1 = ApartmentBuilding(11)\n",
    "print(b1.num_apartments)  # no changes!! GOOD!\n",
    "\n",
    "print('-' * 40)\n",
    "\n",
    "b1.num_apartments = 20  # no changes!! GOOD!\n",
    "print(b1.num_apartments)"
   ]
  },
  {
   "cell_type": "markdown",
   "id": "253cf0c5-07a0-445f-a5c4-08e950400f80",
   "metadata": {
    "jp-MarkdownHeadingCollapsed": true,
    "tags": []
   },
   "source": [
    "## Data hiding"
   ]
  },
  {
   "cell_type": "markdown",
   "id": "44bc0479-a72e-4c8f-975f-7a2581ade0fc",
   "metadata": {},
   "source": [
    "In this example, the `__balance` attribute is encapsulated within the BankAccount class. It cannot be directly accessed or modified from outside the class. Instead, it can only be accessed through the `get_balance()` method, ensuring controlled access to the account balance."
   ]
  },
  {
   "cell_type": "code",
   "execution_count": 9,
   "id": "1df7c7b1-7c5c-4e67-a93d-6a12da7d5785",
   "metadata": {},
   "outputs": [
    {
     "name": "stdout",
     "output_type": "stream",
     "text": [
      "1000\n",
      "1000\n"
     ]
    },
    {
     "data": {
      "text/plain": [
       "{'account_number': '1234567890',\n",
       " '_BankAccount__balance': 1000,\n",
       " '__balance': 5000}"
      ]
     },
     "execution_count": 9,
     "metadata": {},
     "output_type": "execute_result"
    }
   ],
   "source": [
    "class BankAccount:\n",
    "    def __init__(self, account_number, balance):\n",
    "        self.account_number = account_number\n",
    "        self.__balance = balance\n",
    "\n",
    "    def deposit(self, amount):\n",
    "        self.__balance += amount\n",
    "\n",
    "    def withdraw(self, amount):\n",
    "        if amount <= self.__balance:\n",
    "            self.__balance -= amount\n",
    "        else:\n",
    "            print(\"Insufficient funds!\")\n",
    "\n",
    "    def get_balance(self):\n",
    "        return self.__balance\n",
    "\n",
    "\n",
    "account = BankAccount(\"1234567890\", 1000)\n",
    "print(account.get_balance())  # Output: 1000\n",
    "\n",
    "# Attempting to modify the balance directly, new attribute is created instead\n",
    "account.__balance = 5000\n",
    "print(account.get_balance())  # Output: 1000\n",
    "\n",
    "account.__dict__"
   ]
  },
  {
   "cell_type": "markdown",
   "id": "02e39961-fb22-4a7b-ab66-345def1dba34",
   "metadata": {},
   "source": [
    "## Heading"
   ]
  },
  {
   "cell_type": "code",
   "execution_count": null,
   "id": "520fad29-2967-4578-b057-9045f01e473b",
   "metadata": {},
   "outputs": [],
   "source": []
  },
  {
   "cell_type": "markdown",
   "id": "297e4b26-31fb-4aa3-b88f-2eea1a36ab13",
   "metadata": {},
   "source": [
    "## Heading"
   ]
  },
  {
   "cell_type": "code",
   "execution_count": null,
   "id": "a7693036-df5b-4bc5-8ab2-5acd8ba4a365",
   "metadata": {},
   "outputs": [],
   "source": []
  },
  {
   "cell_type": "markdown",
   "id": "68560d10-c052-47c3-9b5b-e0e63bf47550",
   "metadata": {},
   "source": [
    "## Heading"
   ]
  },
  {
   "cell_type": "code",
   "execution_count": null,
   "id": "025677ad-cf0e-4229-b545-a49e7837c9bc",
   "metadata": {},
   "outputs": [],
   "source": []
  }
 ],
 "metadata": {
  "kernelspec": {
   "display_name": "Python 3 (ipykernel)",
   "language": "python",
   "name": "python3"
  },
  "language_info": {
   "codemirror_mode": {
    "name": "ipython",
    "version": 3
   },
   "file_extension": ".py",
   "mimetype": "text/x-python",
   "name": "python",
   "nbconvert_exporter": "python",
   "pygments_lexer": "ipython3",
   "version": "3.10.10"
  }
 },
 "nbformat": 4,
 "nbformat_minor": 5
}

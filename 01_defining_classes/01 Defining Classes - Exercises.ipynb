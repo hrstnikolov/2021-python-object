{
 "cells": [
  {
   "cell_type": "code",
   "execution_count": 36,
   "id": "462e384a-e4db-4823-8209-4beb4e03a34e",
   "metadata": {},
   "outputs": [],
   "source": [
    "from typing import List, Dict, Optional\n",
    "import textwrap"
   ]
  },
  {
   "cell_type": "markdown",
   "id": "8fe5cc28-5ae6-460c-89a4-f659e8442955",
   "metadata": {},
   "source": [
    "# 01 Defining Classes - Exercises"
   ]
  },
  {
   "cell_type": "markdown",
   "id": "74bf729b-93ac-4bd6-afd0-eb0918766148",
   "metadata": {
    "tags": []
   },
   "source": [
    "## 09 Todo list"
   ]
  },
  {
   "cell_type": "markdown",
   "id": "0eb5aa6d-9ea5-4ace-bfce-5dd3c1d56404",
   "metadata": {
    "tags": []
   },
   "source": [
    "### 2023-05-29"
   ]
  },
  {
   "cell_type": "code",
   "execution_count": 47,
   "id": "48eddf5e-bc58-4217-a441-f889470581d5",
   "metadata": {},
   "outputs": [],
   "source": [
    "class Task:\n",
    "    def __init__(self, name: str, due_date: str) -> None:\n",
    "        self.name = name\n",
    "        self.due_date = due_date\n",
    "        self.comments: List[str] = []\n",
    "        self.completed: Bool = False\n",
    "\n",
    "    # def __eq__(self, other):\n",
    "    #     if all([self.name == other.name, self.due_date == other.due_date]):\n",
    "    #         return True\n",
    "    #     return False\n",
    "\n",
    "    def is_completed(self):\n",
    "        return self.completed\n",
    "\n",
    "    def complete_task(self):\n",
    "        self.completed = True\n",
    "\n",
    "    def change_name(self, new_name: str):\n",
    "        self.name = new_name\n",
    "\n",
    "    def change_due_date(self, new_date: str):\n",
    "        self.due_date = new_date\n",
    "\n",
    "    def add_comment(self, comment: str):\n",
    "        self.comments.append(comment)\n",
    "\n",
    "    def edit_comment(self, comment_number: int, new_comment: str) -> str:\n",
    "        try:\n",
    "            self.comments[comment_number] = new_comment\n",
    "            return f'Successfully updated comment number {comment_number}'\n",
    "\n",
    "        except IndexError:\n",
    "            return f'No comment with number {comment_number}.'\n",
    "\n",
    "    def details(self) -> str:\n",
    "        return f'Name: {self.name}\\ndue by: {self.due_date}\\ncomments: {self.comments}\\ncompleted: {self.completed}'"
   ]
  },
  {
   "cell_type": "code",
   "execution_count": 30,
   "id": "a0d80953-5bb8-4f6d-8d61-cc84e646201c",
   "metadata": {
    "tags": []
   },
   "outputs": [
    {
     "name": "stdout",
     "output_type": "stream",
     "text": [
      "Name: wash the car exterior\n",
      "due by: 2023-06-10\n",
      "comments: []\n",
      "completed: False\n",
      "\n",
      "Name: wash the WHOLE car, including the interior\n",
      "due by: 2023-06-25\n",
      "comments: []\n",
      "completed: False\n",
      "\n",
      "Name: wash the WHOLE car, including the interior\n",
      "due by: 2023-06-25\n",
      "comments: ['2023-05-20: Did only the exterior.']\n",
      "completed: False\n",
      "\n",
      "Name: wash the WHOLE car, including the interior\n",
      "due by: 2023-06-25\n",
      "comments: ['2023-05-20: Did only the exterior. Have no vaccuum. Continue next week.']\n",
      "completed: False\n",
      "\n",
      "Name: wash the WHOLE car, including the interior\n",
      "due by: 2023-06-25\n",
      "comments: ['2023-05-20: Did only the exterior. Have no vaccuum. Continue next week.', '2023-05-27: All done, bought new vacuum.']\n",
      "completed: False\n",
      "\n",
      "Name: wash the WHOLE car, including the interior\n",
      "due by: 2023-06-25\n",
      "comments: ['2023-05-20: Did only the exterior. Have no vaccuum. Continue next week.', '2023-05-27: All done, bought new vacuum.']\n",
      "completed: True\n",
      "\n"
     ]
    }
   ],
   "source": [
    "task1 = Task('wash the car exterior', '2023-06-10')\n",
    "print(task1.details())\n",
    "print()\n",
    "\n",
    "task1.change_name('wash the WHOLE car, including the interior')\n",
    "task1.change_due_date('2023-06-25')\n",
    "print(task1.details())\n",
    "print()\n",
    "\n",
    "task1.add_comment('2023-05-20: Did only the exterior.')\n",
    "print(task1.details())\n",
    "print()\n",
    "\n",
    "task1.edit_comment(\n",
    "    comment_number=0, new_comment='2023-05-20: Did only the exterior. Have no vaccuum. Continue next week.')\n",
    "print(task1.details())\n",
    "print()\n",
    "\n",
    "task1.add_comment('2023-05-27: All done, bought new vacuum.')\n",
    "print(task1.details())\n",
    "print()\n",
    "\n",
    "task1.complete_task()\n",
    "print(task1.details())\n",
    "print()"
   ]
  },
  {
   "cell_type": "code",
   "execution_count": 32,
   "id": "852bcfbd-73fa-4cd6-ab63-17c63d42ae8c",
   "metadata": {},
   "outputs": [
    {
     "data": {
      "text/plain": [
       "False"
      ]
     },
     "execution_count": 32,
     "metadata": {},
     "output_type": "execute_result"
    }
   ],
   "source": [
    "task2 = Task('shop groceries', '2023-05-31')\n",
    "task3 = Task('shop groceries', '2023-05-31')\n",
    "\n",
    "task2 == task3"
   ]
  },
  {
   "cell_type": "code",
   "execution_count": 65,
   "id": "ddc377ed-8dda-475c-9537-d9952e18ac51",
   "metadata": {},
   "outputs": [],
   "source": [
    "class Section:\n",
    "    def __init__(self, name: str):\n",
    "        self.name: str = name\n",
    "        self.tasks: List[Task] = []\n",
    "\n",
    "    def filter_completed_tasks(self) -> List[Task]:\n",
    "        return [t for t in self.tasks if not t.is_completed()]\n",
    "\n",
    "    def filter_tasks_by_name(self, task_name: str) -> List[Task]:\n",
    "        return [t for t in self.tasks if t.name == task_name]\n",
    "\n",
    "    def add_task(self, new_task: Task):\n",
    "        if new_task in self.tasks:\n",
    "            return f\"{new_task.name} is already added.\"\n",
    "        self.tasks.append(new_task)\n",
    "        return 'Task was successfully added.'\n",
    "\n",
    "    def complete_task(self, task_name):\n",
    "        matching_tasks = self.filter_tasks_by_name(task_name)\n",
    "        for t in matching_tasks:\n",
    "            t.complete_task()\n",
    "\n",
    "    def clean_section(self) -> str:\n",
    "        self.tasks = self.filter_completed_tasks()\n",
    "        return 'Removed completed tasks.'\n",
    "\n",
    "    def view_section(self, ):\n",
    "        result = f'Section {self.name}\\n--------\\n\\n'\n",
    "\n",
    "        # Add tasks to print.\n",
    "        if not self.tasks:\n",
    "            result += 'No tasks.'\n",
    "        else:\n",
    "            for t in self.tasks:\n",
    "                result += t.details()\n",
    "                result += '\\n\\n'\n",
    "\n",
    "        return result"
   ]
  },
  {
   "cell_type": "code",
   "execution_count": 56,
   "id": "26f1e396-578c-4795-b924-952739d0c402",
   "metadata": {},
   "outputs": [
    {
     "name": "stdout",
     "output_type": "stream",
     "text": [
      "Section Family\n",
      "--------\n",
      "\n",
      "Name: visit grandpa\n",
      "due by: 2023-06-12\n",
      "comments: []\n",
      "completed: False\n",
      "\n",
      "Name: feed the cat\n",
      "due by: 2023-05-30\n",
      "comments: []\n",
      "completed: False\n",
      "\n",
      "Name: take out the kids\n",
      "due by: 2023-06-05\n",
      "comments: []\n",
      "completed: False\n",
      "\n",
      "\n"
     ]
    }
   ],
   "source": [
    "# Set family to an instance of class Section.\n",
    "family = Section('Family')\n",
    "\n",
    "# Set todo1-3 to instances of class Task.\n",
    "todo1 = Task('visit grandpa', '2023-06-12')\n",
    "todo2 = Task('feed the cat', '2023-05-30')\n",
    "todo3 = Task('take out the kids', '2023-06-05')\n",
    "\n",
    "# Add two tasks to family.\n",
    "# From family, get the add_task method and call it with argument todo1.\n",
    "family.add_task(todo1)\n",
    "family.add_task(todo2)\n",
    "family.add_task(todo3)\n",
    "print(family.view_section())"
   ]
  },
  {
   "cell_type": "code",
   "execution_count": 57,
   "id": "01f3d8d6-27a0-4b45-8038-e82c41b586f2",
   "metadata": {},
   "outputs": [
    {
     "name": "stdout",
     "output_type": "stream",
     "text": [
      "Section Family\n",
      "--------\n",
      "\n",
      "Name: visit grandpa\n",
      "due by: 2023-06-12\n",
      "comments: []\n",
      "completed: False\n",
      "\n",
      "Name: take out the kids\n",
      "due by: 2023-06-05\n",
      "comments: []\n",
      "completed: False\n",
      "\n",
      "\n"
     ]
    }
   ],
   "source": [
    "# Complete a task and remove it from the family section.\n",
    "# From todo2, get the complete_task method and call it with no args.\n",
    "todo2.complete_task()\n",
    "family.tasks = family.filter_completed_tasks()\n",
    "print(family.view_section())"
   ]
  },
  {
   "cell_type": "code",
   "execution_count": 58,
   "id": "d9eff541-340e-4c28-b438-199fd3b64b85",
   "metadata": {},
   "outputs": [
    {
     "name": "stdout",
     "output_type": "stream",
     "text": [
      "Section Family\n",
      "--------\n",
      "\n",
      "Name: take out the kids\n",
      "due by: 2023-06-05\n",
      "comments: []\n",
      "completed: False\n",
      "\n",
      "\n"
     ]
    }
   ],
   "source": [
    "# Filter by name.\n",
    "family.add_task(todo2)\n",
    "family.tasks = family.filter_tasks_by_name('take out the kids')\n",
    "print(family.view_section())"
   ]
  },
  {
   "cell_type": "code",
   "execution_count": 59,
   "id": "ae7fc91c-e756-432b-9e0f-c37617a52ec6",
   "metadata": {},
   "outputs": [
    {
     "name": "stdout",
     "output_type": "stream",
     "text": [
      "Section Family\n",
      "--------\n",
      "\n",
      "No tasks.\n"
     ]
    }
   ],
   "source": [
    "# Filter by name, name does not exist.\n",
    "family.add_task(todo2)\n",
    "family.tasks = family.filter_tasks_by_name('askdasklda')\n",
    "print(family.view_section())"
   ]
  },
  {
   "cell_type": "code",
   "execution_count": 66,
   "id": "5f530fcb-197f-4659-947b-369f8dc16eb3",
   "metadata": {},
   "outputs": [
    {
     "name": "stdout",
     "output_type": "stream",
     "text": [
      "Section Work\n",
      "--------\n",
      "\n",
      "Name: do report\n",
      "due by: 2023-06-12\n",
      "comments: []\n",
      "completed: True\n",
      "\n",
      "Name: do report\n",
      "due by: 2023-08-30\n",
      "comments: []\n",
      "completed: True\n",
      "\n",
      "Name: make presentation\n",
      "due by: 2023-06-05\n",
      "comments: []\n",
      "completed: False\n",
      "\n",
      "\n",
      "Section Work\n",
      "--------\n",
      "\n",
      "Name: make presentation\n",
      "due by: 2023-06-05\n",
      "comments: []\n",
      "completed: False\n",
      "\n",
      "\n"
     ]
    }
   ],
   "source": [
    "# Test `complete_tasks` and `clean section` methods.\n",
    "work = Section('Work')\n",
    "\n",
    "tasks = [\n",
    "    Task('do report', '2023-06-12'),\n",
    "    Task('do report', '2023-08-30'),  # same name\n",
    "    Task('make presentation', '2023-06-05'),\n",
    "]\n",
    "\n",
    "\n",
    "# Complete some tasks.\n",
    "[work.add_task(t) for t in tasks]\n",
    "work.complete_task(task_name='do report')\n",
    "print(work.view_section())\n",
    "\n",
    "# Clean (=remove completed tasks).\n",
    "work.clean_section()\n",
    "print(work.view_section())"
   ]
  },
  {
   "cell_type": "markdown",
   "id": "5674919c-dc67-45e4-acfa-36edf96203f3",
   "metadata": {},
   "source": [
    "## End"
   ]
  }
 ],
 "metadata": {
  "kernelspec": {
   "display_name": "Python 3 (ipykernel)",
   "language": "python",
   "name": "python3"
  },
  "language_info": {
   "codemirror_mode": {
    "name": "ipython",
    "version": 3
   },
   "file_extension": ".py",
   "mimetype": "text/x-python",
   "name": "python",
   "nbconvert_exporter": "python",
   "pygments_lexer": "ipython3",
   "version": "3.10.10"
  }
 },
 "nbformat": 4,
 "nbformat_minor": 5
}

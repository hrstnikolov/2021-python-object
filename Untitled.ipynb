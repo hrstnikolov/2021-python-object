{
 "cells": [
  {
   "cell_type": "code",
   "execution_count": 6,
   "id": "147e1964-f0a1-48fd-a713-55d70b9fb7ab",
   "metadata": {},
   "outputs": [],
   "source": [
    "from textwrap import dedent"
   ]
  },
  {
   "cell_type": "code",
   "execution_count": 4,
   "id": "6beb6744-f5d8-4b30-84e3-56d3bfd32b7a",
   "metadata": {},
   "outputs": [],
   "source": [
    "\n",
    "\n",
    "a = \"\"\"\n",
    "            Player: {self.name}\n",
    "            Endurance: {self.endurance}\n",
    "            Sprint: {self.sprint}\n",
    "            Dribble: {self.dribble}\n",
    "            Passing: {self.passing}\n",
    "            Shooting: {self.shooting}\n",
    "        \"\"\""
   ]
  },
  {
   "cell_type": "code",
   "execution_count": 5,
   "id": "0efedea0-78b5-4df2-846b-c30df191b97d",
   "metadata": {},
   "outputs": [
    {
     "name": "stdout",
     "output_type": "stream",
     "text": [
      "\n",
      "            Player: {self.name}\n",
      "            Endurance: {self.endurance}\n",
      "            Sprint: {self.sprint}\n",
      "            Dribble: {self.dribble}\n",
      "            Passing: {self.passing}\n",
      "            Shooting: {self.shooting}\n",
      "        \n"
     ]
    }
   ],
   "source": [
    "print(a)"
   ]
  },
  {
   "cell_type": "code",
   "execution_count": 7,
   "id": "cc51763d-fe1f-44a9-bb59-890c57620ade",
   "metadata": {},
   "outputs": [
    {
     "data": {
      "text/plain": [
       "'\\nPlayer: {self.name}\\nEndurance: {self.endurance}\\nSprint: {self.sprint}\\nDribble: {self.dribble}\\nPassing: {self.passing}\\nShooting: {self.shooting}\\n'"
      ]
     },
     "execution_count": 7,
     "metadata": {},
     "output_type": "execute_result"
    }
   ],
   "source": [
    "dedent(a)"
   ]
  },
  {
   "cell_type": "code",
   "execution_count": 8,
   "id": "bf84f434-d22f-4228-9ce4-420424b7f7af",
   "metadata": {},
   "outputs": [
    {
     "data": {
      "text/plain": [
       "'\\n            Player: {self.name}\\n            Endurance: {self.endurance}\\n            Sprint: {self.sprint}\\n            Dribble: {self.dribble}\\n            Passing: {self.passing}\\n            Shooting: {self.shooting}\\n        '"
      ]
     },
     "execution_count": 8,
     "metadata": {},
     "output_type": "execute_result"
    }
   ],
   "source": [
    "a"
   ]
  },
  {
   "cell_type": "code",
   "execution_count": 9,
   "id": "88789ad3-de1f-4ccb-a18a-de1b6649fc78",
   "metadata": {},
   "outputs": [
    {
     "name": "stdout",
     "output_type": "stream",
     "text": [
      "\n",
      "Player: {self.name}\n",
      "Endurance: {self.endurance}\n",
      "Sprint: {self.sprint}\n",
      "Dribble: {self.dribble}\n",
      "Passing: {self.passing}\n",
      "Shooting: {self.shooting}\n",
      "\n"
     ]
    }
   ],
   "source": [
    "print(dedent(a))"
   ]
  },
  {
   "cell_type": "code",
   "execution_count": 10,
   "id": "6fb44351-787b-496b-81a7-2eb91d9032c8",
   "metadata": {},
   "outputs": [
    {
     "name": "stdout",
     "output_type": "stream",
     "text": [
      "Player: {self.name}\n",
      "       Endurance: {self.endurance}\n",
      "       Sprint: {self.sprint}\n",
      "       Dribble: {self.dribble}\n",
      "       Passing: {self.passing}\n",
      "       Shooting: {self.shooting}\n",
      "\n",
      "Player: {self.name}\n",
      "       Endurance: {self.endurance}\n",
      "       Sprint: {self.sprint}\n",
      "       Dribble: {self.dribble}\n",
      "       Passing: {self.passing}\n",
      "       Shooting: {self.shooting}\n",
      "\n"
     ]
    }
   ],
   "source": [
    "b = \"\"\"Player: {self.name}\n",
    "       Endurance: {self.endurance}\n",
    "       Sprint: {self.sprint}\n",
    "       Dribble: {self.dribble}\n",
    "       Passing: {self.passing}\n",
    "       Shooting: {self.shooting}\n",
    "\"\"\"\n",
    "\n",
    "print(b)\n",
    "print(dedent(b))"
   ]
  },
  {
   "cell_type": "code",
   "execution_count": 11,
   "id": "56b39818-149e-41e1-a51b-9611a1a8f66c",
   "metadata": {},
   "outputs": [
    {
     "data": {
      "text/plain": [
       "'Player: {self.name}\\n       Endurance: {self.endurance}\\n       Sprint: {self.sprint}\\n       Dribble: {self.dribble}\\n       Passing: {self.passing}\\n       Shooting: {self.shooting}\\n'"
      ]
     },
     "execution_count": 11,
     "metadata": {},
     "output_type": "execute_result"
    }
   ],
   "source": [
    "dedent(b)"
   ]
  },
  {
   "cell_type": "code",
   "execution_count": 17,
   "id": "e0529001-b792-4f73-bf89-f62612300bbe",
   "metadata": {},
   "outputs": [
    {
     "name": "stdout",
     "output_type": "stream",
     "text": [
      "\n",
      "Player: {self.name}\n",
      "Endurance: {self.endurance}\n",
      "Sprint: {self.sprint}\n",
      "Dribble: {self.dribble}\n",
      "Passing: {self.passing}\n",
      "Shooting: {self.shooting}\n",
      "\n"
     ]
    }
   ],
   "source": [
    "lines = dedent(\"\"\"\n",
    "    Player: {self.name}\n",
    "    Endurance: {self.endurance}\n",
    "    Sprint: {self.sprint}\n",
    "    Dribble: {self.dribble}\n",
    "    Passing: {self.passing}\n",
    "    Shooting: {self.shooting}\n",
    "\"\"\")\n",
    "print(lines)"
   ]
  },
  {
   "cell_type": "code",
   "execution_count": 18,
   "id": "5b6c8435-cb5f-4910-ae5e-fccb99b45d77",
   "metadata": {},
   "outputs": [
    {
     "name": "stdout",
     "output_type": "stream",
     "text": [
      "Player: {self.name}\n",
      "Endurance: {self.endurance}\n",
      "Sprint: {self.sprint}\n",
      "Dribble: {self.dribble}\n",
      "Passing: {self.passing}\n",
      "Shooting: {self.shooting}\n"
     ]
    }
   ],
   "source": [
    "print(lines.strip())"
   ]
  },
  {
   "cell_type": "code",
   "execution_count": 19,
   "id": "e7d087c9-8c75-4324-96c9-348a26fd12ff",
   "metadata": {},
   "outputs": [
    {
     "name": "stdout",
     "output_type": "stream",
     "text": [
      "Player: {self.name}\n",
      "Endurance: {self.endurance}\n",
      "Sprint: {self.sprint}\n",
      "Dribble: {self.dribble}\n",
      "Passing: {self.passing}\n",
      "Shooting: {self.shooting}\n",
      "\n"
     ]
    }
   ],
   "source": [
    "print(lines.lstrip())"
   ]
  },
  {
   "cell_type": "code",
   "execution_count": 20,
   "id": "88ad819b-1f86-4618-953e-1159b6966a2e",
   "metadata": {},
   "outputs": [
    {
     "name": "stdout",
     "output_type": "stream",
     "text": [
      "\n",
      "Player: {self.name}\n",
      "Endurance: {self.endurance}\n",
      "Sprint: {self.sprint}\n",
      "Dribble: {self.dribble}\n",
      "Passing: {self.passing}\n",
      "Shooting: {self.shooting}\n"
     ]
    }
   ],
   "source": [
    "print(lines.rstrip())"
   ]
  },
  {
   "cell_type": "code",
   "execution_count": 24,
   "id": "c184683a-a55c-4bac-9595-255ab5feee95",
   "metadata": {},
   "outputs": [
    {
     "name": "stdout",
     "output_type": "stream",
     "text": [
      "\n",
      "    indented second line  \n",
      "third line\n",
      "\n"
     ]
    }
   ],
   "source": [
    "s = '\\n    indented second line  \\nthird line\\n'\n",
    "print(s)"
   ]
  },
  {
   "cell_type": "code",
   "execution_count": null,
   "id": "d7cb1df6-c3ea-4f0b-991c-5896b659cfc5",
   "metadata": {},
   "outputs": [],
   "source": []
  }
 ],
 "metadata": {
  "kernelspec": {
   "display_name": "Python 3 (ipykernel)",
   "language": "python",
   "name": "python3"
  },
  "language_info": {
   "codemirror_mode": {
    "name": "ipython",
    "version": 3
   },
   "file_extension": ".py",
   "mimetype": "text/x-python",
   "name": "python",
   "nbconvert_exporter": "python",
   "pygments_lexer": "ipython3",
   "version": "3.10.10"
  }
 },
 "nbformat": 4,
 "nbformat_minor": 5
}

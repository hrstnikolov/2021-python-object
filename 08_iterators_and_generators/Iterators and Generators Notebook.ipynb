{
 "cells": [
  {
   "cell_type": "code",
   "execution_count": 89,
   "id": "9a36b79d-03b5-46fc-a784-e6efe8bdcd7a",
   "metadata": {
    "pycharm": {
     "name": "#%%\n"
    }
   },
   "outputs": [],
   "source": [
    "from math import sqrt\n",
    "from itertools import permutations"
   ]
  },
  {
   "cell_type": "markdown",
   "id": "4432d45e-7a27-48c3-848d-9bc846efa369",
   "metadata": {
    "pycharm": {
     "name": "#%% md\n"
    }
   },
   "source": [
    "# Iterators and Generators"
   ]
  },
  {
   "cell_type": "markdown",
   "id": "359b848c-9efd-4bb2-bf64-de27fee552b4",
   "metadata": {
    "pycharm": {
     "name": "#%% md\n"
    }
   },
   "source": [
    "## Lecture"
   ]
  },
  {
   "cell_type": "markdown",
   "id": "1b6bdf71-e087-47b5-ab06-77ec5ac665d2",
   "metadata": {
    "pycharm": {
     "name": "#%% md\n"
    }
   },
   "source": [
    "### Generators"
   ]
  },
  {
   "cell_type": "code",
   "execution_count": 32,
   "id": "5910087d-36ca-43b8-942a-6bd740e8d36d",
   "metadata": {
    "pycharm": {
     "name": "#%%\n"
    }
   },
   "outputs": [
    {
     "data": {
      "text/plain": [
       "(function, generator)"
      ]
     },
     "execution_count": 32,
     "metadata": {},
     "output_type": "execute_result"
    }
   ],
   "source": [
    "def f():\n",
    "    yield 2\n",
    "\n",
    "type(f), type(f())"
   ]
  },
  {
   "cell_type": "markdown",
   "id": "50f9815b-ad2a-4a81-95da-6c65ff1cbcf2",
   "metadata": {
    "pycharm": {
     "name": "#%% md\n"
    }
   },
   "source": [
    "Generator function contains one or more yield statements.\n",
    "\n",
    "It returns an iterator but does not start execution immediately \n",
    "\n",
    "Methods like `__iter__()` and `__next__()` are implemented automatically"
   ]
  },
  {
   "cell_type": "code",
   "execution_count": 34,
   "id": "a1010c7b-0453-4548-9dea-036c44972977",
   "metadata": {
    "pycharm": {
     "name": "#%%\n"
    }
   },
   "outputs": [
    {
     "data": {
      "text/plain": [
       "(__main__.CustomRange, method, generator)"
      ]
     },
     "execution_count": 34,
     "metadata": {},
     "output_type": "execute_result"
    }
   ],
   "source": [
    "class CustomRange:\n",
    "    def __init__(self, start, end):\n",
    "        self.start = start\n",
    "        self.end = end\n",
    "        self.value = start\n",
    "        \n",
    "    def __iter__(self):\n",
    "        index = 0\n",
    "        while index < self.end:\n",
    "            yield index\n",
    "            index += 1\n",
    "\n",
    "\n",
    "x = CustomRange(1, 3)\n",
    "\n",
    "type(x), type(x.__iter__), type(iter(x))"
   ]
  },
  {
   "cell_type": "code",
   "execution_count": 39,
   "id": "e7cc470d-11e7-43bd-a7f2-4d193e894eee",
   "metadata": {
    "pycharm": {
     "name": "#%%\n"
    }
   },
   "outputs": [
    {
     "data": {
      "text/plain": [
       "(function, generator)"
      ]
     },
     "execution_count": 39,
     "metadata": {},
     "output_type": "execute_result"
    }
   ],
   "source": [
    "def my_gen():\n",
    "    n = 1\n",
    "    print('This is printed first')\n",
    "    yield n\n",
    "\n",
    "    n += 1\n",
    "    print('This is printed second')\n",
    "    yield n\n",
    "\n",
    "    n += 1\n",
    "    print('This is printed at last')\n",
    "    yield n\n",
    "\n",
    "type(my_gen), type(my_gen())"
   ]
  },
  {
   "cell_type": "code",
   "execution_count": 40,
   "id": "f39b40d2-e465-428a-9dbf-2ea06b76ab6a",
   "metadata": {
    "pycharm": {
     "name": "#%%\n"
    }
   },
   "outputs": [
    {
     "data": {
      "text/plain": [
       "<generator object my_gen at 0x000001E320FF77B0>"
      ]
     },
     "execution_count": 40,
     "metadata": {},
     "output_type": "execute_result"
    }
   ],
   "source": [
    "my_gen()"
   ]
  },
  {
   "cell_type": "code",
   "execution_count": 41,
   "id": "6dd5b4ed-bb73-449b-b9ce-98c5d0ac314e",
   "metadata": {
    "pycharm": {
     "name": "#%%\n"
    }
   },
   "outputs": [
    {
     "name": "stdout",
     "output_type": "stream",
     "text": [
      "This is printed first\n",
      "This is printed second\n",
      "This is printed at last\n"
     ]
    }
   ],
   "source": [
    "for i in my_gen():\n",
    "    pass"
   ]
  },
  {
   "cell_type": "code",
   "execution_count": 43,
   "id": "22876d72-c7e1-4780-b66f-34052693a930",
   "metadata": {
    "pycharm": {
     "name": "#%%\n"
    }
   },
   "outputs": [
    {
     "name": "stdout",
     "output_type": "stream",
     "text": [
      "This is printed first\n",
      "1\n",
      "This is printed second\n",
      "2\n",
      "This is printed at last\n",
      "3\n"
     ]
    }
   ],
   "source": [
    "for i in my_gen():\n",
    "    print(i)"
   ]
  },
  {
   "cell_type": "markdown",
   "id": "bf364ec6-44cf-4c5a-9ae1-6fb578fe7203",
   "metadata": {
    "pycharm": {
     "name": "#%% md\n"
    }
   },
   "source": [
    "### Generator expression"
   ]
  },
  {
   "cell_type": "code",
   "execution_count": 46,
   "id": "3eacdc1f-a7c4-4649-89ce-00c06cf890f0",
   "metadata": {
    "pycharm": {
     "name": "#%%\n"
    }
   },
   "outputs": [
    {
     "name": "stdout",
     "output_type": "stream",
     "text": [
      "<generator object <genexpr> at 0x000001E32101C5F0>\n"
     ]
    }
   ],
   "source": [
    "print((x**2 for x in [1, 2]))"
   ]
  },
  {
   "cell_type": "code",
   "execution_count": 49,
   "id": "8ac19478-98a3-49fb-ad7f-df698f66078f",
   "metadata": {
    "pycharm": {
     "name": "#%%\n"
    }
   },
   "outputs": [
    {
     "name": "stdout",
     "output_type": "stream",
     "text": [
      "[1, 4]\n"
     ]
    }
   ],
   "source": [
    "print([x**2 for x in [1, 2]])"
   ]
  },
  {
   "cell_type": "code",
   "execution_count": 48,
   "id": "ba809ab9-39d0-4f03-aed0-8e4bf84de38f",
   "metadata": {
    "pycharm": {
     "name": "#%%\n"
    }
   },
   "outputs": [
    {
     "name": "stdout",
     "output_type": "stream",
     "text": [
      "<generator object g at 0x000001E32101C660>\n"
     ]
    }
   ],
   "source": [
    "def g():\n",
    "    for x in [1, 2]:\n",
    "        yield x**2\n",
    "        \n",
    "print(g())"
   ]
  },
  {
   "cell_type": "markdown",
   "id": "3e1582f7-eb63-476b-bff3-f16a5a53e5aa",
   "metadata": {
    "pycharm": {
     "name": "#%% md\n"
    },
    "tags": [],
    "toc-hr-collapsed": true
   },
   "source": [
    "## Lab"
   ]
  },
  {
   "cell_type": "markdown",
   "id": "0427d07c-d81d-4075-b4e8-b71823955dc6",
   "metadata": {
    "pycharm": {
     "name": "#%% md\n"
    },
    "tags": []
   },
   "source": [
    "### Custom range"
   ]
  },
  {
   "cell_type": "markdown",
   "id": "9a58e043-1fef-469a-b314-ea9ef2235e22",
   "metadata": {
    "pycharm": {
     "name": "#%% md\n"
    },
    "tags": []
   },
   "source": [
    "#### Instance as iterator"
   ]
  },
  {
   "cell_type": "code",
   "execution_count": 6,
   "id": "acefe8ab-55fb-4576-b8ae-954df1cf330f",
   "metadata": {
    "pycharm": {
     "name": "#%%\n"
    }
   },
   "outputs": [
    {
     "name": "stdout",
     "output_type": "stream",
     "text": [
      "1\n",
      "2\n",
      "3\n"
     ]
    }
   ],
   "source": [
    "class CustomRange:\n",
    "    def __init__(self, start, end):\n",
    "        self.start = start\n",
    "        self.end = end\n",
    "        self.value = start\n",
    "        \n",
    "    def __iter__(self):\n",
    "        return self\n",
    "    \n",
    "    def __next__(self):\n",
    "        if self.value > self.end:\n",
    "            raise StopIteration\n",
    "        \n",
    "        current_value = self.value\n",
    "        self.value += 1\n",
    "        return current_value\n",
    "\n",
    "\n",
    "x = CustomRange(1, 3)\n",
    "\n",
    "iter1 = iter(x)\n",
    "iter2 = iter(x)\n",
    "\n",
    "for n in iter1:\n",
    "    print(n)\n",
    "\n",
    "for n in iter2:\n",
    "    print(n)"
   ]
  },
  {
   "cell_type": "code",
   "execution_count": 7,
   "id": "5bb3035c-9f34-44f3-a95f-e5ac8a79ae32",
   "metadata": {
    "pycharm": {
     "name": "#%%\n"
    }
   },
   "outputs": [
    {
     "name": "stdout",
     "output_type": "stream",
     "text": [
      "1\n",
      "2\n",
      "3\n"
     ]
    }
   ],
   "source": [
    "x = CustomRange(1, 3)\n",
    "\n",
    "for n in x:\n",
    "    print(n)\n",
    "    \n",
    "for n in x:\n",
    "    print(n)"
   ]
  },
  {
   "cell_type": "markdown",
   "id": "1422e24d-2937-435f-8acd-4a7a6aa1ae86",
   "metadata": {
    "pycharm": {
     "name": "#%% md\n"
    },
    "tags": []
   },
   "source": [
    "#### External iterator class"
   ]
  },
  {
   "cell_type": "code",
   "execution_count": 8,
   "id": "f9e471c2-ad1a-40fa-9acf-4cd6e545970d",
   "metadata": {
    "pycharm": {
     "name": "#%%\n"
    }
   },
   "outputs": [
    {
     "name": "stdout",
     "output_type": "stream",
     "text": [
      "1\n",
      "2\n",
      "3\n",
      "1\n",
      "2\n",
      "3\n"
     ]
    }
   ],
   "source": [
    "class CustomRange:\n",
    "    def __init__(self, start, end):\n",
    "        self.start = start\n",
    "        self.end = end\n",
    "        self.value = start\n",
    "        \n",
    "    def __iter__(self):\n",
    "        return CustomRangeIterator(self)\n",
    "\n",
    "\n",
    "class CustomRangeIterator:\n",
    "    def __init__(self, custom_range_obj):\n",
    "        self.custom_range_obj = custom_range_obj\n",
    "        self.value = custom_range_obj.start\n",
    "        \n",
    "    def __iter__(self):\n",
    "        return self    \n",
    "        \n",
    "    def __next__(self):\n",
    "        if self.value > self.custom_range_obj.end:\n",
    "            raise StopIteration\n",
    "        \n",
    "        current_value = self.value\n",
    "        self.value += 1\n",
    "        return current_value\n",
    "\n",
    "\n",
    "x = CustomRange(1, 3)\n",
    "\n",
    "iter1 = iter(x)\n",
    "iter2 = iter(x)\n",
    "\n",
    "for n in iter1:\n",
    "    print(n)\n",
    "\n",
    "for n in iter2:\n",
    "    print(n)"
   ]
  },
  {
   "cell_type": "code",
   "execution_count": 9,
   "id": "358ef1fd-c2b1-4fe4-b90b-c720c6da5504",
   "metadata": {
    "pycharm": {
     "name": "#%%\n"
    }
   },
   "outputs": [
    {
     "name": "stdout",
     "output_type": "stream",
     "text": [
      "1\n",
      "2\n",
      "3\n",
      "1\n",
      "2\n",
      "3\n"
     ]
    }
   ],
   "source": [
    "x = CustomRange(1, 3)\n",
    "\n",
    "for n in x:\n",
    "    print(n)\n",
    "\n",
    "for n in x:\n",
    "    print(n)"
   ]
  },
  {
   "cell_type": "markdown",
   "id": "4ebb78b3-16a2-4bb4-9abf-79ace64ddacf",
   "metadata": {
    "pycharm": {
     "name": "#%% md\n"
    },
    "tags": []
   },
   "source": [
    "#### Internal iterator class"
   ]
  },
  {
   "cell_type": "code",
   "execution_count": 11,
   "id": "e0aeda20-46d5-4a4b-8f63-6b2f3a42f2c7",
   "metadata": {
    "pycharm": {
     "name": "#%%\n"
    }
   },
   "outputs": [
    {
     "name": "stdout",
     "output_type": "stream",
     "text": [
      "1\n",
      "2\n",
      "3\n",
      "1\n",
      "2\n",
      "3\n"
     ]
    }
   ],
   "source": [
    "class CustomRange:\n",
    "    def __init__(self, start, end):\n",
    "        self.start = start\n",
    "        self.end = end\n",
    "        self.value = start\n",
    "        \n",
    "    def __iter__(self):\n",
    "        return self.Iterator(self)\n",
    "\n",
    "    class Iterator:\n",
    "        def __init__(self, custom_range_obj):\n",
    "            self.custom_range_obj = custom_range_obj\n",
    "            self.value = custom_range_obj.start\n",
    "\n",
    "        def __iter__(self):\n",
    "            return self    \n",
    "\n",
    "        def __next__(self):\n",
    "            if self.value > self.custom_range_obj.end:\n",
    "                raise StopIteration\n",
    "\n",
    "            current_value = self.value\n",
    "            self.value += 1\n",
    "            return current_value\n",
    "\n",
    "\n",
    "x = CustomRange(1, 3)\n",
    "\n",
    "iter1 = iter(x)\n",
    "iter2 = iter(x)\n",
    "\n",
    "for n in iter1:\n",
    "    print(n)\n",
    "\n",
    "for n in iter2:\n",
    "    print(n)"
   ]
  },
  {
   "cell_type": "code",
   "execution_count": 12,
   "id": "58c08911-c673-49f0-88b9-e19edbbd1b48",
   "metadata": {
    "pycharm": {
     "name": "#%%\n"
    }
   },
   "outputs": [
    {
     "name": "stdout",
     "output_type": "stream",
     "text": [
      "1\n",
      "2\n",
      "3\n",
      "1\n",
      "2\n",
      "3\n"
     ]
    }
   ],
   "source": [
    "x = CustomRange(1, 3)\n",
    "\n",
    "for n in x:\n",
    "    print(n)\n",
    "\n",
    "for n in x:\n",
    "    print(n)"
   ]
  },
  {
   "cell_type": "markdown",
   "id": "a87b6d64-2133-4de7-95d3-b3e49034d1fd",
   "metadata": {
    "pycharm": {
     "name": "#%% md\n"
    },
    "tags": []
   },
   "source": [
    "#### Reversed iterator"
   ]
  },
  {
   "cell_type": "code",
   "execution_count": 17,
   "id": "dec4eb11-9156-491b-8b8c-2b34ec88cafb",
   "metadata": {
    "pycharm": {
     "name": "#%%\n"
    }
   },
   "outputs": [
    {
     "name": "stdout",
     "output_type": "stream",
     "text": [
      "Iter: 1\n",
      "Iter: 2\n",
      "Iter: 3\n",
      "Reversed: 3\n",
      "Reversed: 2\n",
      "Reversed: 1\n"
     ]
    }
   ],
   "source": [
    "class CustomRange:\n",
    "    def __init__(self, start, end):\n",
    "        self.start = start\n",
    "        self.end = end\n",
    "        self.value = start\n",
    "        \n",
    "    def __iter__(self):\n",
    "        return self.Iterator(self)\n",
    "    \n",
    "    def __reversed__(self):\n",
    "        return self.ReverseIterator(self)\n",
    "\n",
    "    class Iterator:\n",
    "        def __init__(self, custom_range_obj):\n",
    "            self.custom_range_obj = custom_range_obj\n",
    "            self.value = custom_range_obj.start\n",
    "\n",
    "        def __iter__(self):\n",
    "            return self    \n",
    "\n",
    "        def __next__(self):\n",
    "            if self.value > self.custom_range_obj.end:\n",
    "                raise StopIteration\n",
    "\n",
    "            current_value = self.value\n",
    "            self.value += 1\n",
    "            return current_value\n",
    "        \n",
    "    class ReverseIterator:\n",
    "        def __init__(self, custom_range_obj):\n",
    "            self.custom_range_obj = custom_range_obj\n",
    "            self.value = custom_range_obj.end\n",
    "\n",
    "        def __iter__(self):\n",
    "            return self    \n",
    "\n",
    "        def __next__(self):\n",
    "            if self.value < self.custom_range_obj.start:\n",
    "                raise StopIteration\n",
    "\n",
    "            current_value = self.value\n",
    "            self.value -= 1\n",
    "            return current_value\n",
    "\n",
    "\n",
    "\n",
    "cr = CustomRange(1, 3)\n",
    "\n",
    "for x in cr:\n",
    "    print(f'Iter: {x}')\n",
    "\n",
    "for x in reversed(cr):\n",
    "    print(f'Reversed: {x}')"
   ]
  },
  {
   "cell_type": "markdown",
   "id": "eb7e4d4d-6193-4548-9b7a-763d6f0c7080",
   "metadata": {
    "pycharm": {
     "name": "#%% md\n"
    },
    "tags": []
   },
   "source": [
    "#### Combined iterator"
   ]
  },
  {
   "cell_type": "code",
   "execution_count": 18,
   "id": "11d2a77d-0683-439a-9bcc-90dffa54f683",
   "metadata": {
    "pycharm": {
     "name": "#%%\n"
    }
   },
   "outputs": [
    {
     "name": "stdout",
     "output_type": "stream",
     "text": [
      "Iter: 1\n",
      "Iter: 2\n",
      "Iter: 3\n",
      "Reversed: 3\n",
      "Reversed: 2\n",
      "Reversed: 1\n"
     ]
    }
   ],
   "source": [
    "class CustomRange:\n",
    "    def __init__(self, start, end):\n",
    "        self.start = start\n",
    "        self.end = end\n",
    "        self.value = start\n",
    "        \n",
    "    def __iter__(self):\n",
    "        return self.Iterator(self, is_reversed = False)\n",
    "    \n",
    "    def __reversed__(self):\n",
    "        return self.Iterator(self, is_reversed = True)\n",
    "\n",
    "    class Iterator:\n",
    "        def __init__(self, custom_range_obj, is_reversed):\n",
    "            self.custom_range_obj = custom_range_obj\n",
    "            self.is_reversed = is_reversed\n",
    "            if is_reversed:\n",
    "                self.value = custom_range_obj.end\n",
    "            else:\n",
    "                self.value = custom_range_obj.start\n",
    "            \n",
    "\n",
    "        def __iter__(self):\n",
    "            return self   \n",
    "\n",
    "        def __next__(self):\n",
    "            if self.value > self.custom_range_obj.end or self.value < self.custom_range_obj.start:\n",
    "                raise StopIteration\n",
    "\n",
    "            current_value = self.value\n",
    "            if self.is_reversed:\n",
    "                self.value -= 1\n",
    "            else:\n",
    "                self.value += 1\n",
    "            return current_value\n",
    "   \n",
    "\n",
    "cr = CustomRange(1, 3)\n",
    "\n",
    "for x in cr:\n",
    "    print(f'Iter: {x}')\n",
    "\n",
    "for x in reversed(cr):\n",
    "    print(f'Reversed: {x}')"
   ]
  },
  {
   "cell_type": "markdown",
   "id": "5398ef69-3d09-4972-a7ef-4dcb527fd3a8",
   "metadata": {
    "pycharm": {
     "name": "#%% md\n"
    }
   },
   "source": [
    "### Vowels"
   ]
  },
  {
   "cell_type": "markdown",
   "id": "f4867a39-bbf8-46b6-9cce-1a28f7e4db72",
   "metadata": {
    "pycharm": {
     "name": "#%% md\n"
    }
   },
   "source": [
    "#### Iterator is the instance"
   ]
  },
  {
   "cell_type": "code",
   "execution_count": 25,
   "id": "3619b75a-96cb-41ec-a10c-e9cc1336673a",
   "metadata": {
    "pycharm": {
     "name": "#%%\n"
    }
   },
   "outputs": [
    {
     "name": "stdout",
     "output_type": "stream",
     "text": [
      "A\n",
      "e\n",
      "i\n",
      "u\n",
      "o\n"
     ]
    }
   ],
   "source": [
    "class vowels:\n",
    "    def __init__(self, text):\n",
    "        self.text = text\n",
    "    \n",
    "    def __iter__(self):\n",
    "        self.position_in_text = 0\n",
    "        return self\n",
    "    \n",
    "    def __next__(self):\n",
    "        if self.position_in_text >= len(self.text):\n",
    "            raise StopIteration\n",
    "        \n",
    "        char = self.text[self.position_in_text]\n",
    "        self.position_in_text += 1\n",
    "        \n",
    "        if not self.is_vowel(char):\n",
    "            return self.__next__()\n",
    "\n",
    "        return char\n",
    "        \n",
    "    @staticmethod\n",
    "    def is_vowel(char):\n",
    "        return char.lower() in {\"a\", \"e\", \"o\", \"u\", \"i\"}\n",
    "    \n",
    "\n",
    "my_string = vowels('Abcedifuty0o')\n",
    "for char in my_string:\n",
    "    print(char)"
   ]
  },
  {
   "cell_type": "markdown",
   "id": "1799a751-0cab-4e9c-88fb-b2a381ae7615",
   "metadata": {
    "pycharm": {
     "name": "#%% md\n"
    }
   },
   "source": [
    "#### Generator function"
   ]
  },
  {
   "cell_type": "code",
   "execution_count": 28,
   "id": "7601bffb-1082-40d3-ad8d-112f12f41804",
   "metadata": {
    "pycharm": {
     "name": "#%%\n"
    }
   },
   "outputs": [
    {
     "name": "stdout",
     "output_type": "stream",
     "text": [
      "a\n",
      "i\n",
      "i\n"
     ]
    }
   ],
   "source": [
    "VOWELS = {\"a\", \"e\", \"o\", \"u\", \"i\"}\n",
    "def vowel(text):\n",
    "    for ch in text:\n",
    "        if ch.lower() in VOWELS:\n",
    "            yield ch\n",
    "\n",
    "text = \"ajsdijqp12i3-01 mcpozmc,19i3= 910ezxczxcvkp[eqitgo]\"\n",
    "generator = vowel(text)\n",
    "\n",
    "print(next(generator))\n",
    "print(next(generator))\n",
    "print(next(generator))"
   ]
  },
  {
   "cell_type": "markdown",
   "id": "32952964-64bc-445b-b6c4-6480884d87d1",
   "metadata": {
    "pycharm": {
     "name": "#%% md\n"
    }
   },
   "source": [
    "#### Generator comprehension"
   ]
  },
  {
   "cell_type": "code",
   "execution_count": 29,
   "id": "130b0617-4074-4bb6-8946-0dceb12b9386",
   "metadata": {
    "pycharm": {
     "name": "#%%\n"
    }
   },
   "outputs": [
    {
     "name": "stdout",
     "output_type": "stream",
     "text": [
      "a\n",
      "i\n",
      "i\n"
     ]
    }
   ],
   "source": [
    "def vowel(text):\n",
    "    return (ch for ch in text if ch.lower() in VOWELS)\n",
    "\n",
    "text = \"ajsdijqp12i3-01 mcpozmc,19i3= 910ezxczxcvkp[eqitgo]\"\n",
    "generator = vowel(text)\n",
    "\n",
    "print(next(generator))\n",
    "print(next(generator))\n",
    "print(next(generator))"
   ]
  },
  {
   "cell_type": "markdown",
   "id": "868cadef-590e-496e-b51a-74a418fdf5d6",
   "metadata": {
    "pycharm": {
     "name": "#%% md\n"
    }
   },
   "source": [
    "### Squares"
   ]
  },
  {
   "cell_type": "code",
   "execution_count": 56,
   "id": "112f8374-6c1d-4e96-ad87-d43f8d9ac99e",
   "metadata": {
    "pycharm": {
     "name": "#%%\n"
    }
   },
   "outputs": [
    {
     "name": "stdout",
     "output_type": "stream",
     "text": [
      "1\n",
      "4\n",
      "9\n",
      "<generator object squares at 0x000001E32101CF20>\n"
     ]
    }
   ],
   "source": [
    "def squares(n):\n",
    "    for i in range(1, n + 1):\n",
    "        yield i ** 2\n",
    "        \n",
    "x = squares(3)\n",
    "\n",
    "for i in x:\n",
    "    print(i)\n",
    "    \n",
    "print(squares(2))"
   ]
  },
  {
   "cell_type": "markdown",
   "id": "12ec0623-e738-4a19-a864-6d8749650298",
   "metadata": {
    "pycharm": {
     "name": "#%% md\n"
    }
   },
   "source": [
    "### Reverse text"
   ]
  },
  {
   "cell_type": "code",
   "execution_count": 58,
   "id": "cd6ccc57-0845-4ced-82bf-3f8584a6d780",
   "metadata": {
    "pycharm": {
     "name": "#%%\n"
    }
   },
   "outputs": [
    {
     "name": "stdout",
     "output_type": "stream",
     "text": [
      "p\n",
      "e\n",
      "t\n",
      "s\n"
     ]
    }
   ],
   "source": [
    "def reverse_text(text):\n",
    "    for ch in text[::-1]:\n",
    "        yield ch\n",
    "\n",
    "for char in reverse_text(\"step\"):\n",
    "    print(char)"
   ]
  },
  {
   "cell_type": "markdown",
   "id": "3e8ea7a2-0cf6-4ab4-89d8-e628d8d54f4e",
   "metadata": {
    "pycharm": {
     "name": "#%% md\n"
    }
   },
   "source": [
    "## Other"
   ]
  },
  {
   "cell_type": "markdown",
   "id": "cb012ba0-097d-43bd-9294-e3d05e78a754",
   "metadata": {
    "pycharm": {
     "name": "#%% md\n"
    }
   },
   "source": [
    "### Fibonacci"
   ]
  },
  {
   "cell_type": "code",
   "execution_count": 78,
   "id": "64e233fa-6411-49bc-a0eb-15de7eab6f66",
   "metadata": {
    "pycharm": {
     "name": "#%%\n"
    }
   },
   "outputs": [
    {
     "name": "stdout",
     "output_type": "stream",
     "text": [
      "0\n",
      "1\n",
      "1\n",
      "2\n",
      "3\n"
     ]
    }
   ],
   "source": [
    "def fibonacci():\n",
    "    current = 0\n",
    "    following = 1\n",
    "    \n",
    "    while True:\n",
    "        yield current\n",
    "        current, following = following, current + following\n",
    "\n",
    "generator = fibonacci()\n",
    "for _ in range(5):\n",
    "    print(next(generator))"
   ]
  },
  {
   "cell_type": "markdown",
   "id": "481e505d-3cde-4b95-a7f8-06b529f192a2",
   "metadata": {
    "pycharm": {
     "name": "#%% md\n"
    }
   },
   "source": [
    "### Possible permutations"
   ]
  },
  {
   "cell_type": "code",
   "execution_count": 79,
   "id": "3ea4acfb-38b1-4e30-86cf-887edd3c53ff",
   "metadata": {
    "pycharm": {
     "name": "#%%\n"
    }
   },
   "outputs": [
    {
     "name": "stdout",
     "output_type": "stream",
     "text": [
      "(1, 2, 3)\n",
      "(1, 3, 2)\n",
      "(2, 1, 3)\n",
      "(2, 3, 1)\n",
      "(3, 1, 2)\n",
      "(3, 2, 1)\n"
     ]
    }
   ],
   "source": [
    "def generate_permutations(ll):\n",
    "    return (p for p in permutations(ll))\n",
    "\n",
    "permutation_generator = generate_permutations([1, 2, 3])\n",
    "\n",
    "for p in permutation_generator:\n",
    "    print(p)   "
   ]
  },
  {
   "cell_type": "code",
   "execution_count": 80,
   "id": "9e306252-b0b3-4d0f-bc41-f01e4d06b857",
   "metadata": {
    "pycharm": {
     "name": "#%%\n"
    }
   },
   "outputs": [
    {
     "data": {
      "text/plain": [
       "[('a', 's', 'd'),\n",
       " ('a', 'd', 's'),\n",
       " ('s', 'a', 'd'),\n",
       " ('s', 'd', 'a'),\n",
       " ('d', 'a', 's'),\n",
       " ('d', 's', 'a')]"
      ]
     },
     "execution_count": 80,
     "metadata": {},
     "output_type": "execute_result"
    }
   ],
   "source": [
    "x = permutations(list('asd'))\n",
    "list(x)"
   ]
  },
  {
   "cell_type": "markdown",
   "id": "f8ad37a0-93d4-431e-ab02-b6224e972b6c",
   "metadata": {
    "pycharm": {
     "name": "#%% md\n"
    },
    "tags": []
   },
   "source": [
    "### Prime number"
   ]
  },
  {
   "cell_type": "code",
   "execution_count": 81,
   "id": "b66d12e1-828a-405d-b149-b702b0ed671d",
   "metadata": {
    "pycharm": {
     "name": "#%%\n"
    }
   },
   "outputs": [
    {
     "name": "stdout",
     "output_type": "stream",
     "text": [
      "[2, 3, 5]\n"
     ]
    }
   ],
   "source": [
    "def is_prime(number):\n",
    "    if number in (0, 1):\n",
    "        return False\n",
    "\n",
    "    for x in range(2, int(sqrt(number)) + 1):\n",
    "        if number % x == 0:\n",
    "            return False\n",
    "\n",
    "    return True\n",
    "\n",
    "\n",
    "def get_primes(integer_list):\n",
    "    for number in integer_list:\n",
    "        if is_prime(number):\n",
    "            yield number\n",
    "\n",
    "\n",
    "print(list(get_primes([2, 4, 3, 5, 6, 9, 1, 0])))"
   ]
  },
  {
   "cell_type": "markdown",
   "id": "7b17ed39-106b-4ee2-80fe-a277e108aecc",
   "metadata": {
    "pycharm": {
     "name": "#%% md\n"
    }
   },
   "source": [
    "### Primes generator"
   ]
  },
  {
   "cell_type": "code",
   "execution_count": 84,
   "id": "2af25c5d-3371-4d55-9a61-18137c5b80d2",
   "metadata": {
    "pycharm": {
     "name": "#%%\n"
    }
   },
   "outputs": [
    {
     "name": "stdout",
     "output_type": "stream",
     "text": [
      "1\n",
      "2\n",
      "3\n",
      "5\n"
     ]
    }
   ],
   "source": [
    "def is_prime(number):\n",
    "    for x in range(2, int(sqrt(number)) + 1):\n",
    "        if number % x == 0:\n",
    "            return False\n",
    "\n",
    "    return True\n",
    "\n",
    "\n",
    "def generate_primes(max_number):\n",
    "    number = 1\n",
    "    while number <= max_number:\n",
    "        if is_prime(number):\n",
    "            yield number\n",
    "        number += 1\n",
    "\n",
    "        \n",
    "primes = generate_primes(100)\n",
    "print(next(primes))\n",
    "print(next(primes))\n",
    "print(next(primes))\n",
    "print(next(primes))"
   ]
  },
  {
   "cell_type": "markdown",
   "id": "385f2e57-bd88-4760-8749-62fad8f4a465",
   "metadata": {
    "pycharm": {
     "name": "#%% md\n"
    }
   },
   "source": [
    "### Take skip"
   ]
  },
  {
   "cell_type": "code",
   "execution_count": 88,
   "id": "9b25e6f8-7fdd-422a-ad4e-2acedbf4cac1",
   "metadata": {
    "pycharm": {
     "name": "#%%\n"
    }
   },
   "outputs": [
    {
     "name": "stdout",
     "output_type": "stream",
     "text": [
      "0.0\n",
      "1.5\n",
      "3.0\n",
      "4.5\n"
     ]
    }
   ],
   "source": [
    "class take_skip:\n",
    "    def __init__(self, step, count):\n",
    "        self.step = step\n",
    "        self.count = count\n",
    "\n",
    "    def __iter__(self):\n",
    "        return (n * self.step for n in range(self.count))\n",
    "\n",
    "\n",
    "\n",
    "numbers = take_skip(1.5, 4)\n",
    "for number in numbers:\n",
    "    print(number)"
   ]
  }
 ],
 "metadata": {
  "kernelspec": {
   "display_name": "Python 3 (ipykernel)",
   "language": "python",
   "name": "python3"
  },
  "language_info": {
   "codemirror_mode": {
    "name": "ipython",
    "version": 3
   },
   "file_extension": ".py",
   "mimetype": "text/x-python",
   "name": "python",
   "nbconvert_exporter": "python",
   "pygments_lexer": "ipython3",
   "version": "3.10.10"
  },
  "toc-autonumbering": false
 },
 "nbformat": 4,
 "nbformat_minor": 5
}

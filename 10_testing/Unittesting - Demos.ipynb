{
 "cells": [
  {
   "cell_type": "code",
   "execution_count": 6,
   "id": "920fd86d-f57d-4ed9-8153-ae60f654d4c3",
   "metadata": {},
   "outputs": [],
   "source": [
    "import unittest\n",
    "from unittest import TestCase, mock\n",
    "from typing import List"
   ]
  },
  {
   "cell_type": "markdown",
   "id": "8bb14722-1217-46c8-85cc-301bfc3bd982",
   "metadata": {},
   "source": [
    "# Unit testing\n",
    "* на български: компонентно тестване"
   ]
  },
  {
   "cell_type": "markdown",
   "id": "bf6e3a5e-4a55-4859-94f7-a48a9feb96f4",
   "metadata": {
    "tags": []
   },
   "source": [
    "## Intro"
   ]
  },
  {
   "cell_type": "code",
   "execution_count": 4,
   "id": "f45a5e4d-2220-4b77-9e3a-35b3f268a6a7",
   "metadata": {},
   "outputs": [
    {
     "name": "stderr",
     "output_type": "stream",
     "text": [
      ".\n",
      "----------------------------------------------------------------------\n",
      "Ran 1 test in 0.002s\n",
      "\n",
      "OK\n"
     ]
    },
    {
     "data": {
      "text/plain": [
       "<unittest.main.TestProgram at 0x238f5207a60>"
      ]
     },
     "execution_count": 4,
     "metadata": {},
     "output_type": "execute_result"
    }
   ],
   "source": [
    "# Create a test case\n",
    "class SimpleTest(TestCase):\n",
    "    # a test case contains a set of conditions\n",
    "    def test_upper(self):\n",
    "        result = 'foo'.upper()\n",
    "        expected_result = 'FOO'\n",
    "        self.assertEqual(result, expected_result)\n",
    "\n",
    "\n",
    "unittest.main(argv=[''], exit=False)"
   ]
  },
  {
   "cell_type": "code",
   "execution_count": 5,
   "id": "b45f3269-b3b8-4b71-bfb7-40bfd29474ac",
   "metadata": {},
   "outputs": [
    {
     "name": "stderr",
     "output_type": "stream",
     "text": [
      "...\n",
      "----------------------------------------------------------------------\n",
      "Ran 3 tests in 0.002s\n",
      "\n",
      "OK\n"
     ]
    },
    {
     "data": {
      "text/plain": [
       "<unittest.main.TestProgram at 0x238f5207d00>"
      ]
     },
     "execution_count": 5,
     "metadata": {},
     "output_type": "execute_result"
    }
   ],
   "source": [
    "def my_sum(*args):\n",
    "    return sum(*args)\n",
    "\n",
    "\n",
    "class SampleTests(TestCase):\n",
    "    def test_my_sum__when_numbers__expect_to_be_equal(self):\n",
    "        numbers = [1, 2, 3, 4]\n",
    "        expected_result = sum(numbers)\n",
    "        actual_result = my_sum(numbers)\n",
    "\n",
    "        self.assertEqual(expected_result, actual_result)\n",
    "\n",
    "    def test_my_sum__when_mixed__expect_typeerror(self):\n",
    "        mixed = [1, 2, 3, \"a\"]\n",
    "        self.assertRaises(TypeError, my_sum, mixed)\n",
    "\n",
    "\n",
    "unittest.main(argv=[''], exit=False)"
   ]
  },
  {
   "cell_type": "markdown",
   "id": "372d2154-3d16-41c4-9c9f-228162964125",
   "metadata": {
    "tags": []
   },
   "source": [
    "## TestLoader and TestRunner"
   ]
  },
  {
   "cell_type": "code",
   "execution_count": 7,
   "id": "c4ae2ab1-9efa-4f37-b3c3-8aa6c01da24f",
   "metadata": {},
   "outputs": [
    {
     "name": "stderr",
     "output_type": "stream",
     "text": [
      ".\n",
      "----------------------------------------------------------------------\n",
      "Ran 1 test in 0.001s\n",
      "\n",
      "OK\n"
     ]
    }
   ],
   "source": [
    "class MyTestCase(TestCase):\n",
    "    def test_example(self):\n",
    "        self.assertEqual(2 + 2, 4)\n",
    "\n",
    "if __name__ == '__main__':\n",
    "    # Create a test suite and add the test cases\n",
    "    suite = unittest.TestLoader().loadTestsFromTestCase(MyTestCase)\n",
    "\n",
    "    # Create a TextTestRunner and run the tests\n",
    "    runner = unittest.TextTestRunner()\n",
    "    runner.run(suite)"
   ]
  },
  {
   "cell_type": "markdown",
   "id": "bf116195-cfaf-46ef-bc8c-02abfc227c9b",
   "metadata": {},
   "source": [
    "## Using context manager\n",
    "\n",
    "\n",
    "Using a context manager in this case (specifically self.assertRaises) offers several benefits:\n",
    "\n",
    "Clearer and more expressive code: By using a context manager, you explicitly define the expected exception and the block of code where you expect the exception to be raised. This makes the code more readable and conveys your intent clearly.\n",
    "\n",
    "Automatic exception handling: The context manager automatically handles the exception for you. It ensures that the code block is executed, and if the expected exception is raised, the assertion passes. If the expected exception is not raised or a different exception is raised, the assertion fails.\n",
    "\n",
    "Cleaner and more concise syntax: Using self.assertRaises with a context manager allows you to write assertions in a more concise and readable way. The code block where the exception is expected is indented within the with statement, making it visually clear.\n",
    "\n",
    "Proper cleanup: Context managers also provide a way to perform setup and cleanup operations. In the case of self.assertRaises, it handles the cleanup automatically by properly handling the exception, ensuring that any resources are cleaned up as needed.\n",
    "\n",
    "Overall, using a context manager like self.assertRaises enhances code readability, simplifies exception handling, and ensures proper cleanup, leading to more robust and maintainable test code."
   ]
  },
  {
   "cell_type": "code",
   "execution_count": 8,
   "id": "42b484e8-57cb-48ed-8fdd-8ea9356753eb",
   "metadata": {},
   "outputs": [],
   "source": [
    "def my_concat(a: str, b: str) -> str:\n",
    "    if (not isinstance(a, str)) or (not isinstance(b, str)):\n",
    "        raise TypeError(message=\"Must be str.\")\n",
    "    return a + b\n",
    "\n",
    "\n",
    "class TestMyConcat(unittest.TestCase):\n",
    "    # assertRaises method:\n",
    "    # 1) used as a context manager in a with statement\n",
    "    def test_my_concat__when_ints__expect_type_exception(self):\n",
    "        first, second = 1, 6\n",
    "        with self.assertRaises(TypeError) as context:\n",
    "            my_concat(first, second)\n",
    "\n",
    "    # 2) called as a standalone assertion\n",
    "    def test_my_concat__when_ints__expect_type_exception2(self):\n",
    "        first, second = 1, 6\n",
    "        # exception, callable, *args\n",
    "        self.assertRaises(TypeError, my_concat, first, second)"
   ]
  },
  {
   "cell_type": "markdown",
   "id": "65e36bb8-de85-4b9d-a90a-934ce0432658",
   "metadata": {},
   "source": [
    "## setUp"
   ]
  },
  {
   "cell_type": "code",
   "execution_count": 9,
   "id": "e3280dbd-cc6d-4776-8438-eeed121ed5c5",
   "metadata": {},
   "outputs": [
    {
     "name": "stderr",
     "output_type": "stream",
     "text": [
      "......\n",
      "----------------------------------------------------------------------\n",
      "Ran 6 tests in 0.005s\n",
      "\n",
      "OK\n"
     ]
    },
    {
     "name": "stdout",
     "output_type": "stream",
     "text": [
      "Do for ALL tests...\n",
      "Do something before each test...\n",
      "Do something before each test...\n"
     ]
    },
    {
     "data": {
      "text/plain": [
       "<unittest.main.TestProgram at 0x238f5207e50>"
      ]
     },
     "execution_count": 9,
     "metadata": {},
     "output_type": "execute_result"
    }
   ],
   "source": [
    "def my_sum(*args):\n",
    "    return sum(*args)\n",
    "\n",
    "\n",
    "class SampleTests(unittest.TestCase):\n",
    "    def setUp(self):\n",
    "        print('Do something before each test...')\n",
    "\n",
    "    @classmethod\n",
    "    def setUpClass(cls):\n",
    "        print('Do for ALL tests...')\n",
    "    \n",
    "    def test_my_sum__when_numbers__expect_to_be_equal(self):\n",
    "        numbers = [1, 2, 3, 4]\n",
    "        expected_result = sum(numbers)\n",
    "        actual_result = my_sum(numbers)\n",
    "\n",
    "        self.assertEqual(expected_result, actual_result)\n",
    "\n",
    "    def test_my_sum__when_mixed__expect_typeerror(self):\n",
    "        mixed = [1, 2, 3, \"a\"]\n",
    "        self.assertRaises(TypeError, my_sum, mixed)\n",
    "\n",
    "\n",
    "unittest.main(argv=[''], exit=False)"
   ]
  },
  {
   "cell_type": "markdown",
   "id": "8a680b34-55a7-40f1-b0d1-3089544641df",
   "metadata": {},
   "source": [
    "## Mocking"
   ]
  },
  {
   "cell_type": "code",
   "execution_count": 19,
   "id": "1fff5992-c7fd-4472-8ee7-7263bf4eddea",
   "metadata": {},
   "outputs": [
    {
     "name": "stderr",
     "output_type": "stream",
     "text": [
      ".......\n",
      "----------------------------------------------------------------------\n",
      "Ran 7 tests in 0.007s\n",
      "\n",
      "OK\n"
     ]
    },
    {
     "name": "stdout",
     "output_type": "stream",
     "text": [
      "Do for ALL tests...\n",
      "Do something before each test...\n",
      "Do something before each test...\n"
     ]
    },
    {
     "data": {
      "text/plain": [
       "<unittest.main.TestProgram at 0x238f71fd270>"
      ]
     },
     "execution_count": 19,
     "metadata": {},
     "output_type": "execute_result"
    }
   ],
   "source": [
    "class VacationHouse:\n",
    "    def __init__(self, name: str, booked_weeks: List[int]):\n",
    "        self.name = name\n",
    "        self.booked_weeks = booked_weeks\n",
    "\n",
    "    def is_available(self, week: int) -> bool:\n",
    "        return week not in self.booked_weeks\n",
    "\n",
    "    def book(self, week):\n",
    "        self.booked_weeks.append(week)\n",
    "\n",
    "        \n",
    "def make_reservation(vacation_house: VacationHouse, week: int):\n",
    "    if not vacation_house.is_available(week):\n",
    "        return 'House is not available'\n",
    "\n",
    "    vacation_house.book(week)\n",
    "    return 'Successful reservation!'\n",
    "\n",
    "\n",
    "class TestReservation(TestCase):\n",
    "    @mock.patch('__main__.VacationHouse')\n",
    "    def test_make_reservation__when_not_available__expect_failure(self, my_mock):\n",
    "        VacationHouseMock = my_mock.return_value\n",
    "        VacationHouseMock.is_available.return_value = False\n",
    "\n",
    "        house = VacationHouse('Borovets houses', [1, 4, 5])\n",
    "        actual_result = make_reservation(house, 2)\n",
    "        expected_result = 'House is not available'\n",
    "        self.assertEqual(expected_result, actual_result)\n",
    "        \n",
    "\n",
    "unittest.main(argv=[''], exit=False)"
   ]
  },
  {
   "cell_type": "markdown",
   "id": "ede7a0bd-7a77-4204-a997-bc751bfc2582",
   "metadata": {},
   "source": [
    "## Heading"
   ]
  },
  {
   "cell_type": "code",
   "execution_count": null,
   "id": "b2e1e2f4-b997-455e-bb5d-2f1b2656c98b",
   "metadata": {},
   "outputs": [],
   "source": []
  },
  {
   "cell_type": "markdown",
   "id": "96573059-7640-428f-82e7-49e6d71e2b13",
   "metadata": {},
   "source": [
    "## Heading"
   ]
  },
  {
   "cell_type": "code",
   "execution_count": null,
   "id": "e083386e-ccf4-4234-83c0-bd2ba84f9156",
   "metadata": {},
   "outputs": [],
   "source": []
  },
  {
   "cell_type": "markdown",
   "id": "2cb9de0c-da00-49aa-8fb2-a6ebe9a5b6e6",
   "metadata": {},
   "source": [
    "## Heading"
   ]
  },
  {
   "cell_type": "code",
   "execution_count": null,
   "id": "0d1460b0-6586-49b6-bcb9-b5662e58b439",
   "metadata": {},
   "outputs": [],
   "source": []
  }
 ],
 "metadata": {
  "kernelspec": {
   "display_name": "Python 3 (ipykernel)",
   "language": "python",
   "name": "python3"
  },
  "language_info": {
   "codemirror_mode": {
    "name": "ipython",
    "version": 3
   },
   "file_extension": ".py",
   "mimetype": "text/x-python",
   "name": "python",
   "nbconvert_exporter": "python",
   "pygments_lexer": "ipython3",
   "version": "3.10.9"
  }
 },
 "nbformat": 4,
 "nbformat_minor": 5
}

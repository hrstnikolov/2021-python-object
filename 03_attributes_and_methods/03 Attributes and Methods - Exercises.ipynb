{
 "cells": [
  {
   "cell_type": "code",
   "execution_count": 33,
   "id": "6a169425-1940-45a3-805d-fd64c91a4c7b",
   "metadata": {},
   "outputs": [],
   "source": [
    "import time\n",
    "from typing import Any, List"
   ]
  },
  {
   "cell_type": "markdown",
   "id": "b4900af7-37b7-43af-85b5-250ee7c1684d",
   "metadata": {},
   "source": [
    "# 03 Attributes and Methods - Exercises"
   ]
  },
  {
   "cell_type": "markdown",
   "id": "e3c86ec1-308d-4504-911c-ac943f641032",
   "metadata": {},
   "source": [
    "## Tracker"
   ]
  },
  {
   "cell_type": "code",
   "execution_count": 25,
   "id": "71d1999e-a616-4c8c-beba-bd4c635cec6f",
   "metadata": {},
   "outputs": [
    {
     "name": "stdout",
     "output_type": "stream",
     "text": [
      "       1                  Ivan, 23\n",
      "       2                 Petko, 42\n",
      "       3                Georgi, 33\n",
      "       1                  Ivan, 23\n",
      "       2                 Petko, 42\n",
      "       3                Georgi, 33\n"
     ]
    }
   ],
   "source": [
    "class Person:\n",
    "    def __init__(self, name, age):\n",
    "        self.name = name\n",
    "        self.age = age\n",
    "    \n",
    "    def __repr__(self):\n",
    "        return f'{self.name}, {self.age}'\n",
    "\n",
    "    \n",
    "class Tracker:\n",
    "    def __init__(self):\n",
    "        self.last_id = 0\n",
    "        self.objects = []\n",
    "\n",
    "    def add_object(self, obj):\n",
    "        self.last_id += 1\n",
    "        setattr(obj, 'track_id', self.last_id)\n",
    "        self.objects.append(obj)\n",
    "\n",
    "    def track(self, duration=None):\n",
    "        start_time = time.time()\n",
    "        infinite_loop = duration is None\n",
    "        \n",
    "        while infinite_loop or (time.time() - start_time < duration):\n",
    "            for obj in self.objects:\n",
    "                track_id = getattr(obj, 'track_id', None)\n",
    "                print(f'{track_id:8} {repr(obj):>25}')\n",
    "            time.sleep(2)\n",
    "\n",
    "            \n",
    "people = [\n",
    "    Person('Ivan', 23),\n",
    "    Person('Petko', 42),\n",
    "    Person('Georgi', 33),\n",
    "]\n",
    "\n",
    "tracker = Tracker()\n",
    "for person in people:\n",
    "    tracker.add_object(person)\n",
    "\n",
    "tracker.track(3)"
   ]
  },
  {
   "cell_type": "code",
   "execution_count": 36,
   "id": "904e6b9e-5341-484a-8aae-0c777214a03e",
   "metadata": {},
   "outputs": [
    {
     "name": "stdout",
     "output_type": "stream",
     "text": [
      "['Emil', 18, None]\n",
      "name = Emil; age = 18\n",
      "name = Emil; age = 18; city = Sofia\n",
      "name = Emil; age = 18; city = Varna\n",
      "True\n",
      "name = Emil; age = 18; is_adult = <function <lambda> at 0x000001D8B9EF8550>\n"
     ]
    }
   ],
   "source": [
    "class Person:\n",
    "    def __init__(self, name, age):\n",
    "        self.name = name\n",
    "        self.age = age\n",
    "\n",
    "    def __repr__(self):\n",
    "        return '; '.join([f'{key} = {value}'\n",
    "                          for key, value\n",
    "                          in self.__dict__.items()])\n",
    "\n",
    "    def get_attributes_with_prefix(self, prefix):\n",
    "        return [key for key in self.__dict__ if key.startswith(prefix)]\n",
    "\n",
    "\n",
    "def get_values(obj, attr_names) -> List[Any]:\n",
    "    return [getattr(obj, attr_name, None) for attr_name in attr_names]\n",
    "\n",
    "\n",
    "emil = Person('Emil', 18)\n",
    "\n",
    "# Get attrs\n",
    "print(get_values(emil, ['name', 'age', 'asssss']))\n",
    "\n",
    "# Set data attrs\n",
    "print(emil)\n",
    "setattr(emil, 'city', 'Sofia')\n",
    "print(emil)\n",
    "setattr(emil, 'city', 'Varna')\n",
    "print(emil)\n",
    "\n",
    "# Set methods\n",
    "setattr(emil, 'is_adult', lambda self: True if self.age >= 18 else False)\n",
    "print(emil.is_adult(emil))\n",
    "\n",
    "# Delete attrs\n",
    "delattr(emil, 'city')\n",
    "print(emil)"
   ]
  }
 ],
 "metadata": {
  "kernelspec": {
   "display_name": "Python 3 (ipykernel)",
   "language": "python",
   "name": "python3"
  },
  "language_info": {
   "codemirror_mode": {
    "name": "ipython",
    "version": 3
   },
   "file_extension": ".py",
   "mimetype": "text/x-python",
   "name": "python",
   "nbconvert_exporter": "python",
   "pygments_lexer": "ipython3",
   "version": "3.10.10"
  }
 },
 "nbformat": 4,
 "nbformat_minor": 5
}

{
 "cells": [
  {
   "cell_type": "code",
   "execution_count": 1,
   "id": "060f484a-45b5-420c-951f-3fb5749428d1",
   "metadata": {},
   "outputs": [],
   "source": [
    "%matplotlib inline"
   ]
  },
  {
   "cell_type": "code",
   "execution_count": 2,
   "id": "e7ac0de0-16a9-4e81-8a60-0f3489fae1cc",
   "metadata": {},
   "outputs": [],
   "source": [
    "import numpy as np\n",
    "import pandas as pd\n",
    "import matplotlib.pyplot as plt\n",
    "\n",
    "from IPython.display import display"
   ]
  },
  {
   "cell_type": "markdown",
   "id": "310414e7-4b97-4d30-b006-bad36777ab07",
   "metadata": {},
   "source": [
    "# Title"
   ]
  },
  {
   "cell_type": "code",
   "execution_count": null,
   "id": "040532ca-6f02-467c-be58-bdba38a78420",
   "metadata": {},
   "outputs": [],
   "source": []
  },
  {
   "cell_type": "markdown",
   "id": "a8738b52-3fe8-4dff-8256-f30fb81e0f48",
   "metadata": {
    "jp-MarkdownHeadingCollapsed": true,
    "tags": []
   },
   "source": [
    "## Class"
   ]
  },
  {
   "cell_type": "code",
   "execution_count": 10,
   "id": "1f5bc04e-bcdf-435a-8f67-890ab232bb58",
   "metadata": {},
   "outputs": [],
   "source": [
    "class Smartphone:\n",
    "    def __init__(self, memory):\n",
    "        self.memory = memory\n",
    "        self.used_memory = 0\n",
    "        self.installed_apps = []\n",
    "        self.is_on = False\n",
    "    \n",
    "    @property\n",
    "    def free_memory(self):\n",
    "        return self.memory - self.used_memory\n",
    "    \n",
    "    def install_app(self, app_name, app_memory):\n",
    "        if self.free_memory < app_memory:\n",
    "            return 'Not enough free memory available on the phone.'\n",
    "        if not self.is_on:\n",
    "            return 'Please turn on the phone before installing new apps.'\n",
    "        \n",
    "        self.installed_apps.append(app_name)\n",
    "        self.used_memory += app_memory\n",
    "        return f'{app_name} was installed successfully!'\n",
    "    \n",
    "    def power(self):\n",
    "        self.is_on = not self.is_on\n",
    "    "
   ]
  },
  {
   "cell_type": "code",
   "execution_count": 25,
   "id": "3d22ae90-7cf9-4863-ace8-51d661c439c9",
   "metadata": {},
   "outputs": [
    {
     "data": {
      "text/plain": [
       "'Facebook was installed successfully!'"
      ]
     },
     "metadata": {},
     "output_type": "display_data"
    },
    {
     "data": {
      "text/plain": [
       "'OneDrive was installed successfully!'"
      ]
     },
     "metadata": {},
     "output_type": "display_data"
    },
    {
     "data": {
      "text/plain": [
       "'Not enough free memory available on the phone.'"
      ]
     },
     "metadata": {},
     "output_type": "display_data"
    }
   ],
   "source": [
    "ico_phone = Smartphone(128)\n",
    "ico_phone.power()\n",
    "\n",
    "display(\n",
    "    ico_phone.install_app('Facebook', 50),\n",
    "    ico_phone.install_app('OneDrive', 60),\n",
    "    ico_phone.install_app('RRP', 40),\n",
    ")"
   ]
  },
  {
   "cell_type": "markdown",
   "id": "e5b837f1-31fc-4b5a-9155-1e6cd764d7e8",
   "metadata": {
    "jp-MarkdownHeadingCollapsed": true,
    "tags": []
   },
   "source": [
    "## `__dict__`"
   ]
  },
  {
   "cell_type": "code",
   "execution_count": 30,
   "id": "1a58f630-8bd9-4ee5-aaff-d303c10915a8",
   "metadata": {},
   "outputs": [
    {
     "data": {
      "text/plain": [
       "(mappingproxy({'__module__': '__main__',\n",
       "               '__init__': <function __main__.Person.__init__(self, name, age)>,\n",
       "               '__dict__': <attribute '__dict__' of 'Person' objects>,\n",
       "               '__weakref__': <attribute '__weakref__' of 'Person' objects>,\n",
       "               '__doc__': None}),\n",
       " {'name': 'Kalin', 'age': 23})"
      ]
     },
     "execution_count": 30,
     "metadata": {},
     "output_type": "execute_result"
    }
   ],
   "source": [
    "class Person:\n",
    "    def __init__(self, name, age):\n",
    "        self.name = name\n",
    "        self.age = age\n",
    "        \n",
    "kalin = Person('Kalin', 23)\n",
    "Person.__dict__, kalin.__dict__"
   ]
  },
  {
   "cell_type": "markdown",
   "id": "8a3c43be-3e2f-4f04-a0f8-962dfb9b2b27",
   "metadata": {
    "jp-MarkdownHeadingCollapsed": true,
    "tags": []
   },
   "source": [
    "## Factory methods"
   ]
  },
  {
   "cell_type": "markdown",
   "id": "a24a5b53-a451-45cb-a0dd-5c08d3bab744",
   "metadata": {},
   "source": [
    "Позволява инстанциране на класа с различни входни данни."
   ]
  },
  {
   "cell_type": "code",
   "execution_count": 66,
   "id": "18cdbe34-77ed-44ad-8847-c3f464899c03",
   "metadata": {},
   "outputs": [],
   "source": [
    "# An example\n",
    "# tf.data.Dataset.range(2)"
   ]
  },
  {
   "cell_type": "code",
   "execution_count": 87,
   "id": "1c0640f2-fec4-4e48-852f-0aba9d6088f3",
   "metadata": {},
   "outputs": [],
   "source": [
    "class Test:\n",
    "    def __init__(self, name, cost):\n",
    "        self.name = name\n",
    "        self.cost = cost\n",
    "        \n",
    "    def __repr__(self):\n",
    "        return ', '.join([f'{k} = {v}' for k, v in self.__dict__.items()])\n",
    "        \n",
    "    @classmethod\n",
    "    def from_str(cls, text):\n",
    "        args = text.split(', ')\n",
    "        return cls(*args)"
   ]
  },
  {
   "cell_type": "code",
   "execution_count": 88,
   "id": "b505e97d-d55e-4e50-be44-a52569a79ed2",
   "metadata": {},
   "outputs": [
    {
     "name": "stdout",
     "output_type": "stream",
     "text": [
      "name = Pressure cycling, cost = 1300\n",
      "name = T-shock, cost = 1500\n"
     ]
    }
   ],
   "source": [
    "test1 = Test('Pressure cycling', 1300)\n",
    "test2 = Test.from_str('T-shock, 1500')\n",
    "\n",
    "print(test1)\n",
    "print(test2)"
   ]
  },
  {
   "cell_type": "markdown",
   "id": "d98a2c36-991a-4e5c-8cc0-463a1272555f",
   "metadata": {},
   "source": [
    "## Heading"
   ]
  },
  {
   "cell_type": "code",
   "execution_count": 15,
   "id": "45e31f1e-3919-4b3b-b8e1-751e5b637144",
   "metadata": {},
   "outputs": [
    {
     "data": {
      "text/plain": [
       "2"
      ]
     },
     "execution_count": 15,
     "metadata": {},
     "output_type": "execute_result"
    }
   ],
   "source": [
    "a = [2, 5, 6]\n",
    "\n",
    "def generator(seq):\n",
    "    for el in seq:\n",
    "        yield el\n",
    "\n",
    "a_iter = generator(a)\n",
    "next(a_iter)"
   ]
  },
  {
   "cell_type": "markdown",
   "id": "33d1e967-805a-414a-bf3b-bcaa4d5d4161",
   "metadata": {},
   "source": [
    "## Heading"
   ]
  },
  {
   "cell_type": "code",
   "execution_count": null,
   "id": "db025d1e-5f95-4617-a41e-f7bfb0f326f0",
   "metadata": {},
   "outputs": [],
   "source": []
  },
  {
   "cell_type": "markdown",
   "id": "4b98420f-e3b3-41ec-9f2a-91bd36a83baa",
   "metadata": {},
   "source": [
    "## Heading"
   ]
  },
  {
   "cell_type": "code",
   "execution_count": null,
   "id": "18da1876-784e-4c4c-8b2c-7a9799616330",
   "metadata": {},
   "outputs": [],
   "source": []
  },
  {
   "cell_type": "markdown",
   "id": "f12ee712-a8ae-47e9-98cd-e6ca9ede1c34",
   "metadata": {
    "jp-MarkdownHeadingCollapsed": true,
    "tags": []
   },
   "source": [
    "## Demo: Binary search"
   ]
  },
  {
   "cell_type": "markdown",
   "id": "b3ee6e5f-e844-428a-9470-cd46f9dcf596",
   "metadata": {},
   "source": [
    "IN: sorted array, target value\n",
    "\n",
    "OUT: index of the value in the list"
   ]
  },
  {
   "cell_type": "code",
   "execution_count": 4,
   "id": "feca80e2-12fe-4db2-bc20-22bb34fd706e",
   "metadata": {},
   "outputs": [],
   "source": [
    "def binary_search(arr, target):\n",
    "    left = 0\n",
    "    right = len(arr) - 1  # 6\n",
    "\n",
    "    while left <= right:\n",
    "        mid = (left + right) // 2\n",
    "        current_value = arr[mid]\n",
    "        if current_value == target:\n",
    "            return mid\n",
    "        elif current_value < target:\n",
    "            left = mid + 1\n",
    "        else:\n",
    "            right = mid - 1\n",
    "\n",
    "    return -1"
   ]
  },
  {
   "cell_type": "code",
   "execution_count": 5,
   "id": "8c25d5d7-603c-433f-8d43-2e3662aaa2c3",
   "metadata": {},
   "outputs": [
    {
     "data": {
      "text/plain": [
       "-1"
      ]
     },
     "execution_count": 5,
     "metadata": {},
     "output_type": "execute_result"
    }
   ],
   "source": [
    "arr = [1, 5, 6, 8, 10, 12, 15]\n",
    "target = 7\n",
    "binary_search(arr, target)"
   ]
  },
  {
   "cell_type": "code",
   "execution_count": 6,
   "id": "c871bdb1-9050-41c6-9c1b-3a93886a3195",
   "metadata": {},
   "outputs": [
    {
     "data": {
      "text/plain": [
       "2"
      ]
     },
     "execution_count": 6,
     "metadata": {},
     "output_type": "execute_result"
    }
   ],
   "source": [
    "arr = [1, 5, 6, 8, 10, 12, 15]\n",
    "target = 6\n",
    "binary_search(arr, target)"
   ]
  },
  {
   "cell_type": "markdown",
   "id": "e8202d2d-9fce-4a8e-8d49-5720aa9f915d",
   "metadata": {
    "jp-MarkdownHeadingCollapsed": true,
    "tags": []
   },
   "source": [
    "## Demo: Errors"
   ]
  },
  {
   "cell_type": "code",
   "execution_count": 38,
   "id": "6b1f692e-e415-4c5b-a22d-5d9e607dc87e",
   "metadata": {},
   "outputs": [],
   "source": [
    "# sd\n",
    "\n",
    "# NameError: name 'sd' is not defined"
   ]
  },
  {
   "cell_type": "code",
   "execution_count": 39,
   "id": "71c1a7c1-b415-41a6-b4ca-2cd4e67272f6",
   "metadata": {},
   "outputs": [],
   "source": [
    "# print('sd)\n",
    "\n",
    "# SyntaxError: unterminated string literal (detected at line 4)"
   ]
  },
  {
   "cell_type": "code",
   "execution_count": 42,
   "id": "fecfa78b-69b4-4f85-b753-975a55d491c7",
   "metadata": {},
   "outputs": [],
   "source": [
    "# a = 5\n",
    "# b = '3'\n",
    "# print(a + b)\n",
    "\n",
    "# TypeError: unsupported operand type(s) for +: 'int' and 'str'\n",
    "# program tries to perform an operation on data of the wrong type"
   ]
  },
  {
   "cell_type": "code",
   "execution_count": 45,
   "id": "5aadefe6-8715-4a3c-83a9-57a6bd0c0940",
   "metadata": {},
   "outputs": [],
   "source": [
    "# my_list = []\n",
    "# print(my_list[0])\n",
    "\n",
    "# Example of an index error\n",
    "# IndexError: list index out of range\n",
    "# the program tries to access an element in a list or tuple that does not exist"
   ]
  },
  {
   "cell_type": "code",
   "execution_count": 44,
   "id": "6bb8a608-31b7-47a0-b82c-da2ae62a9a41",
   "metadata": {},
   "outputs": [],
   "source": [
    "# with open(\"myfile.txt\") as f:\n",
    "#    print(f.read())\n",
    "    \n",
    "# FileNotFoundError: [Errno 2] No such file or directory: 'myfile.txt'"
   ]
  },
  {
   "cell_type": "code",
   "execution_count": 47,
   "id": "98c5375a-d21f-4f50-8ff5-15c3186595a2",
   "metadata": {},
   "outputs": [],
   "source": [
    "# d = {'a': 1, 'b': 2}\n",
    "# d['c']\n",
    "\n",
    "# KeyError: 'c'"
   ]
  },
  {
   "cell_type": "markdown",
   "id": "7bc86906-8e65-4afc-ae88-bf7b3d58d637",
   "metadata": {},
   "source": [
    "- AttributeError: Raised when an object has no attribute.\n",
    "- ImportError: Raised when a module or package is not found.\n",
    "- IndexError: Raised when an index is out of range.\n",
    "- KeyError: Raised when a key is not found in a dictionary.\n",
    "- KeyboardInterrupt: Raised when the user presses the interrupt key (Ctrl+C).\n",
    "- MemoryError: Raised when the program runs out of memory.\n",
    "- NameError: Raised when a variable or function name is not found.\n",
    "- NotImplementedError: Raised when an abstract method is not implemented.\n",
    "- OSError: Raised when a system-related error occurs, such as a file not found error.\n",
    "- OverflowError: Raised when a number is too large to be represented in memory.\n",
    "- SyntaxError: Raised when there is a problem with the code syntax.\n",
    "- TypeError: Raised when an operation or function is applied to an object of inappropriate type.\n",
    "- ValueError: Raised when a function argument has an invalid value.\n",
    "- ZeroDivisionError: Raised when the program tries to divide a number by zero."
   ]
  },
  {
   "cell_type": "markdown",
   "id": "e8deca82-6a91-4b75-9c93-b94370064a83",
   "metadata": {
    "jp-MarkdownHeadingCollapsed": true,
    "tags": []
   },
   "source": [
    "## Demo: Exceptions"
   ]
  },
  {
   "cell_type": "markdown",
   "id": "f6eb6eca-c75c-4f98-8abd-8bde0b37ea52",
   "metadata": {},
   "source": [
    "error is an unexpected problem\n",
    "\n",
    "Python raises an exception object = python CREATES an object\n",
    "\n",
    "\n",
    "- When an exception is raised, Python **creates an instance of a specific exception class**, which is a subclass of the built-in Exception class.\n",
    "- The exception object contains information about the error that occurred, such as a description of the error and a traceback that shows the sequence of function calls that led to the error."
   ]
  },
  {
   "cell_type": "code",
   "execution_count": 50,
   "id": "1fc34f65-5e60-43b5-996b-fff999c03387",
   "metadata": {},
   "outputs": [
    {
     "name": "stdout",
     "output_type": "stream",
     "text": [
      "Cannot divide by zero\n"
     ]
    }
   ],
   "source": [
    "def divide(x, y):\n",
    "    if y == 0:\n",
    "        raise ZeroDivisionError(\"Cannot divide by zero\")\n",
    "    else:\n",
    "        return x / y\n",
    "\n",
    "try:\n",
    "    result = divide(10, 0)\n",
    "except ZeroDivisionError as e:\n",
    "    print(e)"
   ]
  },
  {
   "cell_type": "code",
   "execution_count": 55,
   "id": "fb4d4a0e-16ef-4611-8079-b74a6695be65",
   "metadata": {},
   "outputs": [
    {
     "name": "stdout",
     "output_type": "stream",
     "text": [
      "division by zero\n",
      "{}\n",
      "('division by zero',)\n"
     ]
    },
    {
     "ename": "TypeError",
     "evalue": "BaseException.with_traceback() takes exactly one argument (0 given)",
     "output_type": "error",
     "traceback": [
      "\u001b[1;31m---------------------------------------------------------------------------\u001b[0m",
      "\u001b[1;31mZeroDivisionError\u001b[0m                         Traceback (most recent call last)",
      "\u001b[1;32m~\\AppData\\Local\\Temp\\ipykernel_8372\\2692420243.py\u001b[0m in \u001b[0;36m<module>\u001b[1;34m\u001b[0m\n\u001b[0;32m      4\u001b[0m \u001b[1;32mtry\u001b[0m\u001b[1;33m:\u001b[0m\u001b[1;33m\u001b[0m\u001b[1;33m\u001b[0m\u001b[0m\n\u001b[1;32m----> 5\u001b[1;33m     \u001b[0mresult\u001b[0m \u001b[1;33m=\u001b[0m \u001b[0mdivide\u001b[0m\u001b[1;33m(\u001b[0m\u001b[1;36m10\u001b[0m\u001b[1;33m,\u001b[0m \u001b[1;36m0\u001b[0m\u001b[1;33m)\u001b[0m\u001b[1;33m\u001b[0m\u001b[1;33m\u001b[0m\u001b[0m\n\u001b[0m\u001b[0;32m      6\u001b[0m \u001b[1;32mexcept\u001b[0m \u001b[0mZeroDivisionError\u001b[0m \u001b[1;32mas\u001b[0m \u001b[0me\u001b[0m\u001b[1;33m:\u001b[0m\u001b[1;33m\u001b[0m\u001b[1;33m\u001b[0m\u001b[0m\n",
      "\u001b[1;32m~\\AppData\\Local\\Temp\\ipykernel_8372\\2692420243.py\u001b[0m in \u001b[0;36mdivide\u001b[1;34m(x, y)\u001b[0m\n\u001b[0;32m      1\u001b[0m \u001b[1;32mdef\u001b[0m \u001b[0mdivide\u001b[0m\u001b[1;33m(\u001b[0m\u001b[0mx\u001b[0m\u001b[1;33m,\u001b[0m \u001b[0my\u001b[0m\u001b[1;33m)\u001b[0m\u001b[1;33m:\u001b[0m\u001b[1;33m\u001b[0m\u001b[1;33m\u001b[0m\u001b[0m\n\u001b[1;32m----> 2\u001b[1;33m     \u001b[1;32mreturn\u001b[0m \u001b[0mx\u001b[0m \u001b[1;33m/\u001b[0m \u001b[0my\u001b[0m\u001b[1;33m\u001b[0m\u001b[1;33m\u001b[0m\u001b[0m\n\u001b[0m\u001b[0;32m      3\u001b[0m \u001b[1;33m\u001b[0m\u001b[0m\n",
      "\u001b[1;31mZeroDivisionError\u001b[0m: division by zero",
      "\nDuring handling of the above exception, another exception occurred:\n",
      "\u001b[1;31mTypeError\u001b[0m                                 Traceback (most recent call last)",
      "\u001b[1;32m~\\AppData\\Local\\Temp\\ipykernel_8372\\2692420243.py\u001b[0m in \u001b[0;36m<module>\u001b[1;34m\u001b[0m\n\u001b[0;32m      8\u001b[0m     \u001b[0mprint\u001b[0m\u001b[1;33m(\u001b[0m\u001b[0me\u001b[0m\u001b[1;33m.\u001b[0m\u001b[0m__dict__\u001b[0m\u001b[1;33m)\u001b[0m\u001b[1;33m\u001b[0m\u001b[1;33m\u001b[0m\u001b[0m\n\u001b[0;32m      9\u001b[0m     \u001b[0mprint\u001b[0m\u001b[1;33m(\u001b[0m\u001b[0me\u001b[0m\u001b[1;33m.\u001b[0m\u001b[0margs\u001b[0m\u001b[1;33m)\u001b[0m\u001b[1;33m\u001b[0m\u001b[1;33m\u001b[0m\u001b[0m\n\u001b[1;32m---> 10\u001b[1;33m     \u001b[0mprint\u001b[0m\u001b[1;33m(\u001b[0m\u001b[0me\u001b[0m\u001b[1;33m.\u001b[0m\u001b[0mwith_traceback\u001b[0m\u001b[1;33m(\u001b[0m\u001b[1;33m)\u001b[0m\u001b[1;33m)\u001b[0m\u001b[1;33m\u001b[0m\u001b[1;33m\u001b[0m\u001b[0m\n\u001b[0m",
      "\u001b[1;31mTypeError\u001b[0m: BaseException.with_traceback() takes exactly one argument (0 given)"
     ]
    }
   ],
   "source": [
    "def divide(x, y):\n",
    "    return x / y\n",
    "\n",
    "try:\n",
    "    result = divide(10, 0)\n",
    "except ZeroDivisionError as e:\n",
    "    print(e)\n",
    "    print(e.__dict__)\n",
    "    print(e.args)\n",
    "    print(e.with_traceback())"
   ]
  },
  {
   "cell_type": "code",
   "execution_count": 57,
   "id": "3339d545-e678-4a64-8b54-2114ecb0c11e",
   "metadata": {},
   "outputs": [
    {
     "data": {
      "text/plain": [
       "[ZeroDivisionError, ArithmeticError, Exception, BaseException, object]"
      ]
     },
     "execution_count": 57,
     "metadata": {},
     "output_type": "execute_result"
    }
   ],
   "source": [
    "ZeroDivisionError.mro()"
   ]
  },
  {
   "cell_type": "markdown",
   "id": "3d636a17-3f5a-48b6-9ea1-c18af4c0b0b7",
   "metadata": {
    "jp-MarkdownHeadingCollapsed": true,
    "tags": []
   },
   "source": [
    "## Demo: Create files quickly"
   ]
  },
  {
   "cell_type": "code",
   "execution_count": 7,
   "id": "a3a70f09-2918-4b17-a39d-818dbdc2c8fc",
   "metadata": {},
   "outputs": [],
   "source": [
    "filenames = [\n",
    "    'dummy1.md', \n",
    "    'dummy2.md',\n",
    "]\n",
    "# [open(f, 'x').close() for f in filenames]    "
   ]
  }
 ],
 "metadata": {
  "kernelspec": {
   "display_name": "Python 3 (ipykernel)",
   "language": "python",
   "name": "python3"
  },
  "language_info": {
   "codemirror_mode": {
    "name": "ipython",
    "version": 3
   },
   "file_extension": ".py",
   "mimetype": "text/x-python",
   "name": "python",
   "nbconvert_exporter": "python",
   "pygments_lexer": "ipython3",
   "version": "3.10.9"
  }
 },
 "nbformat": 4,
 "nbformat_minor": 5
}

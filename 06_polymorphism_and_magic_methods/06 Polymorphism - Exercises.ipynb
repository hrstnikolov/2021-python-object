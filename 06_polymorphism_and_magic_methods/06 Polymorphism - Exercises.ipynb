{
 "cells": [
  {
   "cell_type": "code",
   "execution_count": 6,
   "metadata": {},
   "outputs": [],
   "source": [
    "from abc import ABC, abstractmethod\n",
    "from typing import Any\n",
    "from pprint import pprint"
   ]
  },
  {
   "cell_type": "markdown",
   "metadata": {},
   "source": [
    "# 06 Polymorphism - Exercises"
   ]
  },
  {
   "cell_type": "markdown",
   "metadata": {
    "jp-MarkdownHeadingCollapsed": true,
    "tags": []
   },
   "source": [
    "## 01 Vehicle"
   ]
  },
  {
   "cell_type": "code",
   "execution_count": 22,
   "metadata": {},
   "outputs": [
    {
     "name": "stdout",
     "output_type": "stream",
     "text": [
      "2.299999999999997\n",
      "12.299999999999997\n",
      "17.0\n",
      "64.5\n"
     ]
    }
   ],
   "source": [
    "# Good solution\n",
    "\n",
    "class InsufficientFuelError(Exception):\n",
    "    \"\"\"Custom exception that is raised when the remaining fuel is not enough.\"\"\"\n",
    "\n",
    "    def _init_(self, message) -> None:\n",
    "        super()._init_(message)\n",
    "\n",
    "\n",
    "class Vehicle:\n",
    "    _AC_FUEL_CONSUMPTION = 0\n",
    "    _FUEL_RETENTION_COEF = 1\n",
    "\n",
    "    def __init__(self, fuel_quantity: float, fuel_consumption: float) -> None:\n",
    "        \"\"\"Main consructor.\n",
    "\n",
    "        Args:\n",
    "            fuel_quantity (float): how much fuel in liters is currently in the tank\n",
    "            fuel_consumption (float): in liters/km\n",
    "        \"\"\"\n",
    "        self.fuel_quantity = fuel_quantity\n",
    "        self.fuel_consumption = fuel_consumption + self._AC_FUEL_CONSUMPTION\n",
    "\n",
    "    @classmethod\n",
    "    def from_liters_per_100km(\n",
    "        cls, fuel_quantity: float, fuel_consumption_per_100km: float\n",
    "    ):\n",
    "        \"\"\"Alternate constructor for fuel consumption in liters / 100km.\"\"\"\n",
    "        fuel_consumption = fuel_consumption_per_100km / 100 + cls._AC_FUEL_CONSUMPTION\n",
    "        return cls(fuel_quantity, fuel_consumption)\n",
    "\n",
    "    def drive(self, distance):\n",
    "        consumed_fuel = distance * self.fuel_consumption\n",
    "        if consumed_fuel > self.fuel_quantity:\n",
    "            raise InsufficientFuelError(\"Too little fuel remaining in the tank.\")\n",
    "        self.fuel_quantity -= consumed_fuel\n",
    "\n",
    "    def refuel(self, quantity):\n",
    "        self.fuel_quantity += quantity * self._FUEL_RETENTION_COEF\n",
    "\n",
    "\n",
    "class Car(Vehicle):\n",
    "    _AC_FUEL_CONSUMPTION = 0.9\n",
    "    _FUEL_RETENTION_COEF = 1\n",
    "\n",
    "\n",
    "class Truck(Vehicle):\n",
    "    _AC_FUEL_CONSUMPTION = 1.6\n",
    "    _FUEL_RETENTION_COEF = 0.95\n",
    "\n",
    "\n",
    "car = Car(20, 5)\n",
    "car.drive(3)\n",
    "print(car.fuel_quantity)\n",
    "car.refuel(10)\n",
    "print(car.fuel_quantity)\n",
    "\n",
    "\n",
    "truck = Truck(100, 15)\n",
    "truck.drive(5)\n",
    "print(truck.fuel_quantity)\n",
    "truck.refuel(50)\n",
    "print(truck.fuel_quantity)\n"
   ]
  },
  {
   "cell_type": "code",
   "execution_count": 23,
   "metadata": {},
   "outputs": [],
   "source": [
    "# Expected solution by the task\n",
    "\n",
    "from abc import ABC, abstractmethod\n",
    "\n",
    "# Make an abstrat class Vehicle.\n",
    "# Make a class Vehicle that is an AbstractBaseClass.\n",
    "\n",
    "\n",
    "class Vehicle(ABC):\n",
    "    @abstractmethod\n",
    "    def drive(self):\n",
    "        pass\n",
    "\n",
    "    @abstractmethod\n",
    "    def refuel(self):\n",
    "        pass\n",
    "\n",
    "\n",
    "class Car(Vehicle):\n",
    "    def drive(self, distance):\n",
    "        pass\n",
    "\n",
    "    def refuel(self, fuel):\n",
    "        pass\n",
    "\n",
    "\n",
    "class Truck(Vehicle):\n",
    "    def drive(self, distance):\n",
    "        pass\n",
    "\n",
    "    def refuel(self, fuel):\n",
    "        pass\n",
    "\n",
    "\n",
    "toyota = Car()\n",
    "volvo = Truck()"
   ]
  },
  {
   "cell_type": "markdown",
   "metadata": {
    "jp-MarkdownHeadingCollapsed": true,
    "tags": []
   },
   "source": [
    "## 02 Groups"
   ]
  },
  {
   "cell_type": "code",
   "execution_count": 24,
   "metadata": {},
   "outputs": [
    {
     "name": "stdout",
     "output_type": "stream",
     "text": [
      "3\n",
      "Group Special with members Elon Musk, Warren Musk\n",
      "Person 0: Aliko Dangote\n",
      "Person 0: Aliko Dangote\n",
      "Person 1: Bill Gates\n",
      "Person 2: Warren Buffet\n",
      "Person 3: Elon Musk\n",
      "Person 4: Warren Musk\n"
     ]
    }
   ],
   "source": [
    "from typing import List\n",
    "\n",
    "\n",
    "class Person:\n",
    "    def __init__(self, name: str, surname: str) -> None:\n",
    "        self.name = name\n",
    "        self.surname = surname\n",
    "\n",
    "    def __add__(self, other: \"Person\") -> \"Person\":\n",
    "        return Person(self.name, other.surname)\n",
    "\n",
    "    def __str__(self) -> str:\n",
    "        return f\"{self.name} {self.surname}\"\n",
    "\n",
    "\n",
    "class Group:\n",
    "    def __init__(self, name: str, people: List[Person]) -> None:\n",
    "        self.name = name\n",
    "        self.people = people\n",
    "\n",
    "    def __add__(self, other: \"Group\") -> \"Group\":\n",
    "        return Group(self.name + other.name, self.people + other.people)\n",
    "\n",
    "    def __len__(self):\n",
    "        return len(self.people)\n",
    "\n",
    "    def __str__(self) -> str:\n",
    "        members = \", \".join([str(p) for p in self.people])\n",
    "        return f\"Group {self.name} with members {members}\"\n",
    "    \n",
    "    def __getitem__(self, index):\n",
    "        return f'Person {index}: {self.people[index]}'\n",
    "\n",
    "\n",
    "# --------------------------------------------------------------------------------\n",
    "# Tests\n",
    "\n",
    "p0 = Person(\"Aliko\", \"Dangote\")\n",
    "p1 = Person(\"Bill\", \"Gates\")\n",
    "p2 = Person(\"Warren\", \"Buffet\")\n",
    "p3 = Person(\"Elon\", \"Musk\")\n",
    "p4 = p2 + p3\n",
    "\n",
    "first_group = Group(\"__VIP__\", [p0, p1, p2])\n",
    "second_group = Group(\"Special\", [p3, p4])\n",
    "third_group = first_group + second_group\n",
    "\n",
    "print(len(first_group))\n",
    "print(second_group)\n",
    "print(third_group[0])\n",
    "\n",
    "for person in third_group:\n",
    "    print(person)"
   ]
  },
  {
   "cell_type": "markdown",
   "metadata": {},
   "source": [
    "## 03 Account"
   ]
  },
  {
   "cell_type": "code",
   "execution_count": 25,
   "metadata": {},
   "outputs": [
    {
     "name": "stdout",
     "output_type": "stream",
     "text": [
      "Account of bob with starting amount: 10\n",
      "Account(bob, 10)\n",
      "40\n",
      "3\n",
      "20\n",
      "-20\n",
      "30\n",
      "-20\n",
      "[30, -20, 20]\n",
      "False\n",
      "False\n",
      "True\n",
      "True\n",
      "False\n",
      "True\n",
      "Account of bob&john with starting amount: 10\n",
      "[20, -20, 30, 10, 60]\n"
     ]
    }
   ],
   "source": [
    "from typing import List\n",
    "\n",
    "\n",
    "class Account:\n",
    "    def __init__(self, owner: str, amount: int = 0):\n",
    "        self.owner = owner\n",
    "        self.amount = amount\n",
    "        self._transactions: List[int] = []\n",
    "\n",
    "    def add_transaction(self, amount: int):\n",
    "        if not isinstance(amount, int):\n",
    "            raise TypeError(\"Amount must be an integer\")\n",
    "\n",
    "        self._transactions.append(amount)\n",
    "\n",
    "    @property\n",
    "    def balance(self):\n",
    "        return self.amount + sum(self._transactions)\n",
    "\n",
    "    @staticmethod\n",
    "    def validate_transaction(account: \"Account\", amount_to_add: int):\n",
    "        if account.balance < amount_to_add:\n",
    "            raise ValueError(\"Insufficient funds\")\n",
    "\n",
    "        account.add_transaction(amount_to_add)\n",
    "\n",
    "    def __str__(self):\n",
    "        return f\"Account of {self.owner} with starting amount: {self.amount}\"\n",
    "\n",
    "    def __repr__(self):\n",
    "        return f\"Account({self.owner}, {self.amount})\"\n",
    "\n",
    "    def __len__(self):\n",
    "        return len(self._transactions)\n",
    "\n",
    "    def __iter__(self):\n",
    "        return iter(self._transactions)\n",
    "\n",
    "    def __getitem__(self, index):\n",
    "        return self._transactions[index]\n",
    "\n",
    "    def __reverse__(self):\n",
    "        return iter(self._transactions[::-1])\n",
    "\n",
    "    def __eq__(self, other):\n",
    "        return self.balance == other.balance\n",
    "\n",
    "    def __gt__(self, other):\n",
    "        return self.balance > other.balance\n",
    "\n",
    "    def __ge__(self, other):\n",
    "        return self.balance >= other.balance\n",
    "\n",
    "    def __add__(self, other):\n",
    "        new_account = Account(f\"{self.owner}&{other.owner}\", self.amount + other.amount)\n",
    "        new_account._transactions = self._transactions + other._transactions\n",
    "        return new_account\n",
    "\n",
    "\n",
    "# Tests\n",
    "# ----------------------------------------------------------------\n",
    "\n",
    "acc = Account(\"bob\", 10)\n",
    "acc2 = Account(\"john\")\n",
    "print(acc)\n",
    "print(repr(acc))\n",
    "acc.add_transaction(20)\n",
    "acc.add_transaction(-20)\n",
    "acc.add_transaction(30)\n",
    "print(acc.balance)\n",
    "print(len(acc))\n",
    "for transaction in acc:\n",
    "    print(transaction)\n",
    "print(acc[1])\n",
    "print(list(reversed(acc)))\n",
    "acc2.add_transaction(10)\n",
    "acc2.add_transaction(60)\n",
    "print(acc > acc2)\n",
    "print(acc >= acc2)\n",
    "print(acc < acc2)\n",
    "print(acc <= acc2)\n",
    "print(acc == acc2)\n",
    "print(acc != acc2)\n",
    "acc3 = acc + acc2\n",
    "print(acc3)\n",
    "print(acc3._transactions)\n"
   ]
  },
  {
   "cell_type": "markdown",
   "metadata": {},
   "source": [
    "## Heading"
   ]
  },
  {
   "cell_type": "code",
   "execution_count": null,
   "metadata": {},
   "outputs": [],
   "source": []
  },
  {
   "cell_type": "markdown",
   "metadata": {
    "jp-MarkdownHeadingCollapsed": true,
    "tags": []
   },
   "source": [
    "## Animals"
   ]
  },
  {
   "cell_type": "code",
   "execution_count": 2,
   "metadata": {},
   "outputs": [
    {
     "name": "stdout",
     "output_type": "stream",
     "text": [
      "bark\n",
      "meow\n"
     ]
    }
   ],
   "source": [
    "class Animal:\n",
    "    def __init__(self, name) -> None:\n",
    "        self.name = name\n",
    "\n",
    "\n",
    "class Dog(Animal):\n",
    "    sound = \"bark\"\n",
    "\n",
    "    def __init__(self, name) -> None:\n",
    "        super().__init__(name)\n",
    "\n",
    "    def make_sound(self) -> None:\n",
    "        print(self.sound)\n",
    "\n",
    "\n",
    "class Cat(Animal):\n",
    "    sound = \"meow\"\n",
    "\n",
    "    def __init__(self, name) -> None:\n",
    "        super().__init__(name)\n",
    "\n",
    "    def make_sound(self) -> None:\n",
    "        print(self.sound)\n",
    "\n",
    "\n",
    "sparky = Dog(\"Sparky\")\n",
    "tom = Cat(\"Tom\")\n",
    "\n",
    "sparky.make_sound()\n",
    "tom.make_sound()"
   ]
  },
  {
   "cell_type": "code",
   "execution_count": 8,
   "metadata": {},
   "outputs": [
    {
     "name": "stdout",
     "output_type": "stream",
     "text": [
      "bark\n",
      "meow\n"
     ]
    }
   ],
   "source": [
    "class Animal:\n",
    "    def __init__(self, name) -> None:\n",
    "        self.name = name\n",
    "\n",
    "    @classmethod\n",
    "    def make_sound(cls):\n",
    "        print(cls.sound)\n",
    "\n",
    "\n",
    "class Dog(Animal):\n",
    "    sound = \"bark\"\n",
    "\n",
    "    def __init__(self, name) -> None:\n",
    "        super().__init__(name)\n",
    "\n",
    "\n",
    "class Cat(Animal):\n",
    "    sound = \"meow\"\n",
    "\n",
    "    def __init__(self, name) -> None:\n",
    "        super().__init__(name)\n",
    "\n",
    "\n",
    "sparky = Dog(\"Sparky\")\n",
    "tom = Cat(\"Tom\")\n",
    "\n",
    "sparky.make_sound()\n",
    "tom.make_sound()"
   ]
  },
  {
   "cell_type": "code",
   "execution_count": 5,
   "metadata": {},
   "outputs": [
    {
     "name": "stdout",
     "output_type": "stream",
     "text": [
      "bark\n",
      "meow\n"
     ]
    }
   ],
   "source": [
    "class Animal:\n",
    "    def __init__(self, name) -> None:\n",
    "        self.name = name\n",
    "\n",
    "    def make_sound(self):\n",
    "        print(self.sound)\n",
    "\n",
    "\n",
    "class Dog(Animal):\n",
    "    sound = \"bark\"\n",
    "\n",
    "    def __init__(self, name) -> None:\n",
    "        super().__init__(name)\n",
    "\n",
    "\n",
    "class Cat(Animal):\n",
    "    sound = \"meow\"\n",
    "\n",
    "    def __init__(self, name) -> None:\n",
    "        super().__init__(name)\n",
    "\n",
    "\n",
    "sparky = Dog(\"Sparky\")\n",
    "tom = Cat(\"Tom\")\n",
    "\n",
    "sparky.make_sound()\n",
    "tom.make_sound()"
   ]
  },
  {
   "cell_type": "code",
   "execution_count": 1,
   "metadata": {},
   "outputs": [
    {
     "ename": "NameError",
     "evalue": "name 'ABC' is not defined",
     "output_type": "error",
     "traceback": [
      "\u001b[1;31m---------------------------------------------------------------------------\u001b[0m",
      "\u001b[1;31mNameError\u001b[0m                                 Traceback (most recent call last)",
      "Cell \u001b[1;32mIn[1], line 1\u001b[0m\n\u001b[1;32m----> 1\u001b[0m \u001b[39mclass\u001b[39;00m \u001b[39mAnimal\u001b[39;00m(ABC):\n\u001b[0;32m      2\u001b[0m     \u001b[39mdef\u001b[39;00m \u001b[39m__init__\u001b[39m(\u001b[39mself\u001b[39m, name) \u001b[39m-\u001b[39m\u001b[39m>\u001b[39m \u001b[39mNone\u001b[39;00m:\n\u001b[0;32m      3\u001b[0m         \u001b[39mself\u001b[39m\u001b[39m.\u001b[39mname \u001b[39m=\u001b[39m name\n",
      "\u001b[1;31mNameError\u001b[0m: name 'ABC' is not defined"
     ]
    }
   ],
   "source": [
    "class Animal(ABC):\n",
    "    def __init__(self, name) -> None:\n",
    "        self.name = name\n",
    "\n",
    "    @abstractmethod\n",
    "    def make_sound(self):\n",
    "        pass\n",
    "\n",
    "\n",
    "class Dog(Animal):\n",
    "    sound = \"bark\"\n",
    "\n",
    "    def __init__(self, name) -> None:\n",
    "        super().__init__(name)\n",
    "\n",
    "    def make_sound(self):\n",
    "        print(self.sound)\n",
    "\n",
    "\n",
    "class Cat(Animal):\n",
    "    sound = \"meow\"\n",
    "\n",
    "    def __init__(self, name) -> None:\n",
    "        super().__init__(name)\n",
    "\n",
    "    def make_sound(self):\n",
    "        print(self.sound)\n",
    "\n",
    "\n",
    "sparky = Dog(\"Sparky\")\n",
    "tom = Cat(\"Tom\")\n",
    "\n",
    "sparky.make_sound()\n",
    "tom.make_sound()"
   ]
  }
 ],
 "metadata": {
  "kernelspec": {
   "display_name": "Python 3 (ipykernel)",
   "language": "python",
   "name": "python3"
  },
  "language_info": {
   "codemirror_mode": {
    "name": "ipython",
    "version": 3
   },
   "file_extension": ".py",
   "mimetype": "text/x-python",
   "name": "python",
   "nbconvert_exporter": "python",
   "pygments_lexer": "ipython3",
   "version": "3.10.10"
  }
 },
 "nbformat": 4,
 "nbformat_minor": 4
}

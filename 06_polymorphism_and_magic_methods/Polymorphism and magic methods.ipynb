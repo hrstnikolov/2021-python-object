{
 "cells": [
  {
   "cell_type": "code",
   "execution_count": 12,
   "id": "bb357ee7-8f65-4cfb-a729-9c5d13a841ae",
   "metadata": {
    "pycharm": {
     "name": "#%%\n"
    }
   },
   "outputs": [],
   "source": [
    "from abc import ABC, abstractmethod"
   ]
  },
  {
   "cell_type": "markdown",
   "id": "e7caf860-9652-41dc-af48-e64cf3e1dbe8",
   "metadata": {
    "pycharm": {
     "name": "#%% md\n"
    }
   },
   "source": [
    "# Polymorphism and Magic Methods"
   ]
  },
  {
   "cell_type": "markdown",
   "id": "93a00fe0-5f1c-4522-b2b6-d9a7c8067325",
   "metadata": {
    "pycharm": {
     "name": "#%% md\n"
    }
   },
   "source": [
    "## Полиморфизъм\n",
    "\n",
    "* дефиниция: възможността да представяме обектите като обекти от техен родителски клас\n",
    "* под представяне, разбираме подаване на обекта\n",
    "  като аргумент във фунция\n",
    "* под родителски тип (клас) имаме предвид който\n",
    "  и да е пра-родител\n",
    "* принцип в ооп\n",
    "\n",
    "\n",
    "* наследяването е задължително за да имаме полиморфизъм\n",
    "* ако фунция има за параметрър обект,\n",
    "  който е очаквана инстанция на клас А,\n",
    "  тя може да работи и ако подадем инстанция\n",
    "  от клас-наследник на А, без това да доведе\n",
    "  до предупреждение от Pycharm\n",
    "* абстракция <-> конкретика\n",
    "* полиморфизъмът създава абстракция"
   ]
  },
  {
   "cell_type": "code",
   "execution_count": 7,
   "id": "9e770643-8d61-4e4b-a925-dd25ee2fc177",
   "metadata": {
    "pycharm": {
     "name": "#%%\n"
    }
   },
   "outputs": [
    {
     "name": "stdout",
     "output_type": "stream",
     "text": [
      "True\n",
      "True\n",
      "True\n"
     ]
    }
   ],
   "source": [
    "class Shape:\n",
    "    pass\n",
    "\n",
    "\n",
    "class Circle(Shape):\n",
    "    pass\n",
    "\n",
    "\n",
    "c = Circle()\n",
    "\n",
    "print(isinstance(c, Circle))\n",
    "print(isinstance(c, Shape))\n",
    "print(isinstance(c, object))"
   ]
  },
  {
   "cell_type": "markdown",
   "id": "02747631-4773-434a-a4c5-67718c179b52",
   "metadata": {
    "pycharm": {
     "name": "#%% md\n"
    }
   },
   "source": [
    "## Абстракция\n",
    "\n",
    "* Абстракцията ни дава възможност да пишем код без да се интересуваме\n",
    "  от конкретната имплементация\n",
    "* пример: когато шофирме кола ни интересува как да я\n",
    "  използваме, не е нужно да разбираме устройството на\n",
    "  двигател, ходова част...\n",
    "* пример 2: frond end получава данни от back end, не се\n",
    "  интересува дали be е написан на питон, джава...\n",
    "* полза: намалява сложността; получаваме част от\n",
    "  информацията, която ни интересува \n",
    "* абстракция = принцип в ООП"
   ]
  },
  {
   "cell_type": "markdown",
   "id": "998689ba-8f13-4ec2-8af1-f88323d1dfaf",
   "metadata": {
    "pycharm": {
     "name": "#%% md\n"
    }
   },
   "source": [
    "### Абстрактни класове\n",
    "\n",
    "* Абстрактен клас = клас с абстрактни методи\n",
    "* Абстрактен метод = няма имплементация(т.е. код в тялото)\n",
    "* абстрактния клас не може да се инстанцира\n",
    "  (да се създават обекти), целта му е да бъде наследен\n",
    "* Абстрактен клас е като скелет; абстрактиния кл задава поведението\n",
    "което после всеки наследник имплементира\n",
    "* можем да направим клас абстрактен като при подаване на обект\n",
    "от класа вдигаме грешка - не питонско"
   ]
  },
  {
   "cell_type": "code",
   "execution_count": 10,
   "id": "055b3dae-beb3-4492-9f17-3d9b0b2d8aed",
   "metadata": {
    "pycharm": {
     "name": "#%%\n"
    }
   },
   "outputs": [
    {
     "name": "stdout",
     "output_type": "stream",
     "text": [
      "<__main__.Circle object at 0x0000016D33777F40>\n"
     ]
    }
   ],
   "source": [
    "class Shape:\n",
    "    def __init__(self):\n",
    "        if type(self) == Shape:\n",
    "            raise TypeError('Shape is abstract!')\n",
    "\n",
    "    def area(self):\n",
    "        raise TypeError('area() is abstract')\n",
    "\n",
    "\n",
    "class Circle(Shape):\n",
    "    def __init__(self, radius):\n",
    "        self.radius = radius\n",
    "\n",
    "\n",
    "print(Circle(2))\n",
    "\n",
    "# print(Circle(4).area())  # TypeError: area() is abstract\n",
    "# print(Shape())  # TypeError: Shape is abstract!"
   ]
  },
  {
   "cell_type": "markdown",
   "id": "e91b9db8-1d43-46f6-b139-cbcf259aebe1",
   "metadata": {
    "pycharm": {
     "name": "#%% md\n"
    }
   },
   "source": [
    "Питонски начин е abc модула:"
   ]
  },
  {
   "cell_type": "code",
   "execution_count": 21,
   "id": "cde08bb3-7fda-45d2-a56d-cb7ee7319a74",
   "metadata": {
    "pycharm": {
     "name": "#%%\n"
    }
   },
   "outputs": [],
   "source": [
    "class Shape(ABC):\n",
    "    @abstractmethod\n",
    "    def area(self):\n",
    "        pass\n",
    "    \n",
    "    @abstractmethod\n",
    "    def perimeter(self):\n",
    "        pass\n",
    "\n",
    "class Circle(Shape):\n",
    "    def __init__(self, radius):\n",
    "        self.radius = radius\n",
    "\n",
    "\n",
    "# print(Circle(2))  # TypeError: Can't instantiate abstract class Circle with abstract methods area, perimeter"
   ]
  },
  {
   "cell_type": "code",
   "execution_count": 23,
   "id": "a8b7e626-239d-484d-a2fb-e6ad85764830",
   "metadata": {
    "pycharm": {
     "name": "#%%\n"
    }
   },
   "outputs": [
    {
     "name": "stdout",
     "output_type": "stream",
     "text": [
      "<__main__.Circle object at 0x0000016D343A83A0>\n"
     ]
    }
   ],
   "source": [
    "class Shape(ABC):\n",
    "    @abstractmethod\n",
    "    def area(self):\n",
    "        pass\n",
    "    \n",
    "    @abstractmethod\n",
    "    def perimeter(self):\n",
    "        pass\n",
    "\n",
    "class Circle(Shape):\n",
    "    def __init__(self, radius):\n",
    "        self.radius = radius\n",
    "    \n",
    "    def area(self):\n",
    "        return 4\n",
    "    \n",
    "    def perimeter(self):\n",
    "        return 3\n",
    "\n",
    "print(Circle(2))"
   ]
  },
  {
   "cell_type": "markdown",
   "id": "4fd431ce-8e74-4617-9cf7-824c52074b13",
   "metadata": {
    "pycharm": {
     "name": "#%% md\n"
    }
   },
   "source": [
    "* абстрактните класове дават strong type полиморфизъм\n",
    "(задължително трябва в наследника всички @abstractmethod-и\n",
    "да се пре-напишат)\n",
    "* да не се пре-написва инит-а при наследници, ако не\n",
    "се създават нови дейта атрибути\n",
    "* абстрактен метод никога неможе да бъде изпълнен, \n",
    "  той задължава наследници да го пре-напишат = да \n",
    "  направят имплементация = как да се реализира"
   ]
  },
  {
   "cell_type": "markdown",
   "id": "34e747d3-2f73-403b-9d91-dc45e9a41542",
   "metadata": {
    "pycharm": {
     "name": "#%% md\n"
    }
   },
   "source": [
    "## Duck-typing\n",
    "\n",
    "* пример: фунцията `len()` не се интересува какъв е типа на\n",
    "  аргумента, а дали има метод `__len__`\n",
    "* концепция в динамично-типизираните езици (питон, JS)\n",
    "* стил на писане на код\n",
    "* коцепцията е че типът (класът) на обект е по-малко важен от\n",
    "методите на обекта\n",
    "* когато ползваме този стил, не проверяваме за типа на обекта,\n",
    "вместо това търсим налиние на определен метод или атрибут\n",
    "* Алтернатива на полиморфизма, по-айляшки\n",
    "* няма смисил в практиката да правим родителски клас само\n",
    "за да опишем абстрактни методи. Има смисъл ако има и имплементирани\n",
    "  методи (които ще се наследят и ползват от наследниците)."
   ]
  },
  {
   "cell_type": "markdown",
   "id": "ffae3633-dbe5-4cd2-b4d3-3c7a95d3ef3e",
   "metadata": {
    "pycharm": {
     "name": "#%% md\n"
    }
   },
   "source": [
    "Version with an abstract class and abstract method:"
   ]
  },
  {
   "cell_type": "code",
   "execution_count": 28,
   "id": "5055d516-56f6-4080-ad96-05bb1ed949b0",
   "metadata": {
    "pycharm": {
     "name": "#%%\n"
    }
   },
   "outputs": [
    {
     "name": "stdout",
     "output_type": "stream",
     "text": [
      "Bau\n",
      "miau\n"
     ]
    }
   ],
   "source": [
    "class Animal(ABC):\n",
    "    def __init__(self, name):\n",
    "        self.name = name\n",
    "\n",
    "    @abstractmethod\n",
    "    def make_sound(self):\n",
    "        pass\n",
    "\n",
    "\n",
    "class Dog(Animal):\n",
    "    def make_sound(self):\n",
    "        print('Bau')\n",
    "\n",
    "\n",
    "class Cat(Animal):\n",
    "    def make_sound(self):\n",
    "        print('miau')\n",
    "\n",
    "\n",
    "roshlio = Dog('Roshlio')\n",
    "maca = Cat('Maca')\n",
    "\n",
    "roshlio.make_sound()\n",
    "maca.make_sound()"
   ]
  },
  {
   "cell_type": "code",
   "execution_count": 29,
   "id": "b7404eb6-1d55-484a-b3b1-90ca722d3d08",
   "metadata": {
    "pycharm": {
     "name": "#%%\n"
    }
   },
   "outputs": [
    {
     "name": "stdout",
     "output_type": "stream",
     "text": [
      "Bau\n",
      "miau\n"
     ]
    }
   ],
   "source": [
    "# Improved version with ducktyping\n",
    "\n",
    "class Dog:\n",
    "    def __init__(self, name):\n",
    "        self.name = name\n",
    "\n",
    "    def make_sound(self):\n",
    "        print(\"Bau\")\n",
    "\n",
    "\n",
    "class Cat:\n",
    "    def __init__(self, name):\n",
    "        self.name = name\n",
    "\n",
    "    def make_sound(self):\n",
    "        print(\"Miau\")\n",
    "\n",
    "\n",
    "def  make_sound(animal):\n",
    "    animal.make_sound()\n",
    "\n",
    "\n",
    "make_sound(roshlio)\n",
    "make_sound(maca)"
   ]
  },
  {
   "cell_type": "markdown",
   "id": "34727f6a-4632-41b5-b226-ab16ce959ad4",
   "metadata": {
    "pycharm": {
     "name": "#%% md\n"
    }
   },
   "source": [
    "## Магически методи\n",
    "\n",
    "* методи, който имат __ преди и след името на метода\n",
    "* методът замества запис с оператори и литерали като + - ();\n",
    "  това важи в почти (ако не и всички) случай\n",
    "* operator overloading\n",
    "* `презаписване` = override"
   ]
  }
 ],
 "metadata": {
  "kernelspec": {
   "display_name": "Python 3 (ipykernel)",
   "language": "python",
   "name": "python3"
  },
  "language_info": {
   "codemirror_mode": {
    "name": "ipython",
    "version": 3
   },
   "file_extension": ".py",
   "mimetype": "text/x-python",
   "name": "python",
   "nbconvert_exporter": "python",
   "pygments_lexer": "ipython3",
   "version": "3.10.10"
  }
 },
 "nbformat": 4,
 "nbformat_minor": 5
}

{
 "cells": [
  {
   "cell_type": "code",
   "execution_count": null,
   "id": "76ecf20c-89ea-49b6-b1eb-ccf7a825e290",
   "metadata": {},
   "outputs": [],
   "source": []
  },
  {
   "cell_type": "markdown",
   "id": "9c42650b-b773-464b-bebc-f61f996dc0c2",
   "metadata": {},
   "source": [
    "# 06 Magic Methods - Demos"
   ]
  },
  {
   "cell_type": "markdown",
   "id": "cb5e18ed-f7c2-41fb-8e9f-ddc8625a1153",
   "metadata": {},
   "source": [
    "## Iteration - iter, next"
   ]
  },
  {
   "cell_type": "code",
   "execution_count": 12,
   "id": "32c3bb05-36fb-4e58-bed5-373a7e5250f8",
   "metadata": {},
   "outputs": [
    {
     "name": "stdout",
     "output_type": "stream",
     "text": [
      "First\n",
      "Second\n"
     ]
    }
   ],
   "source": [
    "# Implementation 1 - most basic\n",
    "\n",
    "class MyList:\n",
    "    def __init__(self, data):\n",
    "        self.data = data\n",
    "\n",
    "    def __iter__(self):\n",
    "        self.current_index = 0\n",
    "        return self\n",
    "\n",
    "    def __next__(self):\n",
    "        if self.current_index >= len(self.data):\n",
    "            raise StopIteration()\n",
    "        value = self.data[self.current_index]\n",
    "        self.current_index += 1\n",
    "\n",
    "        return value\n",
    "    \n",
    "\n",
    "my_list = MyList(['First', 'Second',])\n",
    "for item in my_list:  # Calls iter and next\n",
    "    print(item)"
   ]
  },
  {
   "cell_type": "code",
   "execution_count": 13,
   "id": "bfd5fe1f-d316-4a2b-8487-ccb36705a96d",
   "metadata": {},
   "outputs": [
    {
     "name": "stdout",
     "output_type": "stream",
     "text": [
      "First\n",
      "Second\n"
     ]
    }
   ],
   "source": [
    "# Implementation 2 - using iter()\n",
    "\n",
    "class MyList:\n",
    "    def __init__(self, data):\n",
    "        self.data = data\n",
    "\n",
    "    def __iter__(self):\n",
    "        return iter(self.data)\n",
    "\n",
    "my_list = MyList(['First', 'Second',])\n",
    "for item in my_list:\n",
    "    print(item)"
   ]
  },
  {
   "cell_type": "code",
   "execution_count": 14,
   "id": "7f385422-a14b-430a-8a31-9062e369af9c",
   "metadata": {},
   "outputs": [
    {
     "name": "stdout",
     "output_type": "stream",
     "text": [
      "First\n",
      "Second\n"
     ]
    }
   ],
   "source": [
    "# Implementation 3 - __iter__ as generator function\n",
    "\n",
    "class MyList:\n",
    "    def __init__(self, data):\n",
    "        self.data = data\n",
    "\n",
    "    def __iter__(self):\n",
    "        for item in self.data:\n",
    "            yield item\n",
    "\n",
    "my_list = MyList(['First', 'Second',])\n",
    "for item in my_list:\n",
    "    print(item)"
   ]
  },
  {
   "cell_type": "markdown",
   "id": "0d1eb808-b748-4082-bf7c-eadafbe502e0",
   "metadata": {},
   "source": [
    "## Indexing - getitem, setitem"
   ]
  },
  {
   "cell_type": "code",
   "execution_count": 15,
   "id": "14903043-bf0c-42eb-9dee-f0a035c736d8",
   "metadata": {},
   "outputs": [
    {
     "name": "stdout",
     "output_type": "stream",
     "text": [
      "First\n",
      "['Updated First', 'Second']\n"
     ]
    }
   ],
   "source": [
    "class MyList:\n",
    "    def __init__(self, data):\n",
    "        self.data = data\n",
    "\n",
    "    def __getitem__(self, key):\n",
    "        return self.data[key]\n",
    "\n",
    "    def __setitem__(self, key, value):\n",
    "        self.data[key] = value\n",
    "\n",
    "    \n",
    "\n",
    "my_list = MyList(['First', 'Second',])\n",
    "print(my_list[0])  # Calls getitem\n",
    "my_list[0] = 'Updated First'  # Calls setitem\n",
    "print(my_list.data)"
   ]
  }
 ],
 "metadata": {
  "kernelspec": {
   "display_name": "Python 3 (ipykernel)",
   "language": "python",
   "name": "python3"
  },
  "language_info": {
   "codemirror_mode": {
    "name": "ipython",
    "version": 3
   },
   "file_extension": ".py",
   "mimetype": "text/x-python",
   "name": "python",
   "nbconvert_exporter": "python",
   "pygments_lexer": "ipython3",
   "version": "3.10.10"
  }
 },
 "nbformat": 4,
 "nbformat_minor": 5
}

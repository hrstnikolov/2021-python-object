{
 "cells": [
  {
   "cell_type": "code",
   "execution_count": 6,
   "metadata": {},
   "outputs": [],
   "source": [
    "from abc import ABC, abstractmethod\n",
    "from typing import Any\n",
    "from pprint import pprint"
   ]
  },
  {
   "cell_type": "markdown",
   "metadata": {},
   "source": [
    "# 06 Polymorphism - Demos"
   ]
  },
  {
   "cell_type": "markdown",
   "metadata": {},
   "source": [
    "## Method inheritance\n",
    "This practice is called method inheritance and can be useful when subclasses don't require any specific changes in the initialization process."
   ]
  },
  {
   "cell_type": "code",
   "execution_count": 2,
   "metadata": {},
   "outputs": [],
   "source": [
    "class Vehicle(ABC):\n",
    "    def __init__(self, fuel_quantity, fuel_consumption) -> None:\n",
    "        self.fuel_quantity = fuel_quantity\n",
    "        self.fuel_consumption = fuel_consumption\n",
    "\n",
    "\n",
    "class Car(Vehicle):\n",
    "    pass\n",
    "\n",
    "\n",
    "toyota = Car(60, 8)"
   ]
  },
  {
   "cell_type": "markdown",
   "metadata": {},
   "source": [
    "## Name mangling is only for private attrs"
   ]
  },
  {
   "cell_type": "markdown",
   "metadata": {},
   "source": [
    "### Transformation occurs at compile-time\n",
    "\n",
    "In Python, when a class attribute is prefixed with double underscores (\\_\\_), name mangling is applied to the attribute.  \n",
    "Name mangling transforms the attribute name by adding a prefix consisting of a single underscore (\\_) and the class name.  \n",
    "**This transformation occurs at compile-time**."
   ]
  },
  {
   "cell_type": "code",
   "execution_count": 17,
   "metadata": {},
   "outputs": [
    {
     "name": "stdout",
     "output_type": "stream",
     "text": [
      "1.0\n",
      "1.4\n"
     ]
    }
   ],
   "source": [
    "class Tile:\n",
    "    MAX_SIZE = \"110 X 110\"\n",
    "    __PRICE_COEF = 1.0\n",
    "\n",
    "    def print_parent_attrs(self):\n",
    "        print(self.__PRICE_COEF)\n",
    "\n",
    "\n",
    "class BathroomTile(Tile):\n",
    "    MAX_SIZE = \"65 X 65\"\n",
    "    __PRICE_COEF = 1.4\n",
    "\n",
    "    def print_child_attrs(self):\n",
    "        print(self.__PRICE_COEF)\n",
    "\n",
    "\n",
    "bianco = BathroomTile()\n",
    "bianco.print_parent_attrs()  # Accesses _Tile__PRICE_COEF\n",
    "bianco.print_child_attrs()   # Accesses _BathroomTile__PRICE_COEF"
   ]
  },
  {
   "cell_type": "markdown",
   "metadata": {},
   "source": [
    "### List of names in an object = dir()\n",
    "\n",
    "The dir() function returns a **sorted list of names in the given object**, including attributes, methods, and special names."
   ]
  },
  {
   "cell_type": "code",
   "execution_count": 3,
   "metadata": {},
   "outputs": [
    {
     "name": "stdout",
     "output_type": "stream",
     "text": [
      "Tile class          ['MAX_SIZE', '_Tile__PRICE_COEF']\n",
      "BathroomTile class  ['MAX_SIZE', '_BathroomTile__PRICE_COEF', '_Tile__PRICE_COEF']\n",
      "Instance            ['MAX_SIZE', '_BathroomTile__PRICE_COEF', '_Tile__PRICE_COEF', 'price']\n"
     ]
    }
   ],
   "source": [
    "class Tile:\n",
    "    MAX_SIZE = \"110 X 110\"\n",
    "    __PRICE_COEF = 1.0\n",
    "\n",
    "\n",
    "class BathroomTile(Tile):\n",
    "    MAX_SIZE = \"65 X 65\"\n",
    "    __PRICE_COEF = 1.4\n",
    "\n",
    "    def __init__(self) -> None:\n",
    "        self.price = 33.80\n",
    "\n",
    "\n",
    "def remove_magic_methods(attributes):\n",
    "    return [attr for attr in attributes if not attr.startswith(\"__\")]\n",
    "\n",
    "\n",
    "# Print the names in the instance nad in the class.\n",
    "all_objects = {\n",
    "    \"Tile class\": Tile,\n",
    "    \"BathroomTile class\": BathroomTile,\n",
    "    \"Instance\": BathroomTile(),\n",
    "}\n",
    "\n",
    "for name, obj in all_objects.items():\n",
    "    attributes = remove_magic_methods(dir(obj))\n",
    "    print(f\"{name:<20}{str(attributes)}\")"
   ]
  },
  {
   "cell_type": "markdown",
   "metadata": {},
   "source": [
    "### Dictionary of object's attributes = \\_\\_dict\\_\\_\n",
    "\n",
    "A dictionary or other mapping object used to store an object's (writable) attributes.  \n",
    "var() is equivalent to object.\\_\\_dict\\_\\_"
   ]
  },
  {
   "cell_type": "code",
   "execution_count": 12,
   "metadata": {},
   "outputs": [
    {
     "name": "stdout",
     "output_type": "stream",
     "text": [
      "Tile class\n",
      "mappingproxy({'MAX_SIZE': '110 X 110',\n",
      "              '_Tile__PRICE_COEF': 1.0,\n",
      "              '__dict__': <attribute '__dict__' of 'Tile' objects>,\n",
      "              '__doc__': None,\n",
      "              '__module__': '__main__',\n",
      "              '__weakref__': <attribute '__weakref__' of 'Tile' objects>})\n",
      "--------------------------------------------------------------------------------\n",
      "BathroomTile class\n",
      "mappingproxy({'MAX_SIZE': '65 X 65',\n",
      "              '_BathroomTile__PRICE_COEF': 1.4,\n",
      "              '__doc__': None,\n",
      "              '__init__': <function BathroomTile.__init__ at 0x000001C371103D90>,\n",
      "              '__module__': '__main__'})\n",
      "--------------------------------------------------------------------------------\n",
      "Instance\n",
      "{'price': 33.8}\n",
      "--------------------------------------------------------------------------------\n"
     ]
    }
   ],
   "source": [
    "for name, obj in all_objects.items():\n",
    "    print(name)  \n",
    "    pprint(vars(obj))\n",
    "    print('-'*80)"
   ]
  },
  {
   "cell_type": "markdown",
   "metadata": {},
   "source": [
    "## No mangling for non-public attrs"
   ]
  },
  {
   "cell_type": "code",
   "execution_count": 15,
   "metadata": {},
   "outputs": [
    {
     "name": "stdout",
     "output_type": "stream",
     "text": [
      "Tile class          ['MAX_SIZE', '_PRICE_COEF']\n",
      "BathroomTile class  ['MAX_SIZE', '_PRICE_COEF']\n",
      "Instance            ['MAX_SIZE', '_PRICE_COEF', 'price']\n"
     ]
    }
   ],
   "source": [
    "class Tile:\n",
    "    MAX_SIZE = \"110 X 110\"\n",
    "    _PRICE_COEF = 1.0\n",
    "\n",
    "\n",
    "class BathroomTile(Tile):\n",
    "    MAX_SIZE = \"65 X 65\"\n",
    "    _PRICE_COEF = 1.4\n",
    "\n",
    "    def __init__(self) -> None:\n",
    "        self.price = 33.80\n",
    "\n",
    "\n",
    "def remove_magic_methods(attributes):\n",
    "    return [attr for attr in attributes if not attr.startswith(\"__\")]\n",
    "\n",
    "\n",
    "# Print the names in the instance nad in the class.\n",
    "all_objects = {\n",
    "    \"Tile class\": Tile,\n",
    "    \"BathroomTile class\": BathroomTile,\n",
    "    \"Instance\": BathroomTile(),\n",
    "}\n",
    "\n",
    "for name, obj in all_objects.items():\n",
    "    attributes = remove_magic_methods(dir(obj))\n",
    "    print(f\"{name:<20}{str(attributes)}\")"
   ]
  },
  {
   "cell_type": "markdown",
   "metadata": {},
   "source": [
    "### Accessing non-public class attr\n",
    "\n",
    "Можем да зададем нови стойности на поле на класа в наследник ако ползваме non-public (една долна черта) или стандартни (без долни черти в началото) полета.\n",
    "\n",
    "Ако полето е private, имаме погрозняване. Името на такова поле ще е винаги `_Tile__PRICE_COEF` защото init методът ще се вика винаги от вътрешността на Tile класа."
   ]
  },
  {
   "cell_type": "code",
   "execution_count": 18,
   "metadata": {},
   "outputs": [
    {
     "name": "stdout",
     "output_type": "stream",
     "text": [
      "1.0\n",
      "1.4\n"
     ]
    }
   ],
   "source": [
    "class Tile:\n",
    "    MAX_SIZE = \"110 X 110\"\n",
    "    _PRICE_COEF = 1.0\n",
    "\n",
    "    def __init__(self) -> None:\n",
    "        self.coef = self._PRICE_COEF\n",
    "\n",
    "class BathroomTile(Tile):\n",
    "    MAX_SIZE = \"65 X 65\"\n",
    "    _PRICE_COEF = 1.4\n",
    "\n",
    "    \n",
    "print(Tile().coef)\n",
    "print(BathroomTile().coef)"
   ]
  },
  {
   "cell_type": "code",
   "execution_count": 20,
   "metadata": {},
   "outputs": [
    {
     "name": "stdout",
     "output_type": "stream",
     "text": [
      "1.0\n",
      "1.0\n"
     ]
    }
   ],
   "source": [
    "class Tile:\n",
    "    MAX_SIZE = \"110 X 110\"\n",
    "    __PRICE_COEF = 1.0\n",
    "\n",
    "    def __init__(self) -> None:\n",
    "        self.coef = self.__PRICE_COEF\n",
    "\n",
    "class BathroomTile(Tile):\n",
    "    MAX_SIZE = \"65 X 65\"\n",
    "    __PRICE_COEF = 1.4\n",
    "\n",
    "    \n",
    "print(Tile().coef)\n",
    "print(BathroomTile().coef)"
   ]
  },
  {
   "cell_type": "markdown",
   "metadata": {
    "tags": []
   },
   "source": [
    "### Good solution"
   ]
  },
  {
   "cell_type": "code",
   "execution_count": null,
   "metadata": {},
   "outputs": [],
   "source": [
    "class InsufficientFuelError(Exception):\n",
    "    \"\"\"Custom exception that is raised when the remaining fuel is not enough.\"\"\"\n",
    "\n",
    "    def _init_(self, message) -> None:\n",
    "        super()._init_(message)\n",
    "\n",
    "\n",
    "class Vehicle:\n",
    "    _AC_FUEL_CONSUMPTION = 0\n",
    "    _FUEL_RETENTION_COEF = 1\n",
    "\n",
    "    def __init__(self, fuel_quantity: float, fuel_consumption: float) -> None:\n",
    "        \"\"\"Main consructor.\n",
    "\n",
    "        Args:\n",
    "            fuel_quantity (float): how much fuel in liters is currently in the tank\n",
    "            fuel_consumption (float): in liters/km\n",
    "        \"\"\"\n",
    "        self.fuel_quantity = fuel_quantity\n",
    "        self.fuel_consumption = fuel_consumption + self._AC_FUEL_CONSUMPTION\n",
    "\n",
    "    @classmethod\n",
    "    def from_liters_per_100km(\n",
    "        cls, fuel_quantity: float, fuel_consumption_per_100km: float\n",
    "    ):\n",
    "        \"\"\"Alternate constructor for fuel consumption in liters / 100km.\"\"\"\n",
    "        fuel_consumption = fuel_consumption_per_100km / 100 + cls._AC_FUEL_CONSUMPTION\n",
    "        return cls(fuel_quantity, fuel_consumption)\n",
    "\n",
    "    def drive(self, distance):\n",
    "        consumed_fuel = distance * self.fuel_consumption\n",
    "        if consumed_fuel > self.fuel_quantity:\n",
    "            raise InsufficientFuelError(\"Too little fuel remaining in the tank.\")\n",
    "        self.fuel_quantity -= consumed_fuel\n",
    "\n",
    "    def refuel(self, quantity):\n",
    "        self.fuel_quantity += quantity * self._FUEL_RETENTION_COEF\n",
    "\n",
    "\n",
    "class Car(Vehicle):\n",
    "    _AC_FUEL_CONSUMPTION = 0.9\n",
    "    _FUEL_RETENTION_COEF = 1\n",
    "\n",
    "\n",
    "class Truck(Vehicle):\n",
    "    _AC_FUEL_CONSUMPTION = 1.6\n",
    "    _FUEL_RETENTION_COEF = 0.95\n",
    "\n",
    "\n",
    "car = Car(20, 5)\n",
    "car.drive(3)\n",
    "print(car.fuel_quantity)\n",
    "car.refuel(10)\n",
    "print(car.fuel_quantity)\n",
    "\n",
    "\n",
    "truck = Truck(100, 15)\n",
    "truck.drive(5)\n",
    "print(truck.fuel_quantity)\n",
    "truck.refuel(50)\n",
    "print(truck.fuel_quantity)\n"
   ]
  },
  {
   "cell_type": "code",
   "execution_count": 2,
   "metadata": {},
   "outputs": [],
   "source": [
    "from abc import ABC, abstractmethod\n",
    "\n",
    "# Make an abstrat class Vehicle.\n",
    "# Make a class Vehicle that is an AbstractBaseClass.\n",
    "\n",
    "\n",
    "class Vehicle(ABC):\n",
    "    @abstractmethod\n",
    "    def drive(self):\n",
    "        pass\n",
    "\n",
    "    @abstractmethod\n",
    "    def refuel(self):\n",
    "        pass\n",
    "\n",
    "\n",
    "class Car(Vehicle):\n",
    "    def drive(self, distance):\n",
    "        pass\n",
    "\n",
    "    def refuel(self, fuel):\n",
    "        pass\n",
    "\n",
    "\n",
    "class Truck(Vehicle):\n",
    "    def drive(self, distance):\n",
    "        pass\n",
    "\n",
    "    def refuel(self, fuel):\n",
    "        pass\n",
    "\n",
    "\n",
    "toyota = Car()\n",
    "volvo = Truck()"
   ]
  },
  {
   "cell_type": "code",
   "execution_count": 2,
   "metadata": {},
   "outputs": [
    {
     "name": "stdout",
     "output_type": "stream",
     "text": [
      "bark\n",
      "meow\n"
     ]
    }
   ],
   "source": [
    "class Animal:\n",
    "    def __init__(self, name) -> None:\n",
    "        self.name = name\n",
    "\n",
    "\n",
    "class Dog(Animal):\n",
    "    sound = \"bark\"\n",
    "\n",
    "    def __init__(self, name) -> None:\n",
    "        super().__init__(name)\n",
    "\n",
    "    def make_sound(self) -> None:\n",
    "        print(self.sound)\n",
    "\n",
    "\n",
    "class Cat(Animal):\n",
    "    sound = \"meow\"\n",
    "\n",
    "    def __init__(self, name) -> None:\n",
    "        super().__init__(name)\n",
    "\n",
    "    def make_sound(self) -> None:\n",
    "        print(self.sound)\n",
    "\n",
    "\n",
    "sparky = Dog(\"Sparky\")\n",
    "tom = Cat(\"Tom\")\n",
    "\n",
    "sparky.make_sound()\n",
    "tom.make_sound()"
   ]
  },
  {
   "cell_type": "code",
   "execution_count": 8,
   "metadata": {},
   "outputs": [
    {
     "name": "stdout",
     "output_type": "stream",
     "text": [
      "bark\n",
      "meow\n"
     ]
    }
   ],
   "source": [
    "class Animal:\n",
    "    def __init__(self, name) -> None:\n",
    "        self.name = name\n",
    "\n",
    "    @classmethod\n",
    "    def make_sound(cls):\n",
    "        print(cls.sound)\n",
    "\n",
    "\n",
    "class Dog(Animal):\n",
    "    sound = \"bark\"\n",
    "\n",
    "    def __init__(self, name) -> None:\n",
    "        super().__init__(name)\n",
    "\n",
    "\n",
    "class Cat(Animal):\n",
    "    sound = \"meow\"\n",
    "\n",
    "    def __init__(self, name) -> None:\n",
    "        super().__init__(name)\n",
    "\n",
    "\n",
    "sparky = Dog(\"Sparky\")\n",
    "tom = Cat(\"Tom\")\n",
    "\n",
    "sparky.make_sound()\n",
    "tom.make_sound()"
   ]
  },
  {
   "cell_type": "code",
   "execution_count": 5,
   "metadata": {},
   "outputs": [
    {
     "name": "stdout",
     "output_type": "stream",
     "text": [
      "bark\n",
      "meow\n"
     ]
    }
   ],
   "source": [
    "class Animal:\n",
    "    def __init__(self, name) -> None:\n",
    "        self.name = name\n",
    "\n",
    "    def make_sound(self):\n",
    "        print(self.sound)\n",
    "\n",
    "\n",
    "class Dog(Animal):\n",
    "    sound = \"bark\"\n",
    "\n",
    "    def __init__(self, name) -> None:\n",
    "        super().__init__(name)\n",
    "\n",
    "\n",
    "class Cat(Animal):\n",
    "    sound = \"meow\"\n",
    "\n",
    "    def __init__(self, name) -> None:\n",
    "        super().__init__(name)\n",
    "\n",
    "\n",
    "sparky = Dog(\"Sparky\")\n",
    "tom = Cat(\"Tom\")\n",
    "\n",
    "sparky.make_sound()\n",
    "tom.make_sound()"
   ]
  },
  {
   "cell_type": "code",
   "execution_count": 1,
   "metadata": {},
   "outputs": [
    {
     "ename": "NameError",
     "evalue": "name 'ABC' is not defined",
     "output_type": "error",
     "traceback": [
      "\u001b[1;31m---------------------------------------------------------------------------\u001b[0m",
      "\u001b[1;31mNameError\u001b[0m                                 Traceback (most recent call last)",
      "Cell \u001b[1;32mIn[1], line 1\u001b[0m\n\u001b[1;32m----> 1\u001b[0m \u001b[39mclass\u001b[39;00m \u001b[39mAnimal\u001b[39;00m(ABC):\n\u001b[0;32m      2\u001b[0m     \u001b[39mdef\u001b[39;00m \u001b[39m__init__\u001b[39m(\u001b[39mself\u001b[39m, name) \u001b[39m-\u001b[39m\u001b[39m>\u001b[39m \u001b[39mNone\u001b[39;00m:\n\u001b[0;32m      3\u001b[0m         \u001b[39mself\u001b[39m\u001b[39m.\u001b[39mname \u001b[39m=\u001b[39m name\n",
      "\u001b[1;31mNameError\u001b[0m: name 'ABC' is not defined"
     ]
    }
   ],
   "source": [
    "class Animal(ABC):\n",
    "    def __init__(self, name) -> None:\n",
    "        self.name = name\n",
    "\n",
    "    @abstractmethod\n",
    "    def make_sound(self):\n",
    "        pass\n",
    "\n",
    "\n",
    "class Dog(Animal):\n",
    "    sound = \"bark\"\n",
    "\n",
    "    def __init__(self, name) -> None:\n",
    "        super().__init__(name)\n",
    "\n",
    "    def make_sound(self):\n",
    "        print(self.sound)\n",
    "\n",
    "\n",
    "class Cat(Animal):\n",
    "    sound = \"meow\"\n",
    "\n",
    "    def __init__(self, name) -> None:\n",
    "        super().__init__(name)\n",
    "\n",
    "    def make_sound(self):\n",
    "        print(self.sound)\n",
    "\n",
    "\n",
    "sparky = Dog(\"Sparky\")\n",
    "tom = Cat(\"Tom\")\n",
    "\n",
    "sparky.make_sound()\n",
    "tom.make_sound()"
   ]
  }
 ],
 "metadata": {
  "kernelspec": {
   "display_name": "Python 3 (ipykernel)",
   "language": "python",
   "name": "python3"
  },
  "language_info": {
   "codemirror_mode": {
    "name": "ipython",
    "version": 3
   },
   "file_extension": ".py",
   "mimetype": "text/x-python",
   "name": "python",
   "nbconvert_exporter": "python",
   "pygments_lexer": "ipython3",
   "version": "3.10.10"
  }
 },
 "nbformat": 4,
 "nbformat_minor": 4
}

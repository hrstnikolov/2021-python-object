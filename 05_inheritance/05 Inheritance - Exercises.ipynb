{
 "cells": [
  {
   "cell_type": "code",
   "execution_count": null,
   "id": "d2447dc4-dd12-40d2-88c6-c30ff286516a",
   "metadata": {},
   "outputs": [],
   "source": []
  },
  {
   "attachments": {},
   "cell_type": "markdown",
   "id": "1ad9883b-8a58-4bb3-8582-ae1bc4f2d714",
   "metadata": {},
   "source": [
    "# 05 Inheritance - Exercises"
   ]
  },
  {
   "attachments": {},
   "cell_type": "markdown",
   "id": "6a9a2a1a-b7d6-4f8e-bece-ba1875d85f61",
   "metadata": {},
   "source": [
    "## Demo\n",
    "\n",
    "Class `Person` has a single data attr `age`.  \n",
    "`age` is encapsulated in a property and its value must be within an allowable range 0-150.  \n",
    "Class `Employee` is a `Person`. We want to use diff age range - 18-65.  \n",
    "\n",
    "**How can this be done?**"
   ]
  },
  {
   "cell_type": "code",
   "execution_count": 3,
   "id": "705a39d3-d838-4cc9-a710-b7abcd7f7b25",
   "metadata": {},
   "outputs": [],
   "source": [
    "class Person:\n",
    "    min_age = 0\n",
    "    max_age = 150\n",
    "\n",
    "    def __init__(self, age):\n",
    "        self.age = age\n",
    "\n",
    "    @staticmethod\n",
    "    def __validate_age(age):\n",
    "        if not (Person.min_age <= age <= Person.max_age):\n",
    "            raise ValueError(f'Age mush be between {Person.min_age} and {Person.max_age}')\n",
    "\n",
    "    @property\n",
    "    def age(self):\n",
    "        return self.__age\n",
    "\n",
    "    @age.setter\n",
    "    def age(self, new_age):\n",
    "        self.__validate_age(new_age)\n",
    "        self.__age = new_age\n",
    "        \n",
    "        \n",
    "p1 = Person(24)\n",
    "# p2 = Person(-3)  # ValueError\n",
    "p1"
   ]
  },
  {
   "attachments": {},
   "cell_type": "markdown",
   "id": "001d6071-58df-49bc-b675-b44fca930657",
   "metadata": {},
   "source": [
    "### Solution 1\n",
    "\n",
    "Create new validation method in `Employee`.  \n",
    "The new method, has a new name. To use it, it needs to be called in a new setter method.  \n",
    "A setter requires a getter. Thus, a whole property is required.  \n",
    "\n",
    "**This is a lot of repeated code - not good solution.**"
   ]
  },
  {
   "cell_type": "code",
   "execution_count": 4,
   "id": "c79f0edb-2eb7-41b4-a13a-a10fdc83f068",
   "metadata": {},
   "outputs": [],
   "source": [
    "class Employee(Person):\n",
    "    __MIN_EMPLOYEE_AGE = 18\n",
    "    __MAX_EMPLOYEE_AGE = 65\n",
    "\n",
    "    def __init__(self, age, company):\n",
    "        # From the parent class, get the init method and call it with argument age..\n",
    "        super().__init__(age)\n",
    "        # Set the company attr to the value of the company param.\n",
    "        self.company = company\n",
    "\n",
    "    @staticmethod\n",
    "    def __validate_employee_age(age):\n",
    "        if age < Employee.__MIN_EMPLOYEE_AGE or Employee.__MAX_EMPLOYEE_AGE < age:\n",
    "            raise ValueError(f'Age mush be between {Employee.__MIN_EMPLOYEE_AGE} and {Employee.__MAX_EMPLOYEE_AGE}')\n",
    "\n",
    "    @property\n",
    "    def age(self):\n",
    "        return self.__age\n",
    "\n",
    "    @age.setter\n",
    "    def age(self, new_age):\n",
    "        self.__validate_employee_age(new_age)\n",
    "        self.__age = new_age\n",
    "\n",
    "\n",
    "barry = Employee(33, 'IBM')\n",
    "# garry = Employee(75, 'IBM')  # ValueError"
   ]
  },
  {
   "attachments": {},
   "cell_type": "markdown",
   "id": "19a47676-b817-466c-b7ee-68c5f0a5a363",
   "metadata": {},
   "source": [
    "### Solution 2 (not working)\n",
    "\n",
    "Duplicate the validation method - create method in `Employee` with the same name.  \n",
    "This will not work:  \n",
    "- the validation method is called in the setter of the parent class\n",
    "- however, the validation methods are private, meaning their names are mangled\n",
    "- therefore, the validation in `Person` will be called every time"
   ]
  },
  {
   "cell_type": "code",
   "execution_count": 5,
   "id": "a559d3e5-45e7-4f0d-b937-6966db2716cd",
   "metadata": {},
   "outputs": [],
   "source": [
    "class Employee(Person):\n",
    "    __MIN_EMPLOYEE_AGE = 18\n",
    "    __MAX_EMPLOYEE_AGE = 65\n",
    "\n",
    "    def __init__(self, age, company):\n",
    "        super().__init__(age)\n",
    "        self.company = company\n",
    "\n",
    "    @staticmethod\n",
    "    def __validate_age(age):\n",
    "        if age < Employee.__MIN_EMPLOYEE_AGE or Employee.__MAX_EMPLOYEE_AGE < age:\n",
    "            raise ValueError(f'Age mush be between {Employee.__MIN_EMPLOYEE_AGE} and {Employee.__MAX_EMPLOYEE_AGE}')\n",
    "            \n",
    "    \n",
    "barry = Employee(33, 'IBM')\n",
    "garry = Employee(75, 'IBM')  # Incorrectly, no exceptions are raised."
   ]
  },
  {
   "attachments": {},
   "cell_type": "markdown",
   "id": "942e298b-c379-4c6d-b29b-558d54f4946f",
   "metadata": {},
   "source": [
    "### Solution 3 (the best one)\n",
    "\n",
    "Change the validation method from `staticmethod` to `classmethod`.  \n",
    "This way, calling the method from a child class will use the correct age limits.  \n",
    "Important: the class attrs that specify the allowable limits (`min_age`, `max_age`) must be public. If private (hidden), the names will be mangled.1 "
   ]
  },
  {
   "cell_type": "code",
   "execution_count": 8,
   "id": "be4a907d-f3b2-4bd8-8062-69eb03718fa6",
   "metadata": {},
   "outputs": [],
   "source": [
    "class Person:\n",
    "    min_age = 0\n",
    "    max_age = 150\n",
    "\n",
    "    def __init__(self, age):\n",
    "        self.age = age\n",
    "\n",
    "    @classmethod\n",
    "    def __validate_age(cls, age):\n",
    "        if age < cls.min_age or cls.max_age < age:\n",
    "            raise ValueError(f'Age mush be between {cls.min_age} and {cls.max_age}')\n",
    "\n",
    "    @property\n",
    "    def age(self):\n",
    "        return self.__age\n",
    "\n",
    "    @age.setter\n",
    "    def age(self, new_age):\n",
    "        self.__validate_age(new_age)\n",
    "        self.__age = new_age\n",
    "\n",
    "\n",
    "class Employee(Person):\n",
    "    min_age = 18\n",
    "    max_age = 65\n",
    "\n",
    "    def __init__(self, age, company):\n",
    "        super().__init__(age)\n",
    "        self.company = company\n",
    "\n",
    "        \n",
    "p1 = Person(90)  # OK\n",
    "p2 = Employee(36, '7/11')  # OK\n",
    "# p3 = Employee(70, 'Billa')  # ValueError"
   ]
  },
  {
   "attachments": {},
   "cell_type": "markdown",
   "id": "d86bafd8-65be-4c28-947e-efee9c93aeff",
   "metadata": {},
   "source": [
    "## Method resolution order"
   ]
  },
  {
   "cell_type": "code",
   "execution_count": 18,
   "id": "3dcbc559-db42-4edd-850e-e1db45f547bb",
   "metadata": {},
   "outputs": [
    {
     "name": "stdout",
     "output_type": "stream",
     "text": [
      "Water heater        , self.voltage_rating=230\n",
      "Mobile              , self.voltage_rating=5\n"
     ]
    }
   ],
   "source": [
    "class ElectricalDevice:\n",
    "    def __init__(self, name, voltage_rating):\n",
    "        self.name = name\n",
    "        self.voltage_rating = voltage_rating\n",
    "\n",
    "    def __repr__(self):\n",
    "        # Self-documenting expression - `{self.voltage_rating=}`.\n",
    "        return f'{self.name:<20}, {self.voltage_rating=}'\n",
    "    \n",
    "    \n",
    "water_heater = ElectricalDevice('Water heater', 230)\n",
    "mobile = ElectricalDevice('Mobile', 5)\n",
    "\n",
    "print(water_heater)\n",
    "print(mobile)"
   ]
  },
  {
   "cell_type": "code",
   "execution_count": 21,
   "id": "c9147218-b04e-42e4-8163-441db151f272",
   "metadata": {},
   "outputs": [
    {
     "data": {
      "text/plain": [
       "Radio               , 40"
      ]
     },
     "execution_count": 21,
     "metadata": {},
     "output_type": "execute_result"
    }
   ],
   "source": [
    "class AudioDevice:\n",
    "    def __init__(self, name, db):\n",
    "        self.name = name\n",
    "        self.db = db\n",
    "\n",
    "    def __repr__(self):\n",
    "        return f'{self.name:<20}, {self.db}'\n",
    "    \n",
    "\n",
    "radio = AudioDevice('Radio', 40)\n",
    "radio"
   ]
  },
  {
   "cell_type": "code",
   "execution_count": 33,
   "id": "5b65ea17-94ba-47fb-961e-dee9af1543c9",
   "metadata": {},
   "outputs": [
    {
     "name": "stdout",
     "output_type": "stream",
     "text": [
      "Marshal SV1000      , self.voltage_rating=230\n",
      "Marshal SV1000      , 90\n"
     ]
    }
   ],
   "source": [
    "class Speakers(ElectricalDevice, AudioDevice):\n",
    "    def __init__(self, name, voltage_rating, db):\n",
    "        # super().__init__(name, voltage_rating)  # super refers ONLY to the first parent\n",
    "        ElectricalDevice.__init__(self, name, voltage_rating)\n",
    "        AudioDevice.__init__(self, name, db)\n",
    "\n",
    "    def __repr__(self):\n",
    "        return f'{ElectricalDevice.__repr__(self)}\\n{AudioDevice.__repr__(self)}'\n",
    "\n",
    "\n",
    "marshal = Speakers('Marshal SV1000', 230, 90)\n",
    "print(marshal)"
   ]
  },
  {
   "cell_type": "code",
   "execution_count": 34,
   "id": "61ed4bd9-be8d-4f93-958c-938bf523f161",
   "metadata": {},
   "outputs": [
    {
     "data": {
      "text/plain": [
       "[__main__.Speakers, __main__.ElectricalDevice, __main__.AudioDevice, object]"
      ]
     },
     "execution_count": 34,
     "metadata": {},
     "output_type": "execute_result"
    }
   ],
   "source": [
    "# Classes have mro, objs do not!\n",
    "\n",
    "# marshal.mro()  # AttributeError: 'Speakers' object has no attribute 'mro'\n",
    "Speakers.mro()"
   ]
  },
  {
   "cell_type": "code",
   "execution_count": 32,
   "id": "aedbca29-14de-41f9-b521-96e13927bac9",
   "metadata": {},
   "outputs": [
    {
     "name": "stdout",
     "output_type": "stream",
     "text": [
      "Help on class Speakers in module __main__:\n",
      "\n",
      "class Speakers(ElectricalDevice, AudioDevice)\n",
      " |  Speakers(name, voltage_rating, db)\n",
      " |  \n",
      " |  Method resolution order:\n",
      " |      Speakers\n",
      " |      ElectricalDevice\n",
      " |      AudioDevice\n",
      " |      builtins.object\n",
      " |  \n",
      " |  Methods defined here:\n",
      " |  \n",
      " |  __init__(self, name, voltage_rating, db)\n",
      " |      Initialize self.  See help(type(self)) for accurate signature.\n",
      " |  \n",
      " |  __repr__(self)\n",
      " |      Return repr(self).\n",
      " |  \n",
      " |  ----------------------------------------------------------------------\n",
      " |  Data descriptors inherited from ElectricalDevice:\n",
      " |  \n",
      " |  __dict__\n",
      " |      dictionary for instance variables (if defined)\n",
      " |  \n",
      " |  __weakref__\n",
      " |      list of weak references to the object (if defined)\n",
      "\n",
      "None\n"
     ]
    }
   ],
   "source": [
    "print(help(Speakers))"
   ]
  }
 ],
 "metadata": {
  "kernelspec": {
   "display_name": "Python 3 (ipykernel)",
   "language": "python",
   "name": "python3"
  },
  "language_info": {
   "codemirror_mode": {
    "name": "ipython",
    "version": 3
   },
   "file_extension": ".py",
   "mimetype": "text/x-python",
   "name": "python",
   "nbconvert_exporter": "python",
   "pygments_lexer": "ipython3",
   "version": "3.10.10"
  }
 },
 "nbformat": 4,
 "nbformat_minor": 5
}

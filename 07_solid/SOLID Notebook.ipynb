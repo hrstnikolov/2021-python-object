{
 "cells": [
  {
   "cell_type": "code",
   "execution_count": 1,
   "id": "7f94145e-48ec-4ffc-b3e1-b3fa15e03981",
   "metadata": {},
   "outputs": [],
   "source": [
    "import numpy as np\n",
    "from abc import ABC, abstractmethod"
   ]
  },
  {
   "cell_type": "markdown",
   "id": "f761a437-ecdd-4c76-90a9-28e04097c1e0",
   "metadata": {},
   "source": [
    "# SOLID"
   ]
  },
  {
   "cell_type": "markdown",
   "id": "9895d3c6-8384-4beb-ac86-186c0305f07f",
   "metadata": {},
   "source": [
    "Принципи за писане на код; дават:\n",
    "- лесна бъдеща разширимост\n",
    "- простота\n",
    "- повече абстракция"
   ]
  },
  {
   "cell_type": "markdown",
   "id": "7bbbb130-ad59-4801-b85e-9cdbdec71f8b",
   "metadata": {
    "toc-hr-collapsed": true
   },
   "source": [
    "## 1 Single Responsibility\n",
    "\n",
    "* деф: всеки клас, модул или фунцкия да\n",
    "  прави само едно нещо\n",
    "* единствена отговорност\n",
    "* публичен интерфейс = това (методите)\n",
    "които се виждат отвън"
   ]
  },
  {
   "cell_type": "code",
   "execution_count": 4,
   "id": "b961c0d5-8fe8-4bc8-9778-9af82b5044e5",
   "metadata": {},
   "outputs": [],
   "source": [
    "# Bad\n",
    "class Student:\n",
    "    def __init__(self, name):\n",
    "        self.name = name\n",
    "\n",
    "    def get_name(self):\n",
    "        return self.name\n",
    "\n",
    "    def register(self, student):\n",
    "        pass"
   ]
  },
  {
   "cell_type": "code",
   "execution_count": 5,
   "id": "53a17b9a-67fe-487e-a628-68022833da93",
   "metadata": {},
   "outputs": [],
   "source": [
    "# Good\n",
    "class Student:\n",
    "    def __init__(self, name):\n",
    "        self.name = name\n",
    "\n",
    "    def get_name(self):\n",
    "        return self.name\n",
    "    \n",
    "\n",
    "class StudentRegistry:\n",
    "    def __init__(self):\n",
    "        self.students = []\n",
    "        \n",
    "    def register(self, student):\n",
    "        self.students.append(student)"
   ]
  },
  {
   "cell_type": "code",
   "execution_count": 9,
   "id": "9de5869e-523a-4396-9a38-f32b3c6600eb",
   "metadata": {},
   "outputs": [],
   "source": [
    "# Bad\n",
    "class Book:\n",
    "    def __init__(self, title, author):\n",
    "        self.title = title\n",
    "        self.author = author\n",
    "        self.page = 0\n",
    "\n",
    "    def turn_page(self, page):\n",
    "        self.page = page\n",
    "\n",
    "\n",
    "class Library:\n",
    "    def __init__(self, books):\n",
    "        self.books = books\n",
    "\n",
    "    def add_book(self, book):\n",
    "        self.books.append(book)"
   ]
  },
  {
   "cell_type": "code",
   "execution_count": 35,
   "id": "9156ecb3-d5e1-4ad5-9801-d52b654bf88e",
   "metadata": {},
   "outputs": [],
   "source": [
    "# Good\n",
    "class Book:\n",
    "    def __init__(self, title, author):\n",
    "        self.title = title\n",
    "        self.author = author\n",
    "        self.page = 0\n",
    "\n",
    "\n",
    "class BookInstance:\n",
    "    def __init__(self, book):\n",
    "        self.book = book\n",
    "        self.page = 0\n",
    "    \n",
    "    def turn_page(self, page):\n",
    "        self.page = page\n",
    "\n",
    "\n",
    "class Library:\n",
    "    def __init__(self, books):\n",
    "        self.books = books\n",
    "\n",
    "    def add_book(self, book):\n",
    "        self.books.append(book)"
   ]
  },
  {
   "cell_type": "markdown",
   "id": "b5a04525-990f-409a-9c02-d2ca4bbe0c09",
   "metadata": {
    "toc-hr-collapsed": true
   },
   "source": [
    "## 2 Open/Closed\n",
    "\n",
    "* класовете, модулите и функциите\n",
    "  трябва да са отворени за разширение,\n",
    "  но затворени за модификация\n",
    "* може да се постигне чрез: абстракция,\n",
    "миксини, monkey patching\n",
    "* Monkey patching = пренаписване на \n",
    "метод извън класа с ламбда фунцкия\n",
    "* monkey patching се ползва при тестване"
   ]
  },
  {
   "cell_type": "markdown",
   "id": "2a110c2d-eac7-4338-a671-1fe00244a00f",
   "metadata": {},
   "source": [
    "### Student taxes\n",
    "\n",
    "Initial code is below. Later `get_discont` is modified to add a new discount case."
   ]
  },
  {
   "cell_type": "markdown",
   "id": "6ec5e178-d301-4753-bc89-e576ac50cf8c",
   "metadata": {
    "tags": []
   },
   "source": [
    "#### Bad"
   ]
  },
  {
   "cell_type": "code",
   "execution_count": 12,
   "id": "93b1477c-c4d5-4dad-bd2d-f152cf8c7b51",
   "metadata": {},
   "outputs": [],
   "source": [
    "# Bad - OCP violation\n",
    "class StudentTaxes:\n",
    "    def __init__(self, name, semester_tax, average_grade):\n",
    "        self.name = name\n",
    "        self.semester_tax = semester_tax\n",
    "        self.average_grade = average_grade\n",
    "\n",
    "    def get_discount(self):\n",
    "        if self.average_grade > 5:\n",
    "            return self.semester_tax * 0.4\n",
    "        \n",
    "\n",
    "class StudentTaxes:\n",
    "    def __init__(self, name, semester_tax, average_grade):\n",
    "        self.name = name\n",
    "        self.semester_tax = semester_tax\n",
    "        self.average_grade = average_grade\n",
    "\n",
    "    def get_discount(self):\n",
    "        if self.average_grade > 5:\n",
    "            return self.semester_tax * 0.4\n",
    "        elif self.average_grade > 4:\n",
    "            return self.semester_tax * 0.2"
   ]
  },
  {
   "cell_type": "markdown",
   "id": "c4c7aceb-fe87-4082-8736-1324377d884e",
   "metadata": {},
   "source": [
    "#### Good"
   ]
  },
  {
   "cell_type": "code",
   "execution_count": 14,
   "id": "f5bd067b-1a0d-4576-8142-1702296e9b51",
   "metadata": {},
   "outputs": [],
   "source": [
    "# Good\n",
    "class StudentTaxes:\n",
    "    def __init__(self, name, semester_tax, average_grade):\n",
    "        self.name = name\n",
    "        self.semester_tax = semester_tax\n",
    "        self.average_grade = average_grade\n",
    "\n",
    "    def get_discount(self):\n",
    "        return 0 \n",
    "    \n",
    "class ExcellentStudentTaxes(StudentTaxes):\n",
    "    def get_discont(self):\n",
    "        if self.average_grade >= 5:\n",
    "            return self.semester_tax * 0.4"
   ]
  },
  {
   "cell_type": "markdown",
   "id": "c5cd7b77-fe55-475c-b357-c5da5c48044c",
   "metadata": {},
   "source": [
    "#### Good - reformat to satisfy SRP"
   ]
  },
  {
   "cell_type": "code",
   "execution_count": 30,
   "id": "eeeecfb2-80d1-432d-a4ce-e6130a6cf6cd",
   "metadata": {},
   "outputs": [],
   "source": [
    "# Even better\n",
    "class Student:\n",
    "    def __init__(self, name, grades):\n",
    "        self.name = name\n",
    "        self.grades = grades\n",
    "    \n",
    "    @property\n",
    "    def average_grade(self):\n",
    "        return np.mean(self.grades)\n",
    "\n",
    "\n",
    "class StudentTaxes:\n",
    "    def __init__(self, student, semester_tax):\n",
    "        self.student = student\n",
    "        self.semester_tax = semester_tax\n",
    "\n",
    "    def get_discount(self):\n",
    "        return 0 \n",
    "    \n",
    "\n",
    "class ExcellentStudentTaxes(StudentTaxes):\n",
    "    def get_discount(self):\n",
    "        if self.student.average_grade >= 5:\n",
    "            return self.semester_tax * 0.4\n",
    "        return super().get_discount()\n",
    "    \n",
    "    \n",
    "class GoodStudentTaxes(StudentTaxes):\n",
    "    def get_discount(self):\n",
    "        if self.student.average_grade >= 4:\n",
    "            return self.semester_tax * 0.2\n",
    "        return super().get_discount()"
   ]
  },
  {
   "cell_type": "code",
   "execution_count": 32,
   "id": "ed5f91d7-6635-42ec-911b-511527100eb8",
   "metadata": {},
   "outputs": [
    {
     "name": "stdout",
     "output_type": "stream",
     "text": [
      "20.0\n",
      "40.0\n"
     ]
    }
   ],
   "source": [
    "gosho = Student(\"Gosho\", [4, 5])\n",
    "emil = Student(\"Emil\", [5, 6])\n",
    "\n",
    "gosho_discount = GoodStudentTaxes(gosho, 100)\n",
    "emil_discount = ExcellentStudentTaxes(emil, 100)\n",
    "\n",
    "print(gosho_discount.get_discount())\n",
    "print(emil_discount.get_discount())"
   ]
  },
  {
   "cell_type": "markdown",
   "id": "c18c932c-446c-46e9-94c1-b51602d3a7a9",
   "metadata": {},
   "source": [
    "#### Good - use single class"
   ]
  },
  {
   "cell_type": "code",
   "execution_count": 33,
   "id": "4de158a9-e9df-40d1-b7bf-f3935104640f",
   "metadata": {},
   "outputs": [],
   "source": [
    "# Even better\n",
    "class Student:\n",
    "    def __init__(self, name, grades):\n",
    "        self.name = name\n",
    "        self.grades = grades\n",
    "    \n",
    "    @property\n",
    "    def average_grade(self):\n",
    "        return np.mean(self.grades)\n",
    "\n",
    "\n",
    "class StudentTaxes:\n",
    "    def __init__(self, student, semester_tax):\n",
    "        self.student = student\n",
    "        self.semester_tax = semester_tax\n",
    "\n",
    "    def get_discount(self):\n",
    "        return 0 \n",
    "    \n",
    "\n",
    "class ExcellentStudentTaxes(StudentTaxes):\n",
    "    def get_discount(self):\n",
    "        if self.student.average_grade >= 5:\n",
    "            return self.semester_tax * 0.4\n",
    "        return super().get_discount()\n",
    "    \n",
    "    \n",
    "class GoodStudentTaxes(ExcellentStudentTaxes):\n",
    "    def get_discount(self):\n",
    "        current_discount = 0\n",
    "        if self.student.average_grade >= 4:\n",
    "            current_discount = self.semester_tax * 0.2\n",
    "        return max(current_discount, super().get_discount())"
   ]
  },
  {
   "cell_type": "code",
   "execution_count": 34,
   "id": "bec030cf-1407-4ee9-9b88-6dce5a10935a",
   "metadata": {},
   "outputs": [
    {
     "name": "stdout",
     "output_type": "stream",
     "text": [
      "20.0\n",
      "40.0\n"
     ]
    }
   ],
   "source": [
    "gosho = Student(\"Gosho\", [4, 5])\n",
    "emil = Student(\"Emil\", [5, 6])\n",
    "\n",
    "gosho_discount = GoodStudentTaxes(gosho, 100)\n",
    "emil_discount = GoodStudentTaxes(emil, 100)\n",
    "\n",
    "print(gosho_discount.get_discount())\n",
    "print(emil_discount.get_discount())"
   ]
  },
  {
   "cell_type": "markdown",
   "id": "ea3646ac-0f02-4830-ba7e-1d87569c8323",
   "metadata": {},
   "source": [
    "#### Good - use abstract class"
   ]
  },
  {
   "cell_type": "code",
   "execution_count": 33,
   "id": "89773f6e-3358-4d79-9863-979e2bda417f",
   "metadata": {},
   "outputs": [],
   "source": [
    "# Even better\n",
    "class Student:\n",
    "    def __init__(self, name, grades):\n",
    "        self.name = name\n",
    "        self.grades = grades\n",
    "    \n",
    "    @property\n",
    "    def average_grade(self):\n",
    "        return np.mean(self.grades)\n",
    "\n",
    "\n",
    "class StudentTaxes(ABC):\n",
    "    def __init__(self, student, semester_tax):\n",
    "        self.student = student\n",
    "        self.semester_tax = semester_tax\n",
    "    \n",
    "    @abstractmethod\n",
    "    def get_discount(self):\n",
    "        pass\n",
    "    \n",
    "\n",
    "class ExcellentStudentTaxes(StudentTaxes):\n",
    "    def get_discount(self):\n",
    "        if self.student.average_grade >= 5:\n",
    "            return self.semester_tax * 0.4\n",
    "        return super().get_discount()\n",
    "    \n",
    "    \n",
    "class GoodStudentTaxes(ExcellentStudentTaxes):\n",
    "    def get_discount(self):\n",
    "        current_discount = 0\n",
    "        if self.student.average_grade >= 4:\n",
    "            current_discount = self.semester_tax * 0.2\n",
    "        return max(current_discount, super().get_discount())"
   ]
  },
  {
   "cell_type": "markdown",
   "id": "7afb0bac-66ca-4977-aaae-fb71d77c80b6",
   "metadata": {},
   "source": [
    "### Animals"
   ]
  },
  {
   "cell_type": "markdown",
   "id": "dd435c86-ba9d-4b8a-9bc8-2be78d706c15",
   "metadata": {},
   "source": [
    "#### Bad"
   ]
  },
  {
   "cell_type": "code",
   "execution_count": null,
   "id": "ebd5d33e-a448-4e4c-b028-9e4c084fbc71",
   "metadata": {},
   "outputs": [],
   "source": [
    "class Animal:\n",
    "    def __init__(self, species):\n",
    "        self.species = species\n",
    "\n",
    "    def get_species(self):\n",
    "        return self.species\n",
    "\n",
    "\n",
    "def animal_sound(animals: list):\n",
    "    for animal in animals:\n",
    "        if animal.species == 'cat':\n",
    "            print('meow')\n",
    "        elif animal.species == 'dog':\n",
    "            print('woof-woof')\n",
    "\n",
    "\n",
    "animals = [Animal('cat'), Animal('dog')]\n",
    "animal_sound(animals)\n",
    "\n",
    "## добавете ново животно и рефакторирайте кода да работи без да се налага да се правят промени по него\n",
    "## при добавяне на нови животни\n",
    "# animals = [Animal('cat'), Animal('dog'), Animal('chicken')]"
   ]
  },
  {
   "cell_type": "markdown",
   "id": "269f11c6-dd73-4a9f-9713-4ba15b75f0a2",
   "metadata": {},
   "source": [
    "#### Better"
   ]
  },
  {
   "cell_type": "code",
   "execution_count": 42,
   "id": "21576ec8-1b65-409e-930d-8ee39998343e",
   "metadata": {},
   "outputs": [
    {
     "name": "stdout",
     "output_type": "stream",
     "text": [
      "mew\n",
      "ruf\n"
     ]
    }
   ],
   "source": [
    "class Animal(ABC):\n",
    "    @abstractmethod\n",
    "    def make_sound():\n",
    "        pass\n",
    "\n",
    "\n",
    "class Cat(Animal):\n",
    "    sound = \"mew\"\n",
    "    def make_sound(self):\n",
    "        return self.sound\n",
    "\n",
    "    \n",
    "class Dog(Animal):\n",
    "    sound = \"ruf\"\n",
    "    def make_sound(self):\n",
    "        return self.sound\n",
    "\n",
    "\n",
    "def animal_sound(animals: list):\n",
    "    for animal in animals:\n",
    "        print(animal.make_sound())\n",
    "\n",
    "\n",
    "animals = [Cat(), Dog()]\n",
    "animal_sound(animals)"
   ]
  },
  {
   "cell_type": "markdown",
   "id": "d701f33e-58bf-4b10-aa2a-1c5513c0e216",
   "metadata": {
    "tags": [],
    "toc-hr-collapsed": true
   },
   "source": [
    "## 3 Liskov Substitution\n",
    "\n",
    "* всеки наследник да може да се ползва като родител\n",
    "* т.е. наследниците да не премахват или променят методите / атрибутите на родителя\n",
    "* всяка котка може да прави каквото прави животното\n",
    "* ако наследяваме клас и не използваме всичко от класа - нарушение на Лисков. Може да се изкара нов родител."
   ]
  },
  {
   "cell_type": "markdown",
   "id": "37d301ab-b650-4358-989a-ac1879446e59",
   "metadata": {},
   "source": [
    "### Animals"
   ]
  },
  {
   "cell_type": "markdown",
   "id": "f809659b-e677-423b-8b47-213fb4fe97ac",
   "metadata": {
    "tags": []
   },
   "source": [
    "#### Bad"
   ]
  },
  {
   "cell_type": "code",
   "execution_count": 44,
   "id": "a81c4671-ed02-47cd-a322-8f49a60525a7",
   "metadata": {},
   "outputs": [],
   "source": [
    "class Animal(ABC):\n",
    "    @abstractmethod\n",
    "    def make_sound():\n",
    "        pass\n",
    "\n",
    "\n",
    "class Cat(Animal):\n",
    "    sound = \"mew\"\n",
    "    def make_sound(self):\n",
    "        return self.sound\n",
    "\n",
    "    \n",
    "class Dog(Animal):\n",
    "    sound = \"ruf\"\n",
    "    def make_sound(self):\n",
    "        return self.sound\n",
    "\n",
    "    \n",
    "class Mole(Animal):\n",
    "    def make_sound(self):\n",
    "        raise TypeError(\"Moles do not make sounds\")\n",
    "    \n",
    "\n",
    "def animal_sound(animals: list):\n",
    "    for animal in animals:\n",
    "        print(animal.make_sound())\n",
    "\n",
    "\n",
    "animals = [Cat(), Dog(), Mole()]\n",
    "# animal_sound(animals)  # TypeError: Moles do not make sounds"
   ]
  },
  {
   "cell_type": "markdown",
   "id": "a8ecf17b-3246-4047-92d7-02dc0e2a5bee",
   "metadata": {
    "tags": []
   },
   "source": [
    "#### Good"
   ]
  },
  {
   "cell_type": "code",
   "execution_count": 48,
   "id": "1233a516-ed3a-4470-bbd2-98cf206fd9ce",
   "metadata": {},
   "outputs": [
    {
     "name": "stdout",
     "output_type": "stream",
     "text": [
      "mew\n",
      "ruf\n"
     ]
    }
   ],
   "source": [
    "class Animal:\n",
    "    pass\n",
    "\n",
    "\n",
    "class SoundMakingAnimal(Animal, ABC):\n",
    "    @abstractmethod\n",
    "    def make_sound():\n",
    "        pass\n",
    "\n",
    "\n",
    "class Cat(SoundMakingAnimal):\n",
    "    sound = \"mew\"\n",
    "    def make_sound(self):\n",
    "        return self.sound\n",
    "\n",
    "    \n",
    "class Dog(SoundMakingAnimal):\n",
    "    sound = \"ruf\"\n",
    "    def make_sound(self):\n",
    "        return self.sound\n",
    "\n",
    "    \n",
    "class Mole(Animal):\n",
    "    pass\n",
    "    \n",
    "\n",
    "def animal_sound(animals: list):\n",
    "    for animal in animals:\n",
    "        print(animal.make_sound())\n",
    "\n",
    "\n",
    "animals = [Cat(), Dog()]\n",
    "animal_sound(animals)  # TypeError: Moles do not make sounds"
   ]
  },
  {
   "cell_type": "markdown",
   "id": "2957c568-c238-4df1-86c0-858fae1d8b2e",
   "metadata": {
    "toc-hr-collapsed": true
   },
   "source": [
    "## 4 Interface Segregation\n",
    "\n",
    "* един клас не трябва да имплементира методи, които не използва \n",
    "* един клас не трябва да наследява функционалност, която не му трябва"
   ]
  },
  {
   "cell_type": "markdown",
   "id": "9ddf4ece-a5ab-4f8c-ac1d-73ff59839c6d",
   "metadata": {},
   "source": [
    "### Entertainment devices"
   ]
  },
  {
   "cell_type": "markdown",
   "id": "6a4c1a9d-3511-4bcd-9fd2-354bda7bd13d",
   "metadata": {},
   "source": [
    "#### Bad"
   ]
  },
  {
   "cell_type": "code",
   "execution_count": null,
   "id": "4fd82b8b-fd8b-4464-8d0e-174518e2b6af",
   "metadata": {},
   "outputs": [],
   "source": [
    "class EntertainmentDevice:\n",
    "    def connect_to_device_via_hdmi_cable(self, device): pass\n",
    "    def connect_to_device_via_rca_cable(self, device): pass\n",
    "    def connect_to_device_via_ethernet_cable(self, device): pass\n",
    "    def connect_device_to_power_outlet(self, device): pass\n",
    "\n",
    "\n",
    "class Television(EntertainmentDevice):\n",
    "    def connect_to_dvd(self, dvd_player):\n",
    "        self.connect_to_device_via_rca_cable(dvd_player)\n",
    "\n",
    "    def connect_to_game_console(self, game_console):\n",
    "        self.connect_to_device_via_hdmi_cable(game_console)\n",
    "\n",
    "    def plug_in_power(self):\n",
    "        self.connect_device_to_power_outlet(self)\n",
    "\n",
    "\n",
    "class dvd_player(EntertainmentDevice):\n",
    "    def connect_to_tv(self, television):\n",
    "        self.connect_to_device_via_hdmi_cable(television)\n",
    "\n",
    "    def plug_in_power(self):\n",
    "        self.connect_device_to_power_outlet(self)\n",
    "\n",
    "\n",
    "\n",
    "class GameConsole(EntertainmentDevice):\n",
    "    def connect_to_tv(self, television):\n",
    "        self.connect_to_device_via_hdmi_cable(television)\n",
    "\n",
    "    def connect_to_router(self, router):\n",
    "        self.connect_to_device_via_ethernet_cable(router)\n",
    "\n",
    "    def plug_in_power(self):\n",
    "        self.connect_device_to_power_outlet(self)\n",
    "\n",
    "\n",
    "class Router(EntertainmentDevice):\n",
    "    def connect_to_tv(self, television):\n",
    "        self.connect_to_device_via_ethernet_cable(television)\n",
    "\n",
    "    def connect_to_game_console(self, game_console):\n",
    "        self.connect_to_device_via_ethernet_cable(game_console)\n",
    "\n",
    "    def plug_in_power(self):\n",
    "        self.connect_device_to_power_outlet(self)"
   ]
  },
  {
   "cell_type": "markdown",
   "id": "57ba4167-6129-49c0-94b6-59d5cf3ffcf4",
   "metadata": {},
   "source": [
    "#### Good"
   ]
  },
  {
   "cell_type": "code",
   "execution_count": 50,
   "id": "5015a495-6646-4489-a22c-f318dcb104ae",
   "metadata": {},
   "outputs": [],
   "source": [
    "class HdmiConnectable:\n",
    "    def connect_via_hdmi(self, device):\n",
    "        pass\n",
    "\n",
    "    \n",
    "class RcaConnectable:\n",
    "    def connect_via_rca(self, device):\n",
    "        pass\n",
    "\n",
    "    \n",
    "class EthernetConnectable:\n",
    "    def connect_via_ethernet(self, device):\n",
    "        pass\n",
    "\n",
    "    \n",
    "class EntertainmentDevice:\n",
    "    def plug_in_power(self, device):\n",
    "        pass\n",
    "\n",
    "\n",
    "class Television(EntertainmentDevice, HdmiConnectable, RcaConnectable):\n",
    "    def connect_to_dvd(self, dvd_player):\n",
    "        self.connect_via_rca(dvd_player)\n",
    "\n",
    "    def connect_to_game_console(self, game_console):\n",
    "        self.connect_to_hdmi(game_console)\n",
    "\n",
    "\n",
    "class GameConsole(EntertainmentDevice, HdmiConnectable, EthernetConnectable):\n",
    "    def connect_to_tv(self, television):\n",
    "        self.connect_via_hdmi(television)\n",
    "\n",
    "    def connect_to_router(self, router):\n",
    "        self.connect_via_ethernet(router)\n",
    "\n",
    "\n",
    "class Router(EntertainmentDevice, EthernetConnectable):\n",
    "    def connect_to_tv(self, television):\n",
    "        self.connect_via_ethernet(television)\n",
    "\n",
    "    def connect_to_game_console(self, game_console):\n",
    "        self.connect_via_ethernet(game_console)"
   ]
  },
  {
   "cell_type": "code",
   "execution_count": null,
   "id": "068d67d0-2053-49d7-b161-6b567b7486b5",
   "metadata": {},
   "outputs": [],
   "source": []
  },
  {
   "cell_type": "markdown",
   "id": "d6bc7ab2-06a4-4f72-8d0c-a45832f1fe8b",
   "metadata": {
    "toc-hr-collapsed": true
   },
   "source": [
    "## 5 Dependency Inversion\n",
    "\n",
    "* Не разчитаме на конкретни неща, а на абстракция.\n",
    "* Логиката на метода да е абстрактна. Т.е. алгоритъмът съдържа стъпките ибори с параметри. Конкретиката кой форматр ползва е изкарана отвън."
   ]
  },
  {
   "cell_type": "markdown",
   "id": "daa8ceb7-d263-4e16-86ac-e36b48575edf",
   "metadata": {},
   "source": [
    "### Workers"
   ]
  },
  {
   "cell_type": "code",
   "execution_count": 57,
   "id": "bf6e23f2-9133-42f1-a587-eaceb9b918d6",
   "metadata": {},
   "outputs": [
    {
     "name": "stdout",
     "output_type": "stream",
     "text": [
      "I'm working!!!\n"
     ]
    }
   ],
   "source": [
    "class Worker:\n",
    "    def work(self):\n",
    "        print(\"I'm working!!!\")\n",
    "\n",
    "\n",
    "class SuperWorker():\n",
    "    pass\n",
    "\n",
    "\n",
    "class Manager:\n",
    "    def __init__(self):\n",
    "        self.workers = []\n",
    "        \n",
    "    def set_worker(self, worker):\n",
    "        self.workers.append(worker)\n",
    "    \n",
    "    def manage(self):\n",
    "        for worker in self.workers: \n",
    "            worker.work()\n",
    "\n",
    "\n",
    "\n",
    "worker = Worker()\n",
    "manager = Manager()\n",
    "manager.set_worker(worker)\n",
    "manager.manage()\n",
    "\n",
    "super_worker = SuperWorker()\n",
    "try:\n",
    "    manager.set_worker(super_worker)\n",
    "except AssertionError:\n",
    "    print(\"manager fails to support super_worker....\")"
   ]
  }
 ],
 "metadata": {
  "kernelspec": {
   "display_name": "Python 3 (ipykernel)",
   "language": "python",
   "name": "python3"
  },
  "language_info": {
   "codemirror_mode": {
    "name": "ipython",
    "version": 3
   },
   "file_extension": ".py",
   "mimetype": "text/x-python",
   "name": "python",
   "nbconvert_exporter": "python",
   "pygments_lexer": "ipython3",
   "version": "3.10.10"
  }
 },
 "nbformat": 4,
 "nbformat_minor": 5
}
